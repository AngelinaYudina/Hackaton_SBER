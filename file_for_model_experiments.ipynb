{
 "cells": [
  {
   "cell_type": "markdown",
   "metadata": {
    "toc": true
   },
   "source": [
    "<h1>Содержание<span class=\"tocSkip\"></span></h1>\n",
    "<div class=\"toc\"><ul class=\"toc-item\"><li><span><a href=\"#Домашнее-задание-для-Junior-DS-по-разработке-PD-модели\" data-toc-modified-id=\"Домашнее-задание-для-Junior-DS-по-разработке-PD-модели-1\"><span class=\"toc-item-num\">1&nbsp;&nbsp;</span>Домашнее задание для Junior DS по разработке PD модели</a></span><ul class=\"toc-item\"><li><ul class=\"toc-item\"><li><span><a href=\"#Импортируем-библиотеки\" data-toc-modified-id=\"Импортируем-библиотеки-1.0.1\"><span class=\"toc-item-num\">1.0.1&nbsp;&nbsp;</span>Импортируем библиотеки</a></span></li></ul></li><li><span><a href=\"#Обработка-данных\" data-toc-modified-id=\"Обработка-данных-1.1\"><span class=\"toc-item-num\">1.1&nbsp;&nbsp;</span>Обработка данных</a></span><ul class=\"toc-item\"><li><span><a href=\"#Загрузка-данных\" data-toc-modified-id=\"Загрузка-данных-1.1.1\"><span class=\"toc-item-num\">1.1.1&nbsp;&nbsp;</span>Загрузка данных</a></span></li><li><span><a href=\"#Первычный-анализ\" data-toc-modified-id=\"Первычный-анализ-1.1.2\"><span class=\"toc-item-num\">1.1.2&nbsp;&nbsp;</span>Первычный анализ</a></span></li><li><span><a href=\"#Обработка-пропусков,-выбросов-и-дубликатов\" data-toc-modified-id=\"Обработка-пропусков,-выбросов-и-дубликатов-1.1.3\"><span class=\"toc-item-num\">1.1.3&nbsp;&nbsp;</span>Обработка пропусков, выбросов и дубликатов</a></span></li><li><span><a href=\"#Баланс-классов\" data-toc-modified-id=\"Баланс-классов-1.1.4\"><span class=\"toc-item-num\">1.1.4&nbsp;&nbsp;</span>Баланс <em>классов</em></a></span></li><li><span><a href=\"#Обработаем-Выбросы-в-выборках-без-фин-отчетности-и-с-фин-отчетностью\" data-toc-modified-id=\"Обработаем-Выбросы-в-выборках-без-фин-отчетности-и-с-фин-отчетностью-1.1.5\"><span class=\"toc-item-num\">1.1.5&nbsp;&nbsp;</span>Обработаем Выбросы в выборках без фин отчетности и с фин отчетностью</a></span><ul class=\"toc-item\"><li><span><a href=\"#Выбросы-в-выборке-с-фин-отчетностью\" data-toc-modified-id=\"Выбросы-в-выборке-с-фин-отчетностью-1.1.5.1\"><span class=\"toc-item-num\">1.1.5.1&nbsp;&nbsp;</span>Выбросы в выборке с фин отчетностью</a></span></li><li><span><a href=\"#Выбросы-выборки-без-фин-данных\" data-toc-modified-id=\"Выбросы-выборки-без-фин-данных-1.1.5.2\"><span class=\"toc-item-num\">1.1.5.2&nbsp;&nbsp;</span>Выбросы выборки без фин данных</a></span></li></ul></li></ul></li><li><span><a href=\"#Feature-Engineering\" data-toc-modified-id=\"Feature-Engineering-1.2\"><span class=\"toc-item-num\">1.2&nbsp;&nbsp;</span>Feature Engineering</a></span></li><li><span><a href=\"#Отбор-признаков\" data-toc-modified-id=\"Отбор-признаков-1.3\"><span class=\"toc-item-num\">1.3&nbsp;&nbsp;</span>Отбор признаков</a></span><ul class=\"toc-item\"><li><span><a href=\"#WOE\" data-toc-modified-id=\"WOE-1.3.1\"><span class=\"toc-item-num\">1.3.1&nbsp;&nbsp;</span>WOE</a></span></li></ul></li><li><span><a href=\"#Модель\" data-toc-modified-id=\"Модель-1.4\"><span class=\"toc-item-num\">1.4&nbsp;&nbsp;</span>Модель</a></span><ul class=\"toc-item\"><li><span><a href=\"#Выгрузка-результата\" data-toc-modified-id=\"Выгрузка-результата-1.4.1\"><span class=\"toc-item-num\">1.4.1&nbsp;&nbsp;</span>Выгрузка результата</a></span></li></ul></li><li><span><a href=\"#Рекомендации\" data-toc-modified-id=\"Рекомендации-1.5\"><span class=\"toc-item-num\">1.5&nbsp;&nbsp;</span>Рекомендации</a></span></li></ul></li></ul></div>"
   ]
  },
  {
   "cell_type": "markdown",
   "metadata": {
    "id": "qb9mY_HmN913"
   },
   "source": [
    "# Домашнее задание для Junior DS по разработке PD модели"
   ]
  },
  {
   "cell_type": "markdown",
   "metadata": {
    "id": "NbqnB_V8N915"
   },
   "source": [
    "<b>Задание:</b> Необходимо разработать модель предсказания дефолта. Даны финансовые данные 32 395 компаний (выручка, активы, пассивы и т.д). Результат будет оцениваться на скрытой выборке из 200 компаний по метрике качества accuracy_score\n",
    "\n",
    "<b>Цель задания</b> научиться / показать знания в разработке моделей оценки риска - probability of default. Задание приближено к реальному, данные синтетические. Лидерборд для оценки собственного решения и геймификации процесса обучения. Первое место в лидерборде не является целью. Цель - правильно разработанная модель, удовлетворяющая требованиям банковской системы. В случае возникновения вопросов, сотрудники блока Риски готовы проконсультировать и дать обратную связь на модель (телеграм чат).\n",
    "\n",
    "<b>Метрика качества</b> accuracy_score вычисляется, как ( True positive + True negative ) / Total. Если сабмит-файл, неправильного формата или неверное количество строк, метрика будет = 0."
   ]
  },
  {
   "cell_type": "markdown",
   "metadata": {
    "id": "EJ9_SMqyN916"
   },
   "source": [
    "### Импортируем библиотеки"
   ]
  },
  {
   "cell_type": "code",
   "execution_count": 1,
   "metadata": {
    "id": "Vo4g-4Y5N917"
   },
   "outputs": [],
   "source": [
    "import pandas as pd\n",
    "import numpy as np\n",
    "from sklearn.metrics import f1_score\n",
    "from matplotlib import pyplot as plt\n",
    "import seaborn as sns\n",
    "from sklearn.feature_selection import RFECV\n",
    "from sklearn.model_selection import StratifiedKFold\n",
    "from imblearn.over_sampling import SMOTE\n",
    "from sklearn import preprocessing\n",
    "from sklearn.preprocessing import StandardScaler\n",
    "from sklearn.model_selection import cross_val_score\n",
    "from sklearn.model_selection import train_test_split\n",
    "from sklearn.linear_model import LogisticRegression\n",
    "from imblearn.pipeline import Pipeline\n",
    "from sklearn.model_selection import GridSearchCV\n",
    "from sklearn.metrics import accuracy_score\n",
    "from imblearn.over_sampling import SMOTE\n",
    "from scipy import stats \n",
    "pd.set_option('display.max_rows', 500)\n",
    "pd.set_option('display.max_columns', 500)\n",
    "import warnings\n",
    "from pandas.core.common import SettingWithCopyWarning\n",
    "warnings.simplefilter(action=\"ignore\", category=SettingWithCopyWarning)\n",
    "warnings.simplefilter(action='ignore', category=FutureWarning)\n",
    "warnings.simplefilter(action='ignore', category=RuntimeWarning)"
   ]
  },
  {
   "cell_type": "markdown",
   "metadata": {
    "id": "4k8ndBMHN92A"
   },
   "source": [
    "## Обработка данных\n"
   ]
  },
  {
   "cell_type": "markdown",
   "metadata": {
    "id": "kGw5THHCJAaJ"
   },
   "source": [
    "### Загрузка данных"
   ]
  },
  {
   "cell_type": "code",
   "execution_count": 2,
   "metadata": {
    "id": "XwbL4T6rN92G"
   },
   "outputs": [],
   "source": [
    "train_df = pd.read_csv('https://raw.githubusercontent.com/BKHV/risk_models/master/data/PD-data-train.csv', sep=';')\n",
    "test_df = pd.read_csv('https://raw.githubusercontent.com/BKHV/risk_models/master/data/PD-data-test.csv', sep=';')\n",
    "desc_df = pd.read_csv('https://raw.githubusercontent.com/BKHV/risk_models/master/data/PD-data-desc.csv', sep=';')"
   ]
  },
  {
   "cell_type": "code",
   "execution_count": 3,
   "metadata": {},
   "outputs": [],
   "source": [
    "# Тута технический код на него не надо смотреть\n",
    "class Grapher:\n",
    "    def __init__(self, \n",
    "                 train, test=[], target_col = 'default_12m',\n",
    "                 figsize = (10,5), target_colors = {0:'gray',1:'red'}\n",
    "                 ):         \n",
    "\n",
    "        self.df_original = (train,test)\n",
    "        self.target = train[target_col]\n",
    "        self.df = train.drop(columns=[target_col])\n",
    "        self.dfs_by_target = [train[train[target_col]==target_value] for target_value in train[target_col].unique()]\n",
    "\n",
    "        self.test = test\n",
    "\n",
    "        self.plt_figsize = figsize\n",
    "        self.plt_colored_target = self.target.map(target_colors)\n",
    "        self.fplt_dims = {self.scatter:2,\n",
    "                          self.scatter3d:3,\n",
    "                          self.hist:1}\n",
    "\n",
    "    def show_cyclic(self,fplt):\n",
    "        '''\n",
    "        shows #[n-constant] fplt plots of df with cyclic change in the dimensions\n",
    "        Example:\n",
    "            g = Grapher( pd.DataFrame({a:[],b:[],c:[]}) )\n",
    "            g.show_cyclic(g.scatter) \n",
    "            -> \n",
    "            prints scatter plots with cyclic change in the dimensions:\n",
    "            g.scatter(a,b);g.scatter(b,c);g.scatter(c,a)\n",
    "        !: \n",
    "            it will show #[n-constant] graphics (it is almost always less than #qty of df columns)\n",
    "        '''\n",
    "\n",
    "        n=self.fplt_dims[fplt]\n",
    "        index_start = 0\n",
    "        for i in range(len(self.df.columns)-n):\n",
    "            fplt(*(self.df.columns[0+i:n+i]))\n",
    "\n",
    "    \n",
    "    def show_all(self,fplt):\n",
    "        '''\n",
    "        shows all possible fplt plots of df\n",
    "        Example:\n",
    "            g = Grapher( pd.DataFrame({a:[],b:[],c:[]}) )\n",
    "            g.show_all(g.scatter) \n",
    "            -> \n",
    "            prints all possible scatter plots:\n",
    "            g.scatter(a,b);g.scatter(a,c);g.scatter(b,c)\n",
    "        !: \n",
    "            if many df columns then there are too many graphs to show\n",
    "        '''\n",
    "\n",
    "        from itertools import combinations as combi\n",
    "        n=self.fplt_dims[fplt]\n",
    "\n",
    "        for dims in combi(self.df.columns,n):\n",
    "            fplt(*dims)\n",
    "\n",
    "    def show_separate(self, fplt):\n",
    "        '''\n",
    "        should show 3 fplt plots side by side: \n",
    "        {{default+alive,default,alive}}\n",
    "        In general should show n+1 fplt plots side by side:\n",
    "        {{everething, target_group_1, target_group_2, ... , target_group_n}}\n",
    "        '''\n",
    "        # all = self.df\n",
    "        # dead = all[self.target == 1]\n",
    "        # alive = all[all[self.target != 1]\n",
    "\n",
    "        # all = Grapher(train=all)\n",
    "        # dead = Grapher(train=dead)\n",
    "        # alive = Grapher(train=alive)\n",
    "\n",
    "        # all.scatter3d()\n",
    "        # dead.scatter3d()\n",
    "        # alive.scatter3d()\n",
    "        pass\n",
    "    \n",
    "    def scatter(self,\n",
    "                x_name = 'bus_age', y_name = 'ul_capital_sum',\n",
    "                alpha = 0.3,\n",
    "                xscale = 'linear',\n",
    "                yscale = 'linear'\n",
    "                ):\n",
    "        \n",
    "        fig, ax = plt.subplots(figsize=self.plt_figsize)\n",
    "\n",
    "        ax.scatter(\n",
    "                x = self.df[x_name], \n",
    "                y = self.df[y_name], \n",
    "                c = self.plt_colored_target,\n",
    "                alpha = alpha\n",
    "                )\n",
    "        ax.set_xscale(xscale)\n",
    "        ax.set_yscale(yscale)\n",
    "        plt.xlabel(x_name)\n",
    "        plt.ylabel(y_name)\n",
    "\n",
    "        plt.show()\n",
    "\n",
    "    def scatter3d(self,\n",
    "                  x_name='ul_capital_sum',\n",
    "                  y_name='ul_founders_cnt',\n",
    "                  z_name='bus_age',\n",
    "                  alpha = 0.3,\n",
    "                  xscale = 'linear',\n",
    "                  yscale = 'linear',\n",
    "                  zscale = 'linear'):\n",
    "        \n",
    "        fig = plt.figure(figsize=self.plt_figsize)\n",
    "        ax = fig.add_subplot(projection='3d')\n",
    "\n",
    "        ax.scatter(self.df[x_name], \n",
    "                   self.df[y_name], \n",
    "                   self.df[z_name], \n",
    "                   c = self.plt_colored_target,\n",
    "                   alpha = alpha)\n",
    "        \n",
    "        ax.set_xscale(xscale)\n",
    "        ax.set_yscale(yscale)\n",
    "        ax.set_zscale(zscale)\n",
    "        ax.set_xlabel(x_name)\n",
    "        ax.set_ylabel(y_name)\n",
    "        ax.set_zlabel(z_name)\n",
    "\n",
    "        plt.show()\n",
    "\n",
    "    def hist(self,\n",
    "             x_name='ar_revenue',\n",
    "             n_bins = 30,\n",
    "             alpha = 0.3,\n",
    "             xscale = 'linear',):\n",
    "        \n",
    "        fig, ax =  plt.subplots(figsize=self.plt_figsize)\n",
    "\n",
    "        \n",
    "        # for i,color in self.plt_colored_target.items():\n",
    "        dim_0 = self.df[self.target == 0][x_name]\n",
    "        dim_1 = self.df[self.target != 0][x_name]\n",
    "        ax.hist(dim_0, n_bins, stacked=True, density=False,color='Gray')\n",
    "        ax.hist(dim_1, n_bins, stacked=True, density=False,color='Red')\n",
    "        ax.set_title(x_name)\n",
    "\n",
    "\n",
    "        # ax.set_ylabel('Scores')\n",
    "        # ax.set_title('Scores by group and gender')\n",
    "        # ax.legend()\n",
    "\n",
    "        plt.show()\n",
    "\n",
    "    def hist3d(self, n_bins = 10):\n",
    "        pass\n",
    "\n",
    "df_ab = train_df.iloc[:,:24]\n",
    "df_ab['default_12m'] = train_df['default_12m'] \n",
    "\n",
    "size = (6,3)\n",
    "g = Grapher(train = df_ab, figsize=size)\n",
    "gt = Grapher(train = df_ab[df_ab.default_12m == 0], figsize=size)\n",
    "gm = Grapher(train = df_ab[df_ab.default_12m != 0], figsize=size)"
   ]
  },
  {
   "cell_type": "markdown",
   "metadata": {
    "id": "5gJ1J2LxJNbK"
   },
   "source": [
    "### Первычный анализ"
   ]
  },
  {
   "cell_type": "code",
   "execution_count": 4,
   "metadata": {
    "colab": {
     "base_uri": "https://localhost:8080/",
     "height": 379
    },
    "id": "iYLV8T0mm7qD",
    "outputId": "771e42b2-ccba-49eb-9790-5d777549b72d"
   },
   "outputs": [
    {
     "data": {
      "text/html": [
       "<div>\n",
       "<style scoped>\n",
       "    .dataframe tbody tr th:only-of-type {\n",
       "        vertical-align: middle;\n",
       "    }\n",
       "\n",
       "    .dataframe tbody tr th {\n",
       "        vertical-align: top;\n",
       "    }\n",
       "\n",
       "    .dataframe thead th {\n",
       "        text-align: right;\n",
       "    }\n",
       "</style>\n",
       "<table border=\"1\" class=\"dataframe\">\n",
       "  <thead>\n",
       "    <tr style=\"text-align: right;\">\n",
       "      <th></th>\n",
       "      <th>record_id</th>\n",
       "      <th>ar_revenue</th>\n",
       "      <th>ar_total_expenses</th>\n",
       "      <th>ar_sale_cost</th>\n",
       "      <th>ar_selling_expenses</th>\n",
       "      <th>ar_management_expenses</th>\n",
       "      <th>ar_sale_profit</th>\n",
       "      <th>ar_balance_of_rvns_and_expns</th>\n",
       "      <th>ar_profit_before_tax</th>\n",
       "      <th>ar_taxes</th>\n",
       "      <th>ar_other_profit_and_losses</th>\n",
       "      <th>ar_net_profit</th>\n",
       "      <th>ab_immobilized_assets</th>\n",
       "      <th>ab_mobile_current_assets</th>\n",
       "      <th>ab_inventory</th>\n",
       "      <th>ab_accounts_receivable</th>\n",
       "      <th>ab_other_current_assets</th>\n",
       "      <th>ab_cash_and_securities</th>\n",
       "      <th>ab_losses</th>\n",
       "      <th>ab_own_capital</th>\n",
       "      <th>ab_borrowed_capital</th>\n",
       "      <th>ab_long_term_liabilities</th>\n",
       "      <th>ab_short_term_borrowing</th>\n",
       "      <th>ab_accounts_payable</th>\n",
       "      <th>ab_other_borrowings</th>\n",
       "      <th>bus_age</th>\n",
       "      <th>ogrn_age</th>\n",
       "      <th>adr_actual_age</th>\n",
       "      <th>head_actual_age</th>\n",
       "      <th>cap_actual_age</th>\n",
       "      <th>ul_staff_range</th>\n",
       "      <th>ul_capital_sum</th>\n",
       "      <th>ul_founders_cnt</th>\n",
       "      <th>ul_branch_cnt</th>\n",
       "      <th>ul_strategic_flg</th>\n",
       "      <th>ul_systematizing_flg</th>\n",
       "      <th>default_12m</th>\n",
       "    </tr>\n",
       "  </thead>\n",
       "  <tbody>\n",
       "    <tr>\n",
       "      <th>0</th>\n",
       "      <td>7</td>\n",
       "      <td>52996000.0</td>\n",
       "      <td>48344000.0</td>\n",
       "      <td>48344000.0</td>\n",
       "      <td>0.0</td>\n",
       "      <td>0.0</td>\n",
       "      <td>4652000.0</td>\n",
       "      <td>-2608000.0</td>\n",
       "      <td>2044000.0</td>\n",
       "      <td>846000.0</td>\n",
       "      <td>0.0</td>\n",
       "      <td>1198000.0</td>\n",
       "      <td>0.0</td>\n",
       "      <td>7240000.0</td>\n",
       "      <td>4988000.0</td>\n",
       "      <td>2252000.0</td>\n",
       "      <td>0.0</td>\n",
       "      <td>255000.0</td>\n",
       "      <td>1198000.0</td>\n",
       "      <td>663000.0</td>\n",
       "      <td>15872000.0</td>\n",
       "      <td>0.0</td>\n",
       "      <td>11349000.0</td>\n",
       "      <td>4523000.0</td>\n",
       "      <td>0.0</td>\n",
       "      <td>198</td>\n",
       "      <td>136</td>\n",
       "      <td>3</td>\n",
       "      <td>3</td>\n",
       "      <td>3</td>\n",
       "      <td>[1-100]</td>\n",
       "      <td>50000.0</td>\n",
       "      <td>2</td>\n",
       "      <td>0</td>\n",
       "      <td>0</td>\n",
       "      <td>0</td>\n",
       "      <td>0</td>\n",
       "    </tr>\n",
       "    <tr>\n",
       "      <th>1</th>\n",
       "      <td>13</td>\n",
       "      <td>NaN</td>\n",
       "      <td>NaN</td>\n",
       "      <td>NaN</td>\n",
       "      <td>NaN</td>\n",
       "      <td>NaN</td>\n",
       "      <td>NaN</td>\n",
       "      <td>NaN</td>\n",
       "      <td>NaN</td>\n",
       "      <td>NaN</td>\n",
       "      <td>NaN</td>\n",
       "      <td>NaN</td>\n",
       "      <td>NaN</td>\n",
       "      <td>NaN</td>\n",
       "      <td>NaN</td>\n",
       "      <td>NaN</td>\n",
       "      <td>NaN</td>\n",
       "      <td>NaN</td>\n",
       "      <td>NaN</td>\n",
       "      <td>NaN</td>\n",
       "      <td>NaN</td>\n",
       "      <td>NaN</td>\n",
       "      <td>NaN</td>\n",
       "      <td>NaN</td>\n",
       "      <td>NaN</td>\n",
       "      <td>256</td>\n",
       "      <td>135</td>\n",
       "      <td>12</td>\n",
       "      <td>12</td>\n",
       "      <td>12</td>\n",
       "      <td>[1-100]</td>\n",
       "      <td>10000.0</td>\n",
       "      <td>5</td>\n",
       "      <td>0</td>\n",
       "      <td>0</td>\n",
       "      <td>0</td>\n",
       "      <td>0</td>\n",
       "    </tr>\n",
       "    <tr>\n",
       "      <th>2</th>\n",
       "      <td>18</td>\n",
       "      <td>NaN</td>\n",
       "      <td>NaN</td>\n",
       "      <td>NaN</td>\n",
       "      <td>NaN</td>\n",
       "      <td>NaN</td>\n",
       "      <td>NaN</td>\n",
       "      <td>NaN</td>\n",
       "      <td>NaN</td>\n",
       "      <td>NaN</td>\n",
       "      <td>NaN</td>\n",
       "      <td>NaN</td>\n",
       "      <td>NaN</td>\n",
       "      <td>NaN</td>\n",
       "      <td>NaN</td>\n",
       "      <td>NaN</td>\n",
       "      <td>NaN</td>\n",
       "      <td>NaN</td>\n",
       "      <td>NaN</td>\n",
       "      <td>NaN</td>\n",
       "      <td>NaN</td>\n",
       "      <td>NaN</td>\n",
       "      <td>NaN</td>\n",
       "      <td>NaN</td>\n",
       "      <td>NaN</td>\n",
       "      <td>33</td>\n",
       "      <td>33</td>\n",
       "      <td>28</td>\n",
       "      <td>28</td>\n",
       "      <td>28</td>\n",
       "      <td>[1-100]</td>\n",
       "      <td>10000.0</td>\n",
       "      <td>2</td>\n",
       "      <td>0</td>\n",
       "      <td>0</td>\n",
       "      <td>0</td>\n",
       "      <td>0</td>\n",
       "    </tr>\n",
       "    <tr>\n",
       "      <th>3</th>\n",
       "      <td>22</td>\n",
       "      <td>32049000.0</td>\n",
       "      <td>29568000.0</td>\n",
       "      <td>29568000.0</td>\n",
       "      <td>0.0</td>\n",
       "      <td>0.0</td>\n",
       "      <td>2481000.0</td>\n",
       "      <td>-260000.0</td>\n",
       "      <td>2221000.0</td>\n",
       "      <td>302000.0</td>\n",
       "      <td>0.0</td>\n",
       "      <td>1919000.0</td>\n",
       "      <td>0.0</td>\n",
       "      <td>4245000.0</td>\n",
       "      <td>4082000.0</td>\n",
       "      <td>163000.0</td>\n",
       "      <td>0.0</td>\n",
       "      <td>25000.0</td>\n",
       "      <td>1919000.0</td>\n",
       "      <td>2219000.0</td>\n",
       "      <td>3652000.0</td>\n",
       "      <td>0.0</td>\n",
       "      <td>3652000.0</td>\n",
       "      <td>0.0</td>\n",
       "      <td>0.0</td>\n",
       "      <td>185</td>\n",
       "      <td>139</td>\n",
       "      <td>8</td>\n",
       "      <td>8</td>\n",
       "      <td>8</td>\n",
       "      <td>[1-100]</td>\n",
       "      <td>300000.0</td>\n",
       "      <td>1</td>\n",
       "      <td>0</td>\n",
       "      <td>0</td>\n",
       "      <td>0</td>\n",
       "      <td>0</td>\n",
       "    </tr>\n",
       "    <tr>\n",
       "      <th>4</th>\n",
       "      <td>23</td>\n",
       "      <td>16458000.0</td>\n",
       "      <td>14935000.0</td>\n",
       "      <td>14935000.0</td>\n",
       "      <td>0.0</td>\n",
       "      <td>0.0</td>\n",
       "      <td>1523000.0</td>\n",
       "      <td>-274000.0</td>\n",
       "      <td>1249000.0</td>\n",
       "      <td>538000.0</td>\n",
       "      <td>0.0</td>\n",
       "      <td>711000.0</td>\n",
       "      <td>0.0</td>\n",
       "      <td>8950000.0</td>\n",
       "      <td>8606000.0</td>\n",
       "      <td>344000.0</td>\n",
       "      <td>0.0</td>\n",
       "      <td>492000.0</td>\n",
       "      <td>711000.0</td>\n",
       "      <td>12439000.0</td>\n",
       "      <td>1279000.0</td>\n",
       "      <td>0.0</td>\n",
       "      <td>0.0</td>\n",
       "      <td>1279000.0</td>\n",
       "      <td>0.0</td>\n",
       "      <td>220</td>\n",
       "      <td>138</td>\n",
       "      <td>27</td>\n",
       "      <td>27</td>\n",
       "      <td>27</td>\n",
       "      <td>[1-100]</td>\n",
       "      <td>10000.0</td>\n",
       "      <td>2</td>\n",
       "      <td>0</td>\n",
       "      <td>0</td>\n",
       "      <td>0</td>\n",
       "      <td>0</td>\n",
       "    </tr>\n",
       "    <tr>\n",
       "      <th>5</th>\n",
       "      <td>24</td>\n",
       "      <td>NaN</td>\n",
       "      <td>NaN</td>\n",
       "      <td>NaN</td>\n",
       "      <td>NaN</td>\n",
       "      <td>NaN</td>\n",
       "      <td>NaN</td>\n",
       "      <td>NaN</td>\n",
       "      <td>NaN</td>\n",
       "      <td>NaN</td>\n",
       "      <td>NaN</td>\n",
       "      <td>NaN</td>\n",
       "      <td>NaN</td>\n",
       "      <td>NaN</td>\n",
       "      <td>NaN</td>\n",
       "      <td>NaN</td>\n",
       "      <td>NaN</td>\n",
       "      <td>NaN</td>\n",
       "      <td>NaN</td>\n",
       "      <td>NaN</td>\n",
       "      <td>NaN</td>\n",
       "      <td>NaN</td>\n",
       "      <td>NaN</td>\n",
       "      <td>NaN</td>\n",
       "      <td>NaN</td>\n",
       "      <td>100</td>\n",
       "      <td>100</td>\n",
       "      <td>5</td>\n",
       "      <td>5</td>\n",
       "      <td>5</td>\n",
       "      <td>[1-100]</td>\n",
       "      <td>350000.0</td>\n",
       "      <td>1</td>\n",
       "      <td>0</td>\n",
       "      <td>0</td>\n",
       "      <td>0</td>\n",
       "      <td>0</td>\n",
       "    </tr>\n",
       "    <tr>\n",
       "      <th>6</th>\n",
       "      <td>30</td>\n",
       "      <td>NaN</td>\n",
       "      <td>NaN</td>\n",
       "      <td>NaN</td>\n",
       "      <td>NaN</td>\n",
       "      <td>NaN</td>\n",
       "      <td>NaN</td>\n",
       "      <td>NaN</td>\n",
       "      <td>NaN</td>\n",
       "      <td>NaN</td>\n",
       "      <td>NaN</td>\n",
       "      <td>NaN</td>\n",
       "      <td>NaN</td>\n",
       "      <td>NaN</td>\n",
       "      <td>NaN</td>\n",
       "      <td>NaN</td>\n",
       "      <td>NaN</td>\n",
       "      <td>NaN</td>\n",
       "      <td>NaN</td>\n",
       "      <td>NaN</td>\n",
       "      <td>NaN</td>\n",
       "      <td>NaN</td>\n",
       "      <td>NaN</td>\n",
       "      <td>NaN</td>\n",
       "      <td>NaN</td>\n",
       "      <td>266</td>\n",
       "      <td>27</td>\n",
       "      <td>7</td>\n",
       "      <td>7</td>\n",
       "      <td>7</td>\n",
       "      <td>[1-100]</td>\n",
       "      <td>35000.0</td>\n",
       "      <td>3</td>\n",
       "      <td>0</td>\n",
       "      <td>0</td>\n",
       "      <td>0</td>\n",
       "      <td>0</td>\n",
       "    </tr>\n",
       "    <tr>\n",
       "      <th>7</th>\n",
       "      <td>37</td>\n",
       "      <td>NaN</td>\n",
       "      <td>NaN</td>\n",
       "      <td>NaN</td>\n",
       "      <td>NaN</td>\n",
       "      <td>NaN</td>\n",
       "      <td>NaN</td>\n",
       "      <td>NaN</td>\n",
       "      <td>NaN</td>\n",
       "      <td>NaN</td>\n",
       "      <td>NaN</td>\n",
       "      <td>NaN</td>\n",
       "      <td>NaN</td>\n",
       "      <td>NaN</td>\n",
       "      <td>NaN</td>\n",
       "      <td>NaN</td>\n",
       "      <td>NaN</td>\n",
       "      <td>NaN</td>\n",
       "      <td>NaN</td>\n",
       "      <td>NaN</td>\n",
       "      <td>NaN</td>\n",
       "      <td>NaN</td>\n",
       "      <td>NaN</td>\n",
       "      <td>NaN</td>\n",
       "      <td>NaN</td>\n",
       "      <td>31</td>\n",
       "      <td>31</td>\n",
       "      <td>30</td>\n",
       "      <td>30</td>\n",
       "      <td>30</td>\n",
       "      <td>[1-100]</td>\n",
       "      <td>10000.0</td>\n",
       "      <td>2</td>\n",
       "      <td>0</td>\n",
       "      <td>0</td>\n",
       "      <td>0</td>\n",
       "      <td>0</td>\n",
       "    </tr>\n",
       "    <tr>\n",
       "      <th>8</th>\n",
       "      <td>38</td>\n",
       "      <td>NaN</td>\n",
       "      <td>NaN</td>\n",
       "      <td>NaN</td>\n",
       "      <td>NaN</td>\n",
       "      <td>NaN</td>\n",
       "      <td>NaN</td>\n",
       "      <td>NaN</td>\n",
       "      <td>NaN</td>\n",
       "      <td>NaN</td>\n",
       "      <td>NaN</td>\n",
       "      <td>NaN</td>\n",
       "      <td>NaN</td>\n",
       "      <td>NaN</td>\n",
       "      <td>NaN</td>\n",
       "      <td>NaN</td>\n",
       "      <td>NaN</td>\n",
       "      <td>NaN</td>\n",
       "      <td>NaN</td>\n",
       "      <td>NaN</td>\n",
       "      <td>NaN</td>\n",
       "      <td>NaN</td>\n",
       "      <td>NaN</td>\n",
       "      <td>NaN</td>\n",
       "      <td>NaN</td>\n",
       "      <td>27</td>\n",
       "      <td>27</td>\n",
       "      <td>26</td>\n",
       "      <td>26</td>\n",
       "      <td>26</td>\n",
       "      <td>[1-100]</td>\n",
       "      <td>10000.0</td>\n",
       "      <td>1</td>\n",
       "      <td>0</td>\n",
       "      <td>0</td>\n",
       "      <td>0</td>\n",
       "      <td>0</td>\n",
       "    </tr>\n",
       "    <tr>\n",
       "      <th>9</th>\n",
       "      <td>40</td>\n",
       "      <td>125432000.0</td>\n",
       "      <td>122655000.0</td>\n",
       "      <td>122655000.0</td>\n",
       "      <td>0.0</td>\n",
       "      <td>0.0</td>\n",
       "      <td>2777000.0</td>\n",
       "      <td>-63000.0</td>\n",
       "      <td>2714000.0</td>\n",
       "      <td>579000.0</td>\n",
       "      <td>0.0</td>\n",
       "      <td>2135000.0</td>\n",
       "      <td>0.0</td>\n",
       "      <td>24680000.0</td>\n",
       "      <td>8263000.0</td>\n",
       "      <td>16417000.0</td>\n",
       "      <td>0.0</td>\n",
       "      <td>106000.0</td>\n",
       "      <td>2135000.0</td>\n",
       "      <td>11267000.0</td>\n",
       "      <td>11912000.0</td>\n",
       "      <td>0.0</td>\n",
       "      <td>13000.0</td>\n",
       "      <td>11899000.0</td>\n",
       "      <td>0.0</td>\n",
       "      <td>170</td>\n",
       "      <td>132</td>\n",
       "      <td>15</td>\n",
       "      <td>15</td>\n",
       "      <td>15</td>\n",
       "      <td>(100-500]</td>\n",
       "      <td>10000.0</td>\n",
       "      <td>2</td>\n",
       "      <td>0</td>\n",
       "      <td>0</td>\n",
       "      <td>0</td>\n",
       "      <td>0</td>\n",
       "    </tr>\n",
       "  </tbody>\n",
       "</table>\n",
       "</div>"
      ],
      "text/plain": [
       "   record_id   ar_revenue  ar_total_expenses  ar_sale_cost  \\\n",
       "0          7   52996000.0         48344000.0    48344000.0   \n",
       "1         13          NaN                NaN           NaN   \n",
       "2         18          NaN                NaN           NaN   \n",
       "3         22   32049000.0         29568000.0    29568000.0   \n",
       "4         23   16458000.0         14935000.0    14935000.0   \n",
       "5         24          NaN                NaN           NaN   \n",
       "6         30          NaN                NaN           NaN   \n",
       "7         37          NaN                NaN           NaN   \n",
       "8         38          NaN                NaN           NaN   \n",
       "9         40  125432000.0        122655000.0   122655000.0   \n",
       "\n",
       "   ar_selling_expenses  ar_management_expenses  ar_sale_profit  \\\n",
       "0                  0.0                     0.0       4652000.0   \n",
       "1                  NaN                     NaN             NaN   \n",
       "2                  NaN                     NaN             NaN   \n",
       "3                  0.0                     0.0       2481000.0   \n",
       "4                  0.0                     0.0       1523000.0   \n",
       "5                  NaN                     NaN             NaN   \n",
       "6                  NaN                     NaN             NaN   \n",
       "7                  NaN                     NaN             NaN   \n",
       "8                  NaN                     NaN             NaN   \n",
       "9                  0.0                     0.0       2777000.0   \n",
       "\n",
       "   ar_balance_of_rvns_and_expns  ar_profit_before_tax  ar_taxes  \\\n",
       "0                    -2608000.0             2044000.0  846000.0   \n",
       "1                           NaN                   NaN       NaN   \n",
       "2                           NaN                   NaN       NaN   \n",
       "3                     -260000.0             2221000.0  302000.0   \n",
       "4                     -274000.0             1249000.0  538000.0   \n",
       "5                           NaN                   NaN       NaN   \n",
       "6                           NaN                   NaN       NaN   \n",
       "7                           NaN                   NaN       NaN   \n",
       "8                           NaN                   NaN       NaN   \n",
       "9                      -63000.0             2714000.0  579000.0   \n",
       "\n",
       "   ar_other_profit_and_losses  ar_net_profit  ab_immobilized_assets  \\\n",
       "0                         0.0      1198000.0                    0.0   \n",
       "1                         NaN            NaN                    NaN   \n",
       "2                         NaN            NaN                    NaN   \n",
       "3                         0.0      1919000.0                    0.0   \n",
       "4                         0.0       711000.0                    0.0   \n",
       "5                         NaN            NaN                    NaN   \n",
       "6                         NaN            NaN                    NaN   \n",
       "7                         NaN            NaN                    NaN   \n",
       "8                         NaN            NaN                    NaN   \n",
       "9                         0.0      2135000.0                    0.0   \n",
       "\n",
       "   ab_mobile_current_assets  ab_inventory  ab_accounts_receivable  \\\n",
       "0                 7240000.0     4988000.0               2252000.0   \n",
       "1                       NaN           NaN                     NaN   \n",
       "2                       NaN           NaN                     NaN   \n",
       "3                 4245000.0     4082000.0                163000.0   \n",
       "4                 8950000.0     8606000.0                344000.0   \n",
       "5                       NaN           NaN                     NaN   \n",
       "6                       NaN           NaN                     NaN   \n",
       "7                       NaN           NaN                     NaN   \n",
       "8                       NaN           NaN                     NaN   \n",
       "9                24680000.0     8263000.0              16417000.0   \n",
       "\n",
       "   ab_other_current_assets  ab_cash_and_securities  ab_losses  ab_own_capital  \\\n",
       "0                      0.0                255000.0  1198000.0        663000.0   \n",
       "1                      NaN                     NaN        NaN             NaN   \n",
       "2                      NaN                     NaN        NaN             NaN   \n",
       "3                      0.0                 25000.0  1919000.0       2219000.0   \n",
       "4                      0.0                492000.0   711000.0      12439000.0   \n",
       "5                      NaN                     NaN        NaN             NaN   \n",
       "6                      NaN                     NaN        NaN             NaN   \n",
       "7                      NaN                     NaN        NaN             NaN   \n",
       "8                      NaN                     NaN        NaN             NaN   \n",
       "9                      0.0                106000.0  2135000.0      11267000.0   \n",
       "\n",
       "   ab_borrowed_capital  ab_long_term_liabilities  ab_short_term_borrowing  \\\n",
       "0           15872000.0                       0.0               11349000.0   \n",
       "1                  NaN                       NaN                      NaN   \n",
       "2                  NaN                       NaN                      NaN   \n",
       "3            3652000.0                       0.0                3652000.0   \n",
       "4            1279000.0                       0.0                      0.0   \n",
       "5                  NaN                       NaN                      NaN   \n",
       "6                  NaN                       NaN                      NaN   \n",
       "7                  NaN                       NaN                      NaN   \n",
       "8                  NaN                       NaN                      NaN   \n",
       "9           11912000.0                       0.0                  13000.0   \n",
       "\n",
       "   ab_accounts_payable  ab_other_borrowings  bus_age  ogrn_age  \\\n",
       "0            4523000.0                  0.0      198       136   \n",
       "1                  NaN                  NaN      256       135   \n",
       "2                  NaN                  NaN       33        33   \n",
       "3                  0.0                  0.0      185       139   \n",
       "4            1279000.0                  0.0      220       138   \n",
       "5                  NaN                  NaN      100       100   \n",
       "6                  NaN                  NaN      266        27   \n",
       "7                  NaN                  NaN       31        31   \n",
       "8                  NaN                  NaN       27        27   \n",
       "9           11899000.0                  0.0      170       132   \n",
       "\n",
       "   adr_actual_age  head_actual_age  cap_actual_age ul_staff_range  \\\n",
       "0               3                3               3        [1-100]   \n",
       "1              12               12              12        [1-100]   \n",
       "2              28               28              28        [1-100]   \n",
       "3               8                8               8        [1-100]   \n",
       "4              27               27              27        [1-100]   \n",
       "5               5                5               5        [1-100]   \n",
       "6               7                7               7        [1-100]   \n",
       "7              30               30              30        [1-100]   \n",
       "8              26               26              26        [1-100]   \n",
       "9              15               15              15      (100-500]   \n",
       "\n",
       "   ul_capital_sum  ul_founders_cnt  ul_branch_cnt  ul_strategic_flg  \\\n",
       "0         50000.0                2              0                 0   \n",
       "1         10000.0                5              0                 0   \n",
       "2         10000.0                2              0                 0   \n",
       "3        300000.0                1              0                 0   \n",
       "4         10000.0                2              0                 0   \n",
       "5        350000.0                1              0                 0   \n",
       "6         35000.0                3              0                 0   \n",
       "7         10000.0                2              0                 0   \n",
       "8         10000.0                1              0                 0   \n",
       "9         10000.0                2              0                 0   \n",
       "\n",
       "   ul_systematizing_flg  default_12m  \n",
       "0                     0            0  \n",
       "1                     0            0  \n",
       "2                     0            0  \n",
       "3                     0            0  \n",
       "4                     0            0  \n",
       "5                     0            0  \n",
       "6                     0            0  \n",
       "7                     0            0  \n",
       "8                     0            0  \n",
       "9                     0            0  "
      ]
     },
     "execution_count": 4,
     "metadata": {},
     "output_type": "execute_result"
    }
   ],
   "source": [
    "train_df.head(10)"
   ]
  },
  {
   "cell_type": "markdown",
   "metadata": {
    "id": "PQgDXmx-QPs_"
   },
   "source": [
    "Рассмотрим описание колонок во второй таблице:"
   ]
  },
  {
   "cell_type": "code",
   "execution_count": 5,
   "metadata": {
    "colab": {
     "base_uri": "https://localhost:8080/",
     "height": 1000
    },
    "id": "15_jhk2bQPs_",
    "outputId": "1b98cdc7-a14d-4677-c957-9d566d4ee245",
    "scrolled": true
   },
   "outputs": [
    {
     "data": {
      "text/html": [
       "<div>\n",
       "<style scoped>\n",
       "    .dataframe tbody tr th:only-of-type {\n",
       "        vertical-align: middle;\n",
       "    }\n",
       "\n",
       "    .dataframe tbody tr th {\n",
       "        vertical-align: top;\n",
       "    }\n",
       "\n",
       "    .dataframe thead th {\n",
       "        text-align: right;\n",
       "    }\n",
       "</style>\n",
       "<table border=\"1\" class=\"dataframe\">\n",
       "  <thead>\n",
       "    <tr style=\"text-align: right;\">\n",
       "      <th></th>\n",
       "      <th>field</th>\n",
       "      <th>desc_eng</th>\n",
       "      <th>desc_rus</th>\n",
       "    </tr>\n",
       "  </thead>\n",
       "  <tbody>\n",
       "    <tr>\n",
       "      <th>0</th>\n",
       "      <td>ar_revenue</td>\n",
       "      <td>Sales revenue (at the end of the last year)</td>\n",
       "      <td>Выручка от реализации (на конец последнего года)</td>\n",
       "    </tr>\n",
       "    <tr>\n",
       "      <th>1</th>\n",
       "      <td>ar_total_expenses</td>\n",
       "      <td>Total expenses for the last year</td>\n",
       "      <td>Общие расходы за последний год</td>\n",
       "    </tr>\n",
       "    <tr>\n",
       "      <th>2</th>\n",
       "      <td>ar_sale_cost</td>\n",
       "      <td>Cost of sales (at the end of the last year)</td>\n",
       "      <td>Себестоимость продаж (на конец последнего года)</td>\n",
       "    </tr>\n",
       "    <tr>\n",
       "      <th>3</th>\n",
       "      <td>ar_selling_expenses</td>\n",
       "      <td>Selling expenses (at the end of the last year)</td>\n",
       "      <td>Коммерческие расходы (на конец последнего года)</td>\n",
       "    </tr>\n",
       "    <tr>\n",
       "      <th>4</th>\n",
       "      <td>ar_management_expenses</td>\n",
       "      <td>Administrative expenses (at the end of the las...</td>\n",
       "      <td>Управленческие расходы (на конец последнего года)</td>\n",
       "    </tr>\n",
       "    <tr>\n",
       "      <th>5</th>\n",
       "      <td>ar_sale_profit</td>\n",
       "      <td>Profit from sales (at the end of the last year)</td>\n",
       "      <td>Прибыль от реализации (на конец последнего года)</td>\n",
       "    </tr>\n",
       "    <tr>\n",
       "      <th>6</th>\n",
       "      <td>ar_balance_of_rvns_and_expns</td>\n",
       "      <td>Balance of income and expenses (at the end of ...</td>\n",
       "      <td>Баланс доходов и расходов (на конец последнего...</td>\n",
       "    </tr>\n",
       "    <tr>\n",
       "      <th>7</th>\n",
       "      <td>ar_profit_before_tax</td>\n",
       "      <td>Gross Profit (end of last year)</td>\n",
       "      <td>Валовая прибыль (на конец последнего года)</td>\n",
       "    </tr>\n",
       "    <tr>\n",
       "      <th>8</th>\n",
       "      <td>ar_taxes</td>\n",
       "      <td>Current income tax (at the end of the last year)</td>\n",
       "      <td>Текущий на налог на прибыль (на конец последне...</td>\n",
       "    </tr>\n",
       "    <tr>\n",
       "      <th>9</th>\n",
       "      <td>ar_other_profit_and_losses</td>\n",
       "      <td>Other income and expenses (at the end of the l...</td>\n",
       "      <td>Прочие доходы и расходы (на конец последнего г...</td>\n",
       "    </tr>\n",
       "    <tr>\n",
       "      <th>10</th>\n",
       "      <td>ar_net_profit</td>\n",
       "      <td>Net profit (at the end of the last year)</td>\n",
       "      <td>Чистая прибыль (на конец последнего года)</td>\n",
       "    </tr>\n",
       "    <tr>\n",
       "      <th>11</th>\n",
       "      <td>ab_immobilized_assets</td>\n",
       "      <td>Fixed assets for the last year</td>\n",
       "      <td>Основные внеоборотные средства за последний год</td>\n",
       "    </tr>\n",
       "    <tr>\n",
       "      <th>12</th>\n",
       "      <td>ab_mobile_current_assets</td>\n",
       "      <td>Current assets (at the end of the last year)</td>\n",
       "      <td>Оборотные активы (на конец последнего года)</td>\n",
       "    </tr>\n",
       "    <tr>\n",
       "      <th>13</th>\n",
       "      <td>ab_inventory</td>\n",
       "      <td>Stocks (at the end of the last year)</td>\n",
       "      <td>Запасы (на конец последнего года)</td>\n",
       "    </tr>\n",
       "    <tr>\n",
       "      <th>14</th>\n",
       "      <td>ab_accounts_receivable</td>\n",
       "      <td>Accounts receivable (at the end of the last year)</td>\n",
       "      <td>Дебиторская задолженность (на конец последнего...</td>\n",
       "    </tr>\n",
       "    <tr>\n",
       "      <th>15</th>\n",
       "      <td>ab_other_current_assets</td>\n",
       "      <td>Other current assets (at the end of the last y...</td>\n",
       "      <td>Прочие оборотные активы (на конец последнего г...</td>\n",
       "    </tr>\n",
       "    <tr>\n",
       "      <th>16</th>\n",
       "      <td>ab_cash_and_securities</td>\n",
       "      <td>Cash and cash equivalents (at the end of the l...</td>\n",
       "      <td>Денежные средства и денежные эквиваленты (на к...</td>\n",
       "    </tr>\n",
       "    <tr>\n",
       "      <th>17</th>\n",
       "      <td>ab_losses</td>\n",
       "      <td>Retained earnings (at the end of the last year)</td>\n",
       "      <td>Нераспределенная прибыль (на конец последнего ...</td>\n",
       "    </tr>\n",
       "    <tr>\n",
       "      <th>18</th>\n",
       "      <td>ab_own_capital</td>\n",
       "      <td>Capital (at the end of the last year)</td>\n",
       "      <td>Капитал (на конец последнего года)</td>\n",
       "    </tr>\n",
       "    <tr>\n",
       "      <th>19</th>\n",
       "      <td>ab_borrowed_capital</td>\n",
       "      <td>Total debt (end of last year)</td>\n",
       "      <td>Общие долговые обязательства (на конец последн...</td>\n",
       "    </tr>\n",
       "    <tr>\n",
       "      <th>20</th>\n",
       "      <td>ab_long_term_liabilities</td>\n",
       "      <td>Long-term liabilities (at the end of the last ...</td>\n",
       "      <td>Долгосрочный обязательства (на конец последнег...</td>\n",
       "    </tr>\n",
       "    <tr>\n",
       "      <th>21</th>\n",
       "      <td>ab_short_term_borrowing</td>\n",
       "      <td>Short-term borrowed funds (at the end of the l...</td>\n",
       "      <td>Краткосрочные заемные средства (на конец после...</td>\n",
       "    </tr>\n",
       "    <tr>\n",
       "      <th>22</th>\n",
       "      <td>ab_accounts_payable</td>\n",
       "      <td>Accounts payable for the last year</td>\n",
       "      <td>Кредиторская задодженность за последний год</td>\n",
       "    </tr>\n",
       "    <tr>\n",
       "      <th>23</th>\n",
       "      <td>ab_other_borrowings</td>\n",
       "      <td>Other liabilities (at the end of the last year)</td>\n",
       "      <td>Прочие обязательства (на конец последнего года)</td>\n",
       "    </tr>\n",
       "    <tr>\n",
       "      <th>24</th>\n",
       "      <td>bus_age</td>\n",
       "      <td>Business duration</td>\n",
       "      <td>Срок ведения бизнеса</td>\n",
       "    </tr>\n",
       "    <tr>\n",
       "      <th>25</th>\n",
       "      <td>ogrn_age</td>\n",
       "      <td>Term from the moment the PSRN was assigned</td>\n",
       "      <td>Срок с момента присваивания ОГРН</td>\n",
       "    </tr>\n",
       "    <tr>\n",
       "      <th>26</th>\n",
       "      <td>adr_actual_age</td>\n",
       "      <td>Term from the date of registration of the lega...</td>\n",
       "      <td>Срок с момента регистрации юридического адреса</td>\n",
       "    </tr>\n",
       "    <tr>\n",
       "      <th>27</th>\n",
       "      <td>head_actual_age</td>\n",
       "      <td>Term since the appointment of the head</td>\n",
       "      <td>Срок с момента назначения руководителя</td>\n",
       "    </tr>\n",
       "    <tr>\n",
       "      <th>28</th>\n",
       "      <td>cap_actual_age</td>\n",
       "      <td>Term from the moment of capital installation</td>\n",
       "      <td>Срок с момента установки капитала</td>\n",
       "    </tr>\n",
       "    <tr>\n",
       "      <th>29</th>\n",
       "      <td>ul_staff_range</td>\n",
       "      <td>The number of employees</td>\n",
       "      <td>Количество сотрудников</td>\n",
       "    </tr>\n",
       "    <tr>\n",
       "      <th>30</th>\n",
       "      <td>ul_capital_sum</td>\n",
       "      <td>Capital amount</td>\n",
       "      <td>Величина капитала</td>\n",
       "    </tr>\n",
       "    <tr>\n",
       "      <th>31</th>\n",
       "      <td>ul_founders_cnt</td>\n",
       "      <td>Number of shareholders</td>\n",
       "      <td>Количество акционеров</td>\n",
       "    </tr>\n",
       "    <tr>\n",
       "      <th>32</th>\n",
       "      <td>ul_branch_cnt</td>\n",
       "      <td>Number of branches</td>\n",
       "      <td>Количество филиалов</td>\n",
       "    </tr>\n",
       "    <tr>\n",
       "      <th>33</th>\n",
       "      <td>ul_strategic_flg</td>\n",
       "      <td>A company of strategic importance</td>\n",
       "      <td>Компания стратегического значения</td>\n",
       "    </tr>\n",
       "    <tr>\n",
       "      <th>34</th>\n",
       "      <td>ul_systematizing_flg</td>\n",
       "      <td>Backbone company</td>\n",
       "      <td>Системообразующая компания</td>\n",
       "    </tr>\n",
       "  </tbody>\n",
       "</table>\n",
       "</div>"
      ],
      "text/plain": [
       "                           field  \\\n",
       "0                     ar_revenue   \n",
       "1              ar_total_expenses   \n",
       "2                   ar_sale_cost   \n",
       "3            ar_selling_expenses   \n",
       "4         ar_management_expenses   \n",
       "5                 ar_sale_profit   \n",
       "6   ar_balance_of_rvns_and_expns   \n",
       "7           ar_profit_before_tax   \n",
       "8                       ar_taxes   \n",
       "9     ar_other_profit_and_losses   \n",
       "10                 ar_net_profit   \n",
       "11         ab_immobilized_assets   \n",
       "12      ab_mobile_current_assets   \n",
       "13                  ab_inventory   \n",
       "14        ab_accounts_receivable   \n",
       "15       ab_other_current_assets   \n",
       "16        ab_cash_and_securities   \n",
       "17                     ab_losses   \n",
       "18                ab_own_capital   \n",
       "19           ab_borrowed_capital   \n",
       "20      ab_long_term_liabilities   \n",
       "21       ab_short_term_borrowing   \n",
       "22           ab_accounts_payable   \n",
       "23           ab_other_borrowings   \n",
       "24                       bus_age   \n",
       "25                      ogrn_age   \n",
       "26                adr_actual_age   \n",
       "27               head_actual_age   \n",
       "28                cap_actual_age   \n",
       "29                ul_staff_range   \n",
       "30                ul_capital_sum   \n",
       "31               ul_founders_cnt   \n",
       "32                 ul_branch_cnt   \n",
       "33              ul_strategic_flg   \n",
       "34          ul_systematizing_flg   \n",
       "\n",
       "                                             desc_eng  \\\n",
       "0         Sales revenue (at the end of the last year)   \n",
       "1                    Total expenses for the last year   \n",
       "2         Cost of sales (at the end of the last year)   \n",
       "3      Selling expenses (at the end of the last year)   \n",
       "4   Administrative expenses (at the end of the las...   \n",
       "5     Profit from sales (at the end of the last year)   \n",
       "6   Balance of income and expenses (at the end of ...   \n",
       "7                     Gross Profit (end of last year)   \n",
       "8    Current income tax (at the end of the last year)   \n",
       "9   Other income and expenses (at the end of the l...   \n",
       "10           Net profit (at the end of the last year)   \n",
       "11                     Fixed assets for the last year   \n",
       "12       Current assets (at the end of the last year)   \n",
       "13               Stocks (at the end of the last year)   \n",
       "14  Accounts receivable (at the end of the last year)   \n",
       "15  Other current assets (at the end of the last y...   \n",
       "16  Cash and cash equivalents (at the end of the l...   \n",
       "17    Retained earnings (at the end of the last year)   \n",
       "18              Capital (at the end of the last year)   \n",
       "19                      Total debt (end of last year)   \n",
       "20  Long-term liabilities (at the end of the last ...   \n",
       "21  Short-term borrowed funds (at the end of the l...   \n",
       "22                 Accounts payable for the last year   \n",
       "23    Other liabilities (at the end of the last year)   \n",
       "24                                  Business duration   \n",
       "25         Term from the moment the PSRN was assigned   \n",
       "26  Term from the date of registration of the lega...   \n",
       "27             Term since the appointment of the head   \n",
       "28       Term from the moment of capital installation   \n",
       "29                            The number of employees   \n",
       "30                                     Capital amount   \n",
       "31                             Number of shareholders   \n",
       "32                                 Number of branches   \n",
       "33                  A company of strategic importance   \n",
       "34                                   Backbone company   \n",
       "\n",
       "                                             desc_rus  \n",
       "0    Выручка от реализации (на конец последнего года)  \n",
       "1                      Общие расходы за последний год  \n",
       "2     Себестоимость продаж (на конец последнего года)  \n",
       "3     Коммерческие расходы (на конец последнего года)  \n",
       "4   Управленческие расходы (на конец последнего года)  \n",
       "5    Прибыль от реализации (на конец последнего года)  \n",
       "6   Баланс доходов и расходов (на конец последнего...  \n",
       "7          Валовая прибыль (на конец последнего года)  \n",
       "8   Текущий на налог на прибыль (на конец последне...  \n",
       "9   Прочие доходы и расходы (на конец последнего г...  \n",
       "10          Чистая прибыль (на конец последнего года)  \n",
       "11    Основные внеоборотные средства за последний год  \n",
       "12        Оборотные активы (на конец последнего года)  \n",
       "13                  Запасы (на конец последнего года)  \n",
       "14  Дебиторская задолженность (на конец последнего...  \n",
       "15  Прочие оборотные активы (на конец последнего г...  \n",
       "16  Денежные средства и денежные эквиваленты (на к...  \n",
       "17  Нераспределенная прибыль (на конец последнего ...  \n",
       "18                 Капитал (на конец последнего года)  \n",
       "19  Общие долговые обязательства (на конец последн...  \n",
       "20  Долгосрочный обязательства (на конец последнег...  \n",
       "21  Краткосрочные заемные средства (на конец после...  \n",
       "22        Кредиторская задодженность за последний год  \n",
       "23    Прочие обязательства (на конец последнего года)  \n",
       "24                               Срок ведения бизнеса  \n",
       "25                   Срок с момента присваивания ОГРН  \n",
       "26     Срок с момента регистрации юридического адреса  \n",
       "27             Срок с момента назначения руководителя  \n",
       "28                  Срок с момента установки капитала  \n",
       "29                             Количество сотрудников  \n",
       "30                                  Величина капитала  \n",
       "31                              Количество акционеров  \n",
       "32                                Количество филиалов  \n",
       "33                  Компания стратегического значения  \n",
       "34                         Системообразующая компания  "
      ]
     },
     "execution_count": 5,
     "metadata": {},
     "output_type": "execute_result"
    }
   ],
   "source": [
    "desc_df.head(50)"
   ]
  },
  {
   "cell_type": "markdown",
   "metadata": {
    "id": "OdsMRnZJFmJ1"
   },
   "source": [
    "Признаки отражают финансовую отчетность компании. На основе этих признаков мы сможем расчитать финансовые мультипликаторы, которые будут яснее отображать финансовую устойчивость компании, а, соотсветственно, и лучше демонстрировать вероятность дефолта. "
   ]
  },
  {
   "cell_type": "code",
   "execution_count": 6,
   "metadata": {
    "colab": {
     "base_uri": "https://localhost:8080/"
    },
    "id": "K5qVqeywFmJ1",
    "outputId": "b0b10401-f56f-4446-e121-95b42e6d7094",
    "scrolled": true
   },
   "outputs": [
    {
     "name": "stdout",
     "output_type": "stream",
     "text": [
      "<class 'pandas.core.frame.DataFrame'>\n",
      "RangeIndex: 32395 entries, 0 to 32394\n",
      "Data columns (total 37 columns):\n",
      " #   Column                        Non-Null Count  Dtype  \n",
      "---  ------                        --------------  -----  \n",
      " 0   record_id                     32395 non-null  int64  \n",
      " 1   ar_revenue                    17250 non-null  float64\n",
      " 2   ar_total_expenses             17250 non-null  float64\n",
      " 3   ar_sale_cost                  17250 non-null  float64\n",
      " 4   ar_selling_expenses           17250 non-null  float64\n",
      " 5   ar_management_expenses        17250 non-null  float64\n",
      " 6   ar_sale_profit                17250 non-null  float64\n",
      " 7   ar_balance_of_rvns_and_expns  17250 non-null  float64\n",
      " 8   ar_profit_before_tax          17250 non-null  float64\n",
      " 9   ar_taxes                      17250 non-null  float64\n",
      " 10  ar_other_profit_and_losses    17250 non-null  float64\n",
      " 11  ar_net_profit                 17250 non-null  float64\n",
      " 12  ab_immobilized_assets         17250 non-null  float64\n",
      " 13  ab_mobile_current_assets      17250 non-null  float64\n",
      " 14  ab_inventory                  17250 non-null  float64\n",
      " 15  ab_accounts_receivable        17250 non-null  float64\n",
      " 16  ab_other_current_assets       17250 non-null  float64\n",
      " 17  ab_cash_and_securities        17250 non-null  float64\n",
      " 18  ab_losses                     17250 non-null  float64\n",
      " 19  ab_own_capital                17250 non-null  float64\n",
      " 20  ab_borrowed_capital           17250 non-null  float64\n",
      " 21  ab_long_term_liabilities      17250 non-null  float64\n",
      " 22  ab_short_term_borrowing       17250 non-null  float64\n",
      " 23  ab_accounts_payable           17250 non-null  float64\n",
      " 24  ab_other_borrowings           17250 non-null  float64\n",
      " 25  bus_age                       32395 non-null  int64  \n",
      " 26  ogrn_age                      32395 non-null  int64  \n",
      " 27  adr_actual_age                32395 non-null  int64  \n",
      " 28  head_actual_age               32395 non-null  int64  \n",
      " 29  cap_actual_age                32395 non-null  int64  \n",
      " 30  ul_staff_range                32395 non-null  object \n",
      " 31  ul_capital_sum                32395 non-null  float64\n",
      " 32  ul_founders_cnt               32395 non-null  int64  \n",
      " 33  ul_branch_cnt                 32395 non-null  int64  \n",
      " 34  ul_strategic_flg              32395 non-null  int64  \n",
      " 35  ul_systematizing_flg          32395 non-null  int64  \n",
      " 36  default_12m                   32395 non-null  int64  \n",
      "dtypes: float64(25), int64(11), object(1)\n",
      "memory usage: 9.1+ MB\n"
     ]
    }
   ],
   "source": [
    "train_df.info()"
   ]
  },
  {
   "cell_type": "markdown",
   "metadata": {
    "id": "9NO0kWBHFmJ7"
   },
   "source": [
    "У нас есть 1 категориальный признак. Это количество сотрудников.\n",
    "Можем закодировать через LabelEncoding, тк видна четкая иерархия. "
   ]
  },
  {
   "cell_type": "code",
   "execution_count": 7,
   "metadata": {
    "colab": {
     "base_uri": "https://localhost:8080/"
    },
    "id": "gCaxl_y-FmJ8",
    "outputId": "54c00a41-f39a-40b8-d0a4-a9046945f7b8",
    "scrolled": true
   },
   "outputs": [
    {
     "data": {
      "text/plain": [
       "[1-100]      29281\n",
       "(100-500]     2757\n",
       "> 500          357\n",
       "Name: ul_staff_range, dtype: int64"
      ]
     },
     "execution_count": 7,
     "metadata": {},
     "output_type": "execute_result"
    }
   ],
   "source": [
    "train_df['ul_staff_range'].value_counts()"
   ]
  },
  {
   "cell_type": "code",
   "execution_count": 8,
   "metadata": {
    "id": "EdMu3vTZFmJ8"
   },
   "outputs": [],
   "source": [
    "le = preprocessing.LabelEncoder()\n",
    "le.fit(train_df['ul_staff_range'])\n",
    "train_df['ul_staff_range'] = le.transform(train_df['ul_staff_range'])\n",
    "test_df['ul_staff_range'] = le.transform(test_df['ul_staff_range'])"
   ]
  },
  {
   "cell_type": "markdown",
   "metadata": {
    "id": "gA1GlVBcKiAj"
   },
   "source": [
    "Рассмотрим уникальные значения у каждого признака."
   ]
  },
  {
   "cell_type": "code",
   "execution_count": 9,
   "metadata": {
    "colab": {
     "base_uri": "https://localhost:8080/"
    },
    "id": "UpnskhA_FmJ9",
    "outputId": "55fefa17-d201-45ad-9625-5e57548a19f0",
    "scrolled": false
   },
   "outputs": [
    {
     "data": {
      "text/plain": [
       "record_id                       32395\n",
       "ar_revenue                      12893\n",
       "ar_total_expenses               12779\n",
       "ar_sale_cost                    12664\n",
       "ar_selling_expenses              1994\n",
       "ar_management_expenses           1093\n",
       "ar_sale_profit                   7163\n",
       "ar_balance_of_rvns_and_expns     5063\n",
       "ar_profit_before_tax             6526\n",
       "ar_taxes                         2247\n",
       "ar_other_profit_and_losses        595\n",
       "ar_net_profit                    6231\n",
       "ab_immobilized_assets            3498\n",
       "ab_mobile_current_assets        11222\n",
       "ab_inventory                     9143\n",
       "ab_accounts_receivable           8283\n",
       "ab_other_current_assets          1210\n",
       "ab_cash_and_securities           3677\n",
       "ab_losses                        6175\n",
       "ab_own_capital                   9090\n",
       "ab_borrowed_capital             10261\n",
       "ab_long_term_liabilities         2294\n",
       "ab_short_term_borrowing          4896\n",
       "ab_accounts_payable              8797\n",
       "ab_other_borrowings              1437\n",
       "bus_age                           315\n",
       "ogrn_age                          150\n",
       "adr_actual_age                     33\n",
       "head_actual_age                    33\n",
       "cap_actual_age                     33\n",
       "ul_staff_range                      3\n",
       "ul_capital_sum                   2980\n",
       "ul_founders_cnt                   278\n",
       "ul_branch_cnt                      13\n",
       "ul_strategic_flg                    2\n",
       "ul_systematizing_flg                1\n",
       "default_12m                         2\n",
       "dtype: int64"
      ]
     },
     "execution_count": 9,
     "metadata": {},
     "output_type": "execute_result"
    }
   ],
   "source": [
    "train_df.nunique()"
   ]
  },
  {
   "cell_type": "markdown",
   "metadata": {
    "id": "bLZvuydEKrMD"
   },
   "source": [
    "Видим, что признак ul_systematizing_flg имеет 1 уникальное значение. Удалим его. Также удалим record_id так как он не несет информативности для нашей задачи."
   ]
  },
  {
   "cell_type": "code",
   "execution_count": 10,
   "metadata": {
    "id": "HL_UWytOFmJ9"
   },
   "outputs": [],
   "source": [
    "train_df = train_df.drop(['record_id','ul_systematizing_flg'],axis = 1)"
   ]
  },
  {
   "cell_type": "markdown",
   "metadata": {
    "id": "z1Q-BD_ULHXl"
   },
   "source": [
    "### Обработка пропусков, выбросов и дубликатов"
   ]
  },
  {
   "cell_type": "markdown",
   "metadata": {
    "id": "f_2Gle14MXlX"
   },
   "source": [
    "Мы предполагаем что в train_df пропуски являются частью *предметной области*. Компании с пропусками просто не имеют/не предоставили своих бухгалтерских отчетов.\n",
    "\n",
    "Пропуски в train_df составляют 46% выборки, а в test_df 59% выборки. Более того, в train_df 2% дефолтов произошло с компаниями без пропусков, а 4% дефолтов с компаниями с пропусками. Это слишком большая потеря данных.\n",
    "\n",
    "Также заметим, что можно выделить две примерно одинаковые подвыборки: с финансовой отчетностью и без. Так как эти подвыборки очень различаются по своим вводным, будем рассматривать их раздельно.\n"
   ]
  },
  {
   "cell_type": "code",
   "execution_count": 11,
   "metadata": {
    "colab": {
     "base_uri": "https://localhost:8080/"
    },
    "id": "RusuPxEfLaxT",
    "outputId": "b67d8ee3-f965-47da-d90f-0033a70e9bc0"
   },
   "outputs": [
    {
     "name": "stdout",
     "output_type": "stream",
     "text": [
      "46.751% строк в train_df имеют пропуски\n",
      "59.0% строк в test_df имеют пропуски\n",
      "\n",
      "2.457% строк c пропусками из train_df объявили дефолт\n",
      "2.806% строк без пропусков из train_df объявили дефолт\n",
      "6.455% всего строк из train_df объявили дефолт\n"
     ]
    }
   ],
   "source": [
    "target = train_df['default_12m']\n",
    "\n",
    "print(f'{np.round((1-len(train_df.dropna()) / len(train_df)) * 100, 3)}% строк в train_df имеют пропуски')\n",
    "print(f'{np.round((1-len(test_df.dropna()) / len(test_df))* 100, 3)}% строк в test_df имеют пропуски')\n",
    "\n",
    "print()\n",
    "\n",
    "print(f'{np.round((train_df.dropna()[\"default_12m\"].sum() / train_df[\"default_12m\"].count()) * 100, 3)}\\\n",
    "% строк c пропусками из train_df объявили дефолт')\n",
    "\n",
    "a = pd.concat([train_df, train_df.dropna()]).drop_duplicates(keep=False)['default_12m']\n",
    "print(f'{np.round((a.sum()/train_df[\"default_12m\"].count())*100, 3)}% строк без пропусков из train_df объявили дефолт')\n",
    "print(f'{np.round((target.sum()/train_df[\"default_12m\"].count())*100, 3)}% всего строк из train_df объявили дефолт')"
   ]
  },
  {
   "cell_type": "markdown",
   "metadata": {
    "id": "6F7BO9BTXKNl"
   },
   "source": [
    "Подвыборки в трейне:"
   ]
  },
  {
   "cell_type": "code",
   "execution_count": 12,
   "metadata": {
    "colab": {
     "base_uri": "https://localhost:8080/",
     "height": 142
    },
    "id": "FwxbHewHXGQG",
    "outputId": "cadb3465-25b8-4f49-8258-b06d20190eff"
   },
   "outputs": [
    {
     "data": {
      "text/html": [
       "<div>\n",
       "<style scoped>\n",
       "    .dataframe tbody tr th:only-of-type {\n",
       "        vertical-align: middle;\n",
       "    }\n",
       "\n",
       "    .dataframe tbody tr th {\n",
       "        vertical-align: top;\n",
       "    }\n",
       "\n",
       "    .dataframe thead th {\n",
       "        text-align: right;\n",
       "    }\n",
       "</style>\n",
       "<table border=\"1\" class=\"dataframe\">\n",
       "  <thead>\n",
       "    <tr style=\"text-align: right;\">\n",
       "      <th></th>\n",
       "      <th>index</th>\n",
       "    </tr>\n",
       "    <tr>\n",
       "      <th>Кол-во пропусков</th>\n",
       "      <th></th>\n",
       "    </tr>\n",
       "  </thead>\n",
       "  <tbody>\n",
       "    <tr>\n",
       "      <th>0</th>\n",
       "      <td>17250</td>\n",
       "    </tr>\n",
       "    <tr>\n",
       "      <th>24</th>\n",
       "      <td>15145</td>\n",
       "    </tr>\n",
       "  </tbody>\n",
       "</table>\n",
       "</div>"
      ],
      "text/plain": [
       "                  index\n",
       "Кол-во пропусков       \n",
       "0                 17250\n",
       "24                15145"
      ]
     },
     "execution_count": 12,
     "metadata": {},
     "output_type": "execute_result"
    }
   ],
   "source": [
    "pd.DataFrame(\n",
    "    train_df\n",
    "    .isnull()\n",
    "    .T\n",
    "    .sum(), columns = [\"Кол-во пропусков\"]\n",
    "    )\\\n",
    "    .reset_index()\\\n",
    "    .groupby(\"Кол-во пропусков\")\\\n",
    "    .count()"
   ]
  },
  {
   "cell_type": "code",
   "execution_count": 13,
   "metadata": {
    "colab": {
     "base_uri": "https://localhost:8080/",
     "height": 162
    },
    "id": "EVavNNLrWHlH",
    "outputId": "70d60c70-1eca-49a3-d77f-03e267e30f3f"
   },
   "outputs": [
    {
     "data": {
      "text/html": [
       "<div>\n",
       "<style scoped>\n",
       "    .dataframe tbody tr th:only-of-type {\n",
       "        vertical-align: middle;\n",
       "    }\n",
       "\n",
       "    .dataframe tbody tr th {\n",
       "        vertical-align: top;\n",
       "    }\n",
       "\n",
       "    .dataframe thead th {\n",
       "        text-align: right;\n",
       "    }\n",
       "</style>\n",
       "<table border=\"1\" class=\"dataframe\">\n",
       "  <thead>\n",
       "    <tr style=\"text-align: right;\">\n",
       "      <th></th>\n",
       "      <th>ar_revenue</th>\n",
       "      <th>ar_total_expenses</th>\n",
       "      <th>ar_sale_cost</th>\n",
       "      <th>ar_selling_expenses</th>\n",
       "      <th>ar_management_expenses</th>\n",
       "      <th>ar_sale_profit</th>\n",
       "      <th>ar_balance_of_rvns_and_expns</th>\n",
       "      <th>ar_profit_before_tax</th>\n",
       "      <th>ar_taxes</th>\n",
       "      <th>ar_other_profit_and_losses</th>\n",
       "      <th>ar_net_profit</th>\n",
       "      <th>ab_immobilized_assets</th>\n",
       "      <th>ab_mobile_current_assets</th>\n",
       "      <th>ab_inventory</th>\n",
       "      <th>ab_accounts_receivable</th>\n",
       "      <th>ab_other_current_assets</th>\n",
       "      <th>ab_cash_and_securities</th>\n",
       "      <th>ab_losses</th>\n",
       "      <th>ab_own_capital</th>\n",
       "      <th>ab_borrowed_capital</th>\n",
       "      <th>ab_long_term_liabilities</th>\n",
       "      <th>ab_short_term_borrowing</th>\n",
       "      <th>ab_accounts_payable</th>\n",
       "      <th>ab_other_borrowings</th>\n",
       "      <th>bus_age</th>\n",
       "      <th>ogrn_age</th>\n",
       "      <th>adr_actual_age</th>\n",
       "      <th>head_actual_age</th>\n",
       "      <th>cap_actual_age</th>\n",
       "      <th>ul_staff_range</th>\n",
       "      <th>ul_capital_sum</th>\n",
       "      <th>ul_founders_cnt</th>\n",
       "      <th>ul_branch_cnt</th>\n",
       "      <th>ul_strategic_flg</th>\n",
       "      <th>default_12m</th>\n",
       "    </tr>\n",
       "  </thead>\n",
       "  <tbody>\n",
       "    <tr>\n",
       "      <th>1</th>\n",
       "      <td>NaN</td>\n",
       "      <td>NaN</td>\n",
       "      <td>NaN</td>\n",
       "      <td>NaN</td>\n",
       "      <td>NaN</td>\n",
       "      <td>NaN</td>\n",
       "      <td>NaN</td>\n",
       "      <td>NaN</td>\n",
       "      <td>NaN</td>\n",
       "      <td>NaN</td>\n",
       "      <td>NaN</td>\n",
       "      <td>NaN</td>\n",
       "      <td>NaN</td>\n",
       "      <td>NaN</td>\n",
       "      <td>NaN</td>\n",
       "      <td>NaN</td>\n",
       "      <td>NaN</td>\n",
       "      <td>NaN</td>\n",
       "      <td>NaN</td>\n",
       "      <td>NaN</td>\n",
       "      <td>NaN</td>\n",
       "      <td>NaN</td>\n",
       "      <td>NaN</td>\n",
       "      <td>NaN</td>\n",
       "      <td>256</td>\n",
       "      <td>135</td>\n",
       "      <td>12</td>\n",
       "      <td>12</td>\n",
       "      <td>12</td>\n",
       "      <td>2</td>\n",
       "      <td>10000.0</td>\n",
       "      <td>5</td>\n",
       "      <td>0</td>\n",
       "      <td>0</td>\n",
       "      <td>0</td>\n",
       "    </tr>\n",
       "    <tr>\n",
       "      <th>2</th>\n",
       "      <td>NaN</td>\n",
       "      <td>NaN</td>\n",
       "      <td>NaN</td>\n",
       "      <td>NaN</td>\n",
       "      <td>NaN</td>\n",
       "      <td>NaN</td>\n",
       "      <td>NaN</td>\n",
       "      <td>NaN</td>\n",
       "      <td>NaN</td>\n",
       "      <td>NaN</td>\n",
       "      <td>NaN</td>\n",
       "      <td>NaN</td>\n",
       "      <td>NaN</td>\n",
       "      <td>NaN</td>\n",
       "      <td>NaN</td>\n",
       "      <td>NaN</td>\n",
       "      <td>NaN</td>\n",
       "      <td>NaN</td>\n",
       "      <td>NaN</td>\n",
       "      <td>NaN</td>\n",
       "      <td>NaN</td>\n",
       "      <td>NaN</td>\n",
       "      <td>NaN</td>\n",
       "      <td>NaN</td>\n",
       "      <td>33</td>\n",
       "      <td>33</td>\n",
       "      <td>28</td>\n",
       "      <td>28</td>\n",
       "      <td>28</td>\n",
       "      <td>2</td>\n",
       "      <td>10000.0</td>\n",
       "      <td>2</td>\n",
       "      <td>0</td>\n",
       "      <td>0</td>\n",
       "      <td>0</td>\n",
       "    </tr>\n",
       "    <tr>\n",
       "      <th>5</th>\n",
       "      <td>NaN</td>\n",
       "      <td>NaN</td>\n",
       "      <td>NaN</td>\n",
       "      <td>NaN</td>\n",
       "      <td>NaN</td>\n",
       "      <td>NaN</td>\n",
       "      <td>NaN</td>\n",
       "      <td>NaN</td>\n",
       "      <td>NaN</td>\n",
       "      <td>NaN</td>\n",
       "      <td>NaN</td>\n",
       "      <td>NaN</td>\n",
       "      <td>NaN</td>\n",
       "      <td>NaN</td>\n",
       "      <td>NaN</td>\n",
       "      <td>NaN</td>\n",
       "      <td>NaN</td>\n",
       "      <td>NaN</td>\n",
       "      <td>NaN</td>\n",
       "      <td>NaN</td>\n",
       "      <td>NaN</td>\n",
       "      <td>NaN</td>\n",
       "      <td>NaN</td>\n",
       "      <td>NaN</td>\n",
       "      <td>100</td>\n",
       "      <td>100</td>\n",
       "      <td>5</td>\n",
       "      <td>5</td>\n",
       "      <td>5</td>\n",
       "      <td>2</td>\n",
       "      <td>350000.0</td>\n",
       "      <td>1</td>\n",
       "      <td>0</td>\n",
       "      <td>0</td>\n",
       "      <td>0</td>\n",
       "    </tr>\n",
       "  </tbody>\n",
       "</table>\n",
       "</div>"
      ],
      "text/plain": [
       "   ar_revenue  ar_total_expenses  ar_sale_cost  ar_selling_expenses  \\\n",
       "1         NaN                NaN           NaN                  NaN   \n",
       "2         NaN                NaN           NaN                  NaN   \n",
       "5         NaN                NaN           NaN                  NaN   \n",
       "\n",
       "   ar_management_expenses  ar_sale_profit  ar_balance_of_rvns_and_expns  \\\n",
       "1                     NaN             NaN                           NaN   \n",
       "2                     NaN             NaN                           NaN   \n",
       "5                     NaN             NaN                           NaN   \n",
       "\n",
       "   ar_profit_before_tax  ar_taxes  ar_other_profit_and_losses  ar_net_profit  \\\n",
       "1                   NaN       NaN                         NaN            NaN   \n",
       "2                   NaN       NaN                         NaN            NaN   \n",
       "5                   NaN       NaN                         NaN            NaN   \n",
       "\n",
       "   ab_immobilized_assets  ab_mobile_current_assets  ab_inventory  \\\n",
       "1                    NaN                       NaN           NaN   \n",
       "2                    NaN                       NaN           NaN   \n",
       "5                    NaN                       NaN           NaN   \n",
       "\n",
       "   ab_accounts_receivable  ab_other_current_assets  ab_cash_and_securities  \\\n",
       "1                     NaN                      NaN                     NaN   \n",
       "2                     NaN                      NaN                     NaN   \n",
       "5                     NaN                      NaN                     NaN   \n",
       "\n",
       "   ab_losses  ab_own_capital  ab_borrowed_capital  ab_long_term_liabilities  \\\n",
       "1        NaN             NaN                  NaN                       NaN   \n",
       "2        NaN             NaN                  NaN                       NaN   \n",
       "5        NaN             NaN                  NaN                       NaN   \n",
       "\n",
       "   ab_short_term_borrowing  ab_accounts_payable  ab_other_borrowings  bus_age  \\\n",
       "1                      NaN                  NaN                  NaN      256   \n",
       "2                      NaN                  NaN                  NaN       33   \n",
       "5                      NaN                  NaN                  NaN      100   \n",
       "\n",
       "   ogrn_age  adr_actual_age  head_actual_age  cap_actual_age  ul_staff_range  \\\n",
       "1       135              12               12              12               2   \n",
       "2        33              28               28              28               2   \n",
       "5       100               5                5               5               2   \n",
       "\n",
       "   ul_capital_sum  ul_founders_cnt  ul_branch_cnt  ul_strategic_flg  \\\n",
       "1         10000.0                5              0                 0   \n",
       "2         10000.0                2              0                 0   \n",
       "5        350000.0                1              0                 0   \n",
       "\n",
       "   default_12m  \n",
       "1            0  \n",
       "2            0  \n",
       "5            0  "
      ]
     },
     "execution_count": 13,
     "metadata": {},
     "output_type": "execute_result"
    }
   ],
   "source": [
    "sum_null_in_object = pd.DataFrame(train_df.isnull().T.sum(),columns = ['count_nans'])\n",
    "ids_with_24_nans = sum_null_in_object.query('count_nans == 24').index\n",
    "train_df.loc[ids_with_24_nans,:][:3]"
   ]
  },
  {
   "cell_type": "markdown",
   "metadata": {
    "id": "gcpUybjVXO6K"
   },
   "source": [
    "Подвыборки в тесте также присутствуют:"
   ]
  },
  {
   "cell_type": "code",
   "execution_count": 14,
   "metadata": {
    "colab": {
     "base_uri": "https://localhost:8080/",
     "height": 142
    },
    "id": "WDtRPpNDWa3t",
    "outputId": "ccdfaf94-4d67-44b8-9605-23d08efe7d0f"
   },
   "outputs": [
    {
     "data": {
      "text/html": [
       "<div>\n",
       "<style scoped>\n",
       "    .dataframe tbody tr th:only-of-type {\n",
       "        vertical-align: middle;\n",
       "    }\n",
       "\n",
       "    .dataframe tbody tr th {\n",
       "        vertical-align: top;\n",
       "    }\n",
       "\n",
       "    .dataframe thead th {\n",
       "        text-align: right;\n",
       "    }\n",
       "</style>\n",
       "<table border=\"1\" class=\"dataframe\">\n",
       "  <thead>\n",
       "    <tr style=\"text-align: right;\">\n",
       "      <th></th>\n",
       "      <th>index</th>\n",
       "    </tr>\n",
       "    <tr>\n",
       "      <th>Кол-во пропусков</th>\n",
       "      <th></th>\n",
       "    </tr>\n",
       "  </thead>\n",
       "  <tbody>\n",
       "    <tr>\n",
       "      <th>0</th>\n",
       "      <td>82</td>\n",
       "    </tr>\n",
       "    <tr>\n",
       "      <th>24</th>\n",
       "      <td>118</td>\n",
       "    </tr>\n",
       "  </tbody>\n",
       "</table>\n",
       "</div>"
      ],
      "text/plain": [
       "                  index\n",
       "Кол-во пропусков       \n",
       "0                    82\n",
       "24                  118"
      ]
     },
     "execution_count": 14,
     "metadata": {},
     "output_type": "execute_result"
    }
   ],
   "source": [
    "pd.DataFrame(\n",
    "    test_df\n",
    "    .isnull()\n",
    "    .T\n",
    "    .sum(), columns = [\"Кол-во пропусков\"]\n",
    "    )\\\n",
    "    .reset_index()\\\n",
    "    .groupby(\"Кол-во пропусков\")\\\n",
    "    .count()"
   ]
  },
  {
   "cell_type": "markdown",
   "metadata": {
    "id": "sHBllh3HM4D3"
   },
   "source": [
    "Существует немало компаний с одинаковыми значениями в статьях баланса. Более того на частных примерах мы увидили, что компании с одинаковыми значениями в статьях баланса по остальным признакам имеют минимальные различия.\n",
    "\n",
    "Будем считать эти строки дубликатами и удалим их из выборки."
   ]
  },
  {
   "cell_type": "code",
   "execution_count": 15,
   "metadata": {
    "colab": {
     "base_uri": "https://localhost:8080/"
    },
    "id": "cO8k3hcHMQ6V",
    "outputId": "2b11ba6b-1b00-4063-d344-8a4c691e8242"
   },
   "outputs": [
    {
     "name": "stdout",
     "output_type": "stream",
     "text": [
      "0.179% выборки train_df полные дубликаты\n",
      "25.739% выборки train_df дубликаты по статьям расхода\n",
      "30.952% выборки train_df дубликаты по НЕ статьям расхода\n"
     ]
    }
   ],
   "source": [
    "print(f'{np.round(train_df.duplicated().sum()/len(train_df), 3)}% выборки train_df полные дубликаты')\n",
    "\n",
    "a = pd.concat([train_df, train_df.dropna()]).drop_duplicates(keep=False)\n",
    "\n",
    "print(f'{np.round(100 * a.iloc[:,:24].duplicated().sum()/len(train_df), 3)}\\\n",
    "% выборки train_df дубликаты по статьям расхода')\n",
    "\n",
    "print(f'{np.round(100 * train_df.iloc[:,24:].duplicated().sum()/len(train_df), 3)}\\\n",
    "% выборки train_df дубликаты по НЕ статьям расхода')\n",
    "\n",
    "train_df = train_df.drop_duplicates() "
   ]
  },
  {
   "cell_type": "markdown",
   "metadata": {
    "id": "VZ7IKf1jS9lL"
   },
   "source": [
    "Мы заметили, что в некторых статьях есть отрицательные значения. По МСФО таких статей не должно существовать. Более того, таких компаний немного и они не объявляли дефолт. Однако если выбросить все отрицательные наблюдения, то мы теряем 87% выборки."
   ]
  },
  {
   "cell_type": "code",
   "execution_count": 16,
   "metadata": {
    "id": "AKgdeYR6S7yl"
   },
   "outputs": [],
   "source": [
    "def remove_all_negs(df = train_df):\n",
    "    k = df.min()\n",
    "    return remove_cols_negs(df = train_df, cols=k[k<0].keys())\n",
    "\n",
    "def remove_cols_negs(df = train_df, cols=[1*'ar_total_expenses',\n",
    "                                              1*'ar_sale_cost',\n",
    "                                              1*'ar_selling_expenses',\n",
    "                                              1*'ar_management_expenses',\n",
    "                                              0*'ar_sale_profit',\n",
    "                                              0*'ar_balance_of_rvns_and_expns',\n",
    "                                              0*'ar_profit_before_tax',\n",
    "                                              1*'ar_taxes',\n",
    "                                              0*'ar_other_profit_and_losses',\n",
    "                                              0*'ar_net_profit',\n",
    "                                              1*'ab_accounts_receivable',\n",
    "                                              1*'ab_other_current_assets',\n",
    "                                              1*'ab_losses',\n",
    "                                              1*'ab_own_capital',\n",
    "                                              1*'ab_long_term_liabilities',\n",
    "                                              1*'ab_short_term_borrowing',\n",
    "                                              1*'ab_other_borrowings']):\n",
    "    for column_with_negs in cols:\n",
    "        if column_with_negs == '':\n",
    "            continue\n",
    "        df = df[(train_df[column_with_negs]>=0) | (train_df[column_with_negs].isna())]\n",
    "    return df"
   ]
  },
  {
   "cell_type": "code",
   "execution_count": 17,
   "metadata": {
    "colab": {
     "base_uri": "https://localhost:8080/"
    },
    "id": "7ZNl0bb1TdCP",
    "outputId": "3d8b8198-d9d4-4434-873b-67241c89c0c5"
   },
   "outputs": [
    {
     "name": "stdout",
     "output_type": "stream",
     "text": [
      "Если убрать ar_total_expenses, теряется 7.71% выборки\n",
      "Если убрать все отрицательные значения, теряется 47.352% выборки\n"
     ]
    },
    {
     "name": "stderr",
     "output_type": "stream",
     "text": [
      "<ipython-input-16-c738f956ae64>:25: UserWarning: Boolean Series key will be reindexed to match DataFrame index.\n",
      "  df = df[(train_df[column_with_negs]>=0) | (train_df[column_with_negs].isna())]\n"
     ]
    }
   ],
   "source": [
    "print(f'Если убрать ar_total_expenses, теряется {np.round(100-len(remove_cols_negs())/len(train_df)*100, 3)}% выборки')\n",
    "print(f'Если убрать все отрицательные значения, теряется {np.round(100-len(remove_all_negs())/len(train_df)*100, 3)}% выборки')"
   ]
  },
  {
   "cell_type": "markdown",
   "metadata": {
    "id": "n1VAZHfWac_s"
   },
   "source": [
    "Разделим вышезамеченные выборки с отчетностью и без. Мы видим, что разбиение по Nan значениям бинарное. Проверим также на всякий случай точно ли эти пропуски делятся по отсутствию отчетности."
   ]
  },
  {
   "cell_type": "code",
   "execution_count": 18,
   "metadata": {
    "colab": {
     "base_uri": "https://localhost:8080/"
    },
    "id": "ADNOaYOMZbpy",
    "outputId": "b588e3a5-54e3-41fa-b9d0-0cb525c1959d"
   },
   "outputs": [
    {
     "data": {
      "text/plain": [
       "ar_revenue                      10215\n",
       "ar_total_expenses               10215\n",
       "ar_sale_cost                    10215\n",
       "ar_selling_expenses             10215\n",
       "ar_management_expenses          10215\n",
       "ar_sale_profit                  10215\n",
       "ar_balance_of_rvns_and_expns    10215\n",
       "ar_profit_before_tax            10215\n",
       "ar_taxes                        10215\n",
       "ar_other_profit_and_losses      10215\n",
       "ar_net_profit                   10215\n",
       "ab_immobilized_assets           10215\n",
       "ab_mobile_current_assets        10215\n",
       "ab_inventory                    10215\n",
       "ab_accounts_receivable          10215\n",
       "ab_other_current_assets         10215\n",
       "ab_cash_and_securities          10215\n",
       "ab_losses                       10215\n",
       "ab_own_capital                  10215\n",
       "ab_borrowed_capital             10215\n",
       "ab_long_term_liabilities        10215\n",
       "ab_short_term_borrowing         10215\n",
       "ab_accounts_payable             10215\n",
       "ab_other_borrowings             10215\n",
       "bus_age                             0\n",
       "ogrn_age                            0\n",
       "adr_actual_age                      0\n",
       "head_actual_age                     0\n",
       "cap_actual_age                      0\n",
       "ul_staff_range                      0\n",
       "ul_capital_sum                      0\n",
       "ul_founders_cnt                     0\n",
       "ul_branch_cnt                       0\n",
       "ul_strategic_flg                    0\n",
       "default_12m                         0\n",
       "dtype: int64"
      ]
     },
     "execution_count": 18,
     "metadata": {},
     "output_type": "execute_result"
    }
   ],
   "source": [
    "train_df.isna().sum()"
   ]
  },
  {
   "cell_type": "markdown",
   "metadata": {
    "id": "8kouncYPb-PQ"
   },
   "source": [
    "То же число! Невероятно!"
   ]
  },
  {
   "cell_type": "code",
   "execution_count": 19,
   "metadata": {
    "colab": {
     "base_uri": "https://localhost:8080/"
    },
    "id": "9lX8Ty1Ib0Ok",
    "outputId": "5d6e3be4-af1c-46d8-8220-4b6e165bbb97"
   },
   "outputs": [
    {
     "data": {
      "text/plain": [
       "10215"
      ]
     },
     "execution_count": 19,
     "metadata": {},
     "output_type": "execute_result"
    }
   ],
   "source": [
    "train_df['ar_revenue'].isnull().sum()"
   ]
  },
  {
   "cell_type": "markdown",
   "metadata": {
    "id": "3FMd-f_KcHmw"
   },
   "source": [
    "Делим:"
   ]
  },
  {
   "cell_type": "code",
   "execution_count": 20,
   "metadata": {
    "colab": {
     "base_uri": "https://localhost:8080/"
    },
    "id": "aFwR2isvYyN2",
    "outputId": "1244d455-3299-4115-bd30-e16d358cf0b1"
   },
   "outputs": [
    {
     "name": "stdout",
     "output_type": "stream",
     "text": [
      "61.583% компаний имеют фин. отчетность в трейне\n",
      "38.417% компаний НЕ имеют фин. отчетность в трейне\n",
      "\n",
      "41.0% компаний имеют фин. отчетность в тесте\n",
      "59.0% компаний НЕ имеют фин. отчетность в тесте\n"
     ]
    }
   ],
   "source": [
    "def sep_df_byfin(df):\n",
    "    df_nofin,record_id_no_fin = get_df_nofin(df)\n",
    "    df_fin,record_id_fin = get_df_fin(df)\n",
    "    return df_fin,record_id_fin, df_nofin,record_id_no_fin\n",
    "    \n",
    "def get_df_fin(df):\n",
    "    frame = df.dropna()\n",
    "    try:\n",
    "        record_id = frame['record_id']\n",
    "    except KeyError:\n",
    "        record_id = []\n",
    "    return frame,record_id\n",
    "\n",
    "def get_df_nofin(df):\n",
    "    frame = pd.concat([df, df.dropna()]).drop_duplicates(keep=False)\n",
    "    try:\n",
    "        record_id = frame['record_id']\n",
    "    except KeyError:\n",
    "        record_id = []\n",
    "    frame = frame.dropna(axis = 1)\n",
    "    return frame,record_id\n",
    "\n",
    "df_fin_train, _, df_no_fin_train, _ = sep_df_byfin(df = train_df)\n",
    "df_fin_test, record_id_test_fin, df_no_fin_test, record_id_test_no_fin = sep_df_byfin(df = test_df.drop(['ul_systematizing_flg'],axis = 1))\n",
    "\n",
    "print(f'{np.round(100*len(df_fin_train)/len(train_df), 3)}% компаний имеют фин. отчетность в трейне')\n",
    "print(f'{np.round(100*len(df_no_fin_train)/len(train_df), 3)}% компаний НЕ имеют фин. отчетность в трейне')\n",
    "print()\n",
    "print(f'{np.round(100*len(df_fin_test)/len(test_df), 3)}% компаний имеют фин. отчетность в тесте')\n",
    "print(f'{np.round(100*len(df_no_fin_test)/len(test_df), 3)}% компаний НЕ имеют фин. отчетность в тесте')"
   ]
  },
  {
   "cell_type": "markdown",
   "metadata": {
    "id": "5Wj81JkNeU9W"
   },
   "source": [
    "### Баланс *классов*"
   ]
  },
  {
   "cell_type": "markdown",
   "metadata": {
    "id": "kascBdE_ht8V"
   },
   "source": [
    "Заметим, что у классов в обоих выборках наблюдается достаточно серьезный дисбаланс. Можем обработать несколькими способами: \n",
    "\n",
    "*   Oversampling\n",
    "*   Undersampling\n"
   ]
  },
  {
   "cell_type": "code",
   "execution_count": 21,
   "metadata": {
    "colab": {
     "base_uri": "https://localhost:8080/"
    },
    "id": "KD0BUh7ueiUK",
    "outputId": "fbc2dce1-4c5f-494b-aaac-8e298b68ea18"
   },
   "outputs": [
    {
     "name": "stdout",
     "output_type": "stream",
     "text": [
      "4.739% дефолт у компаний с отчетностью\n",
      "10.23% дефолт у компаний без отчетности\n"
     ]
    }
   ],
   "source": [
    "print(f'{np.round(df_fin_train[\"default_12m\"].values.mean() * 100, 3)}% дефолт у компаний с отчетностью')\n",
    "print(f'{np.round(df_no_fin_train[\"default_12m\"].values.mean() * 100, 3)}% дефолт у компаний без отчетности')"
   ]
  },
  {
   "cell_type": "code",
   "execution_count": 22,
   "metadata": {
    "colab": {
     "base_uri": "https://localhost:8080/"
    },
    "id": "Ilpozr45jEMd",
    "outputId": "c184d2fa-5815-4c6b-d4bc-b1a1dff4c11a"
   },
   "outputs": [
    {
     "data": {
      "text/plain": [
       "1045"
      ]
     },
     "execution_count": 22,
     "metadata": {},
     "output_type": "execute_result"
    }
   ],
   "source": [
    "df_no_fin_train[df_no_fin_train['default_12m'] == 1]['default_12m'].sum()"
   ]
  },
  {
   "cell_type": "code",
   "execution_count": 23,
   "metadata": {
    "id": "lFC0M8C4ilHN"
   },
   "outputs": [],
   "source": [
    "def undersampling(df):\n",
    "\n",
    "  one_class = df[df['default_12m'] == 1]['default_12m'].sum()\n",
    "  df_class_0 = df[\n",
    "                 df['default_12m'] == 0\n",
    "                 ]\\\n",
    "                 .sample(one_class, random_state=42)\n",
    "\n",
    "  df_undersampling = df_class_0.append(\n",
    "      df[\n",
    "         df['default_12m'] == 1\n",
    "         ]).sample(frac=1)\n",
    "\n",
    "  return df_undersampling\n",
    "\n",
    "\n",
    "def oversampling(x_train, y_train):\n",
    "  x_train_sm, y_train_sm = SMOTE(random_state=12).fit_resample(x_train, y_train)\n",
    "  return x_train_sm, y_train_sm \n"
   ]
  },
  {
   "cell_type": "markdown",
   "metadata": {},
   "source": [
    "### Обработаем Выбросы в выборках без фин отчетности и с фин отчетностью"
   ]
  },
  {
   "cell_type": "markdown",
   "metadata": {},
   "source": [
    "#### Выбросы в выборке с фин отчетностью"
   ]
  },
  {
   "cell_type": "code",
   "execution_count": 24,
   "metadata": {},
   "outputs": [],
   "source": [
    "def vision_outliers(frame,column,main_frame):\n",
    "    title = column\n",
    "    print('Кол-во дефолтов',frame.query('default_12m == 1').shape[0])\n",
    "    print('Кол-во не дефолтов',frame.query('default_12m == 0').shape[0])\n",
    "    g = Grapher(frame)\n",
    "    g.hist(title)\n",
    "    fig,ax = plt.subplots(figsize = (10,5))\n",
    "    ax.scatter(x= frame[title],y = frame['default_12m'])\n",
    "    ax.set_ylabel('default_12m')\n",
    "    ax.set_xlabel(title)\n",
    "    plt.show()\n",
    "\n"
   ]
  },
  {
   "cell_type": "code",
   "execution_count": 25,
   "metadata": {},
   "outputs": [
    {
     "name": "stdout",
     "output_type": "stream",
     "text": [
      "Кол-во дефолтов 776\n",
      "Кол-во не дефолтов 15599\n"
     ]
    },
    {
     "data": {
      "image/png": "[encoded data removed]",
      "text/plain": [
       "<Figure size 720x360 with 1 Axes>"
      ]
     },
     "metadata": {
      "needs_background": "light"
     },
     "output_type": "display_data"
    },
    {
     "data": {
      "image/png": "[encoded data removed]",
      "text/plain": [
       "<Figure size 720x360 with 1 Axes>"
      ]
     },
     "metadata": {
      "needs_background": "light"
     },
     "output_type": "display_data"
    }
   ],
   "source": [
    "vision_outliers(df_fin_train,'ar_revenue',df_fin_train)\n",
    "index_todel = df_fin_train.query('ar_revenue > 300000000 and default_12m == 1').index.tolist()\n",
    "test_remove_outliers = df_fin_train.drop(index_todel,axis =0)"
   ]
  },
  {
   "cell_type": "code",
   "execution_count": 26,
   "metadata": {},
   "outputs": [
    {
     "name": "stdout",
     "output_type": "stream",
     "text": [
      "Кол-во дефолтов 758\n",
      "Кол-во не дефолтов 15599\n"
     ]
    },
    {
     "data": {
      "image/png": "[encoded data removed]",
      "text/plain": [
       "<Figure size 720x360 with 1 Axes>"
      ]
     },
     "metadata": {
      "needs_background": "light"
     },
     "output_type": "display_data"
    },
    {
     "data": {
      "image/png": "[encoded data removed]",
      "text/plain": [
       "<Figure size 720x360 with 1 Axes>"
      ]
     },
     "metadata": {
      "needs_background": "light"
     },
     "output_type": "display_data"
    }
   ],
   "source": [
    "vision_outliers(test_remove_outliers,'ar_total_expenses',test_remove_outliers)\n",
    "index_todel = test_remove_outliers.query('ar_total_expenses < 0').index.tolist()\n",
    "test_remove_outliers = test_remove_outliers.drop(index_todel,axis =0)"
   ]
  },
  {
   "cell_type": "code",
   "execution_count": 27,
   "metadata": {},
   "outputs": [
    {
     "name": "stdout",
     "output_type": "stream",
     "text": [
      "Кол-во дефолтов 758\n",
      "Кол-во не дефолтов 15582\n"
     ]
    },
    {
     "data": {
      "image/png": "[encoded data removed]",
      "text/plain": [
       "<Figure size 720x360 with 1 Axes>"
      ]
     },
     "metadata": {
      "needs_background": "light"
     },
     "output_type": "display_data"
    },
    {
     "data": {
      "image/png": "[encoded data removed]",
      "text/plain": [
       "<Figure size 720x360 with 1 Axes>"
      ]
     },
     "metadata": {
      "needs_background": "light"
     },
     "output_type": "display_data"
    }
   ],
   "source": [
    "vision_outliers(test_remove_outliers,'ar_revenue',test_remove_outliers)"
   ]
  },
  {
   "cell_type": "code",
   "execution_count": 28,
   "metadata": {},
   "outputs": [
    {
     "name": "stdout",
     "output_type": "stream",
     "text": [
      "Кол-во дефолтов 758\n",
      "Кол-во не дефолтов 15582\n"
     ]
    },
    {
     "data": {
      "image/png": "[encoded data removed]",
      "text/plain": [
       "<Figure size 720x360 with 1 Axes>"
      ]
     },
     "metadata": {
      "needs_background": "light"
     },
     "output_type": "display_data"
    },
    {
     "data": {
      "image/png": "[encoded data removed]",
      "text/plain": [
       "<Figure size 720x360 with 1 Axes>"
      ]
     },
     "metadata": {
      "needs_background": "light"
     },
     "output_type": "display_data"
    }
   ],
   "source": [
    "vision_outliers(test_remove_outliers,'ar_sale_cost',test_remove_outliers)"
   ]
  },
  {
   "cell_type": "code",
   "execution_count": 29,
   "metadata": {},
   "outputs": [
    {
     "name": "stdout",
     "output_type": "stream",
     "text": [
      "Кол-во дефолтов 758\n",
      "Кол-во не дефолтов 15582\n"
     ]
    },
    {
     "data": {
      "image/png": "[encoded data removed]",
      "text/plain": [
       "<Figure size 720x360 with 1 Axes>"
      ]
     },
     "metadata": {
      "needs_background": "light"
     },
     "output_type": "display_data"
    },
    {
     "data": {
      "image/png": "[encoded data removed]",
      "text/plain": [
       "<Figure size 720x360 with 1 Axes>"
      ]
     },
     "metadata": {
      "needs_background": "light"
     },
     "output_type": "display_data"
    },
    {
     "name": "stdout",
     "output_type": "stream",
     "text": [
      "[9619, 10181, 11736, 13435, 14069, 18658, 24938, 27643, 28253, 28427, 30498, 281, 2186, 2589, 3688, 7325, 8610, 8797, 11045, 12302, 14340, 15470, 15520, 17041, 18661, 20413, 21461, 21643, 21670, 21915, 22469, 23471, 23646, 25625, 25666, 25854, 28957, 30633, 31220, 31758, 31988]\n"
     ]
    }
   ],
   "source": [
    "vision_outliers(test_remove_outliers,'ar_selling_expenses',test_remove_outliers)#.query('ar_revenue > 300000000')\n",
    "index_todel_def = test_remove_outliers.query('ar_selling_expenses > 18000000 and default_12m == 1').index.tolist()\n",
    "index_todel_nondef = test_remove_outliers.query('ar_selling_expenses > 120000000 and default_12m == 0').index.tolist()\n",
    "print(index_todel_def+index_todel_nondef)\n",
    "test_remove_outliers = test_remove_outliers.drop(index_todel_def+index_todel_nondef,axis =0)\n",
    "del index_todel_def\n",
    "del index_todel_nondef"
   ]
  },
  {
   "cell_type": "code",
   "execution_count": 30,
   "metadata": {},
   "outputs": [
    {
     "name": "stdout",
     "output_type": "stream",
     "text": [
      "Кол-во дефолтов 747\n",
      "Кол-во не дефолтов 15552\n"
     ]
    },
    {
     "data": {
      "image/png": "[encoded data removed]",
      "text/plain": [
       "<Figure size 720x360 with 1 Axes>"
      ]
     },
     "metadata": {
      "needs_background": "light"
     },
     "output_type": "display_data"
    },
    {
     "data": {
      "image/png": "[encoded data removed]",
      "text/plain": [
       "<Figure size 720x360 with 1 Axes>"
      ]
     },
     "metadata": {
      "needs_background": "light"
     },
     "output_type": "display_data"
    },
    {
     "name": "stdout",
     "output_type": "stream",
     "text": [
      "[957, 6095, 9507, 12215, 18729, 19095, 23526, 24208, 26471, 30461, 31661, 1390, 1765, 4023, 5192, 5600, 6232, 6527, 8927, 12827, 14192, 14591, 14685, 15482, 16615, 16947, 27030, 28110, 28765, 29438, 29871, 30972, 31297]\n"
     ]
    }
   ],
   "source": [
    "vision_outliers(test_remove_outliers,'ar_management_expenses',test_remove_outliers)#.query('ar_revenue > 300000000')\n",
    "index_todel_def = test_remove_outliers.query('ar_management_expenses > 14000000 and default_12m == 1').index.tolist()\n",
    "index_todel_nondef = test_remove_outliers.query('ar_management_expenses > 90000000 and default_12m == 0').index.tolist()\n",
    "print(index_todel_def+index_todel_nondef)\n",
    "test_remove_outliers = test_remove_outliers.drop(index_todel_def+index_todel_nondef,axis =0)\n",
    "del index_todel_def\n",
    "del index_todel_nondef"
   ]
  },
  {
   "cell_type": "code",
   "execution_count": 31,
   "metadata": {},
   "outputs": [
    {
     "name": "stdout",
     "output_type": "stream",
     "text": [
      "Кол-во дефолтов 736\n",
      "Кол-во не дефолтов 15530\n"
     ]
    },
    {
     "data": {
      "image/png": "[encoded data removed]",
      "text/plain": [
       "<Figure size 720x360 with 1 Axes>"
      ]
     },
     "metadata": {
      "needs_background": "light"
     },
     "output_type": "display_data"
    },
    {
     "data": {
      "image/png": "[encoded data removed]",
      "text/plain": [
       "<Figure size 720x360 with 1 Axes>"
      ]
     },
     "metadata": {
      "needs_background": "light"
     },
     "output_type": "display_data"
    },
    {
     "name": "stdout",
     "output_type": "stream",
     "text": [
      "[6534, 15191, 16940, 26060, 215, 1164, 2588, 4444, 6304, 6460, 8626, 9757, 9767, 10537, 10865, 10997, 11024, 11507, 13063, 13145, 13432, 13654, 15970, 16287, 16427, 16919, 19649, 20936, 26140, 26861, 26927, 28490, 29592, 29976, 31503]\n"
     ]
    }
   ],
   "source": [
    "vision_outliers(test_remove_outliers,'ar_sale_profit',test_remove_outliers)#.query('ar_revenue > 300000000')\n",
    "index_todel_def = test_remove_outliers.query('(ar_sale_profit < -12000000 or ar_sale_profit > 25000000) and default_12m == 1').index.tolist()\n",
    "index_todel_nondef = test_remove_outliers.query('(ar_sale_profit < -40000000 or ar_sale_profit > 95000000) and default_12m == 0').index.tolist()\n",
    "print(index_todel_def+index_todel_nondef)\n",
    "test_remove_outliers = test_remove_outliers.drop(index_todel_def+index_todel_nondef,axis =0)\n",
    "del index_todel_def\n",
    "del index_todel_nondef"
   ]
  },
  {
   "cell_type": "code",
   "execution_count": 32,
   "metadata": {},
   "outputs": [
    {
     "name": "stdout",
     "output_type": "stream",
     "text": [
      "Кол-во дефолтов 732\n",
      "Кол-во не дефолтов 15499\n"
     ]
    },
    {
     "data": {
      "image/png": "[encoded data removed]",
      "text/plain": [
       "<Figure size 720x360 with 1 Axes>"
      ]
     },
     "metadata": {
      "needs_background": "light"
     },
     "output_type": "display_data"
    },
    {
     "data": {
      "image/png": "[encoded data removed]",
      "text/plain": [
       "<Figure size 720x360 with 1 Axes>"
      ]
     },
     "metadata": {
      "needs_background": "light"
     },
     "output_type": "display_data"
    },
    {
     "name": "stdout",
     "output_type": "stream",
     "text": [
      "[7529, 8745, 20499, 23223, 23613, 1935, 2105, 2132, 3015, 3020, 3391, 3608, 3725, 3902, 3946, 4108, 4227, 5078, 5166, 7956, 8337, 8658, 8719, 9120, 9162, 12345, 12821, 14288, 14523, 14665, 15537, 15785, 16465, 16713, 16861, 17054, 17521, 17587, 17866, 18414, 18624, 18905, 19012, 21738, 26433, 27177, 27859, 28404, 28729, 28892, 29347, 29567, 29754, 29831, 30479, 31502, 31815]\n"
     ]
    }
   ],
   "source": [
    "vision_outliers(test_remove_outliers,'ar_balance_of_rvns_and_expns',test_remove_outliers)#.query('ar_revenue > 300000000')\n",
    "index_todel_def = test_remove_outliers.query('(ar_balance_of_rvns_and_expns < -10000000 or ar_balance_of_rvns_and_expns > 5000000) and default_12m == 1').index.tolist()\n",
    "index_todel_nondef = test_remove_outliers.query('(ar_balance_of_rvns_and_expns < -40000000 or ar_balance_of_rvns_and_expns > 38000000) and default_12m == 0').index.tolist()\n",
    "print(index_todel_def+index_todel_nondef)\n",
    "test_remove_outliers = test_remove_outliers.drop(index_todel_def+index_todel_nondef,axis =0)\n",
    "del index_todel_def\n",
    "del index_todel_nondef"
   ]
  },
  {
   "cell_type": "code",
   "execution_count": 33,
   "metadata": {},
   "outputs": [
    {
     "name": "stdout",
     "output_type": "stream",
     "text": [
      "Кол-во дефолтов 727\n",
      "Кол-во не дефолтов 15447\n"
     ]
    },
    {
     "data": {
      "image/png": "[encoded data removed]",
      "text/plain": [
       "<Figure size 720x360 with 1 Axes>"
      ]
     },
     "metadata": {
      "needs_background": "light"
     },
     "output_type": "display_data"
    },
    {
     "data": {
      "image/png": "[encoded data removed]",
      "text/plain": [
       "<Figure size 720x360 with 1 Axes>"
      ]
     },
     "metadata": {
      "needs_background": "light"
     },
     "output_type": "display_data"
    },
    {
     "name": "stdout",
     "output_type": "stream",
     "text": [
      "[1897, 6390, 9583, 12366, 17634, 20992, 26808, 29553, 31844]\n"
     ]
    }
   ],
   "source": [
    "vision_outliers(test_remove_outliers,'ar_profit_before_tax',test_remove_outliers)#.query('ar_revenue > 300000000')\n",
    "index_todel_def = test_remove_outliers.query('(ar_profit_before_tax < -10000000) and default_12m == 1').index.tolist()\n",
    "index_todel_nondef = test_remove_outliers.query('(ar_profit_before_tax < -32000000 or ar_profit_before_tax > 80000000) and default_12m == 0').index.tolist()\n",
    "print(index_todel_def+index_todel_nondef)\n",
    "test_remove_outliers = test_remove_outliers.drop(index_todel_def+index_todel_nondef,axis =0)\n",
    "del index_todel_def\n",
    "del index_todel_nondef"
   ]
  },
  {
   "cell_type": "code",
   "execution_count": 34,
   "metadata": {},
   "outputs": [
    {
     "name": "stdout",
     "output_type": "stream",
     "text": [
      "Кол-во дефолтов 727\n",
      "Кол-во не дефолтов 15438\n"
     ]
    },
    {
     "data": {
      "image/png": "[encoded data removed]",
      "text/plain": [
       "<Figure size 720x360 with 1 Axes>"
      ]
     },
     "metadata": {
      "needs_background": "light"
     },
     "output_type": "display_data"
    },
    {
     "data": {
      "image/png": "[encoded data removed]",
      "text/plain": [
       "<Figure size 720x360 with 1 Axes>"
      ]
     },
     "metadata": {
      "needs_background": "light"
     },
     "output_type": "display_data"
    },
    {
     "name": "stdout",
     "output_type": "stream",
     "text": [
      "[9596, 25885, 1376, 1828, 2230, 2980, 3314, 3317, 3559, 4554, 5322, 5670, 5893, 7416, 7996, 8453, 8501, 8725, 8966, 8994, 9890, 11227, 12661, 12924, 13172, 14045, 15415, 15481, 15667, 17889, 17941, 18173, 19384, 19604, 22125, 22579, 23099, 23666, 24472, 25660, 25735, 26741, 27708, 27729, 28258, 28722, 28789, 28834, 28888, 28944, 29530, 29853, 31141, 31287, 32142, 32265]\n"
     ]
    }
   ],
   "source": [
    "vision_outliers(test_remove_outliers,'ar_taxes',test_remove_outliers)#.query('ar_revenue > 300000000')\n",
    "index_todel_def = test_remove_outliers.query('(ar_taxes > 2000000) and default_12m == 1').index.tolist()\n",
    "index_todel_nondef = test_remove_outliers.query('(ar_taxes < -4000000 or ar_taxes > 13000000) and default_12m == 0').index.tolist()\n",
    "print(index_todel_def+index_todel_nondef)\n",
    "test_remove_outliers = test_remove_outliers.drop(index_todel_def+index_todel_nondef,axis =0)\n",
    "del index_todel_def\n",
    "del index_todel_nondef"
   ]
  },
  {
   "cell_type": "code",
   "execution_count": 35,
   "metadata": {},
   "outputs": [
    {
     "name": "stdout",
     "output_type": "stream",
     "text": [
      "Кол-во дефолтов 725\n",
      "Кол-во не дефолтов 15384\n"
     ]
    },
    {
     "data": {
      "image/png": "[encoded data removed]",
      "text/plain": [
       "<Figure size 720x360 with 1 Axes>"
      ]
     },
     "metadata": {
      "needs_background": "light"
     },
     "output_type": "display_data"
    },
    {
     "data": {
      "image/png": "[encoded data removed]",
      "text/plain": [
       "<Figure size 720x360 with 1 Axes>"
      ]
     },
     "metadata": {
      "needs_background": "light"
     },
     "output_type": "display_data"
    },
    {
     "name": "stdout",
     "output_type": "stream",
     "text": [
      "[18270, 20981, 24545, 1382, 2320, 2902, 3444, 4188, 5030, 7009, 7070, 8338, 8765, 9979, 10217, 11121, 11680, 11814, 12261, 13915, 14767, 15277, 15830, 16829, 16905, 17721, 18951, 21403, 22423, 22694, 22822, 24467, 24558, 26292, 27106, 27399, 28721, 29954, 29967, 30419, 30962, 31628]\n"
     ]
    }
   ],
   "source": [
    "vision_outliers(test_remove_outliers,'ar_other_profit_and_losses',test_remove_outliers)#.query('ar_revenue > 300000000')\n",
    "index_todel_def = test_remove_outliers.query('(ar_other_profit_and_losses > 300000) and default_12m == 1').index.tolist()\n",
    "index_todel_nondef = test_remove_outliers.query('(ar_other_profit_and_losses < -500000 or ar_other_profit_and_losses > 3000000) and default_12m == 0').index.tolist()\n",
    "print(index_todel_def+index_todel_nondef)\n",
    "test_remove_outliers = test_remove_outliers.drop(index_todel_def + index_todel_nondef,axis =0)\n",
    "del index_todel_def\n",
    "del index_todel_nondef"
   ]
  },
  {
   "cell_type": "code",
   "execution_count": 36,
   "metadata": {},
   "outputs": [
    {
     "name": "stdout",
     "output_type": "stream",
     "text": [
      "Кол-во дефолтов 722\n",
      "Кол-во не дефолтов 15345\n"
     ]
    },
    {
     "data": {
      "image/png": "[encoded data removed]",
      "text/plain": [
       "<Figure size 720x360 with 1 Axes>"
      ]
     },
     "metadata": {
      "needs_background": "light"
     },
     "output_type": "display_data"
    },
    {
     "data": {
      "image/png": "[encoded data removed]",
      "text/plain": [
       "<Figure size 720x360 with 1 Axes>"
      ]
     },
     "metadata": {
      "needs_background": "light"
     },
     "output_type": "display_data"
    },
    {
     "name": "stdout",
     "output_type": "stream",
     "text": [
      "[2874, 8998, 1478, 7066, 8913, 17917, 18164, 19952, 24645, 30097]\n"
     ]
    }
   ],
   "source": [
    "vision_outliers(test_remove_outliers,'ar_net_profit',test_remove_outliers)#.query('ar_revenue > 300000000')\n",
    "index_todel_def = test_remove_outliers.query('(ar_net_profit > 14000000) and default_12m == 1').index.tolist()\n",
    "index_todel_nondef = test_remove_outliers.query('(ar_net_profit < -21000000 or ar_net_profit > 70000000) and default_12m == 0').index.tolist()\n",
    "print(index_todel_def+index_todel_nondef)\n",
    "test_remove_outliers = test_remove_outliers.drop(index_todel_def + index_todel_nondef,axis =0)\n",
    "del index_todel_def\n",
    "del index_todel_nondef"
   ]
  },
  {
   "cell_type": "code",
   "execution_count": 37,
   "metadata": {},
   "outputs": [
    {
     "name": "stdout",
     "output_type": "stream",
     "text": [
      "Кол-во дефолтов 720\n",
      "Кол-во не дефолтов 15337\n"
     ]
    },
    {
     "data": {
      "image/png": "[encoded data removed]",
      "text/plain": [
       "<Figure size 720x360 with 1 Axes>"
      ]
     },
     "metadata": {
      "needs_background": "light"
     },
     "output_type": "display_data"
    },
    {
     "data": {
      "image/png": "[encoded data removed]",
      "text/plain": [
       "<Figure size 720x360 with 1 Axes>"
      ]
     },
     "metadata": {
      "needs_background": "light"
     },
     "output_type": "display_data"
    },
    {
     "name": "stdout",
     "output_type": "stream",
     "text": [
      "[3814, 6836, 63, 1256, 1345, 2240, 2302, 4104, 5930, 5992, 6615, 7855, 13074, 15610, 18781, 18871, 22493, 23285, 24386, 24763, 26338, 28564, 29933, 31101, 31525, 31779]\n"
     ]
    }
   ],
   "source": [
    "vision_outliers(test_remove_outliers,'ab_immobilized_assets',test_remove_outliers)#.query('ar_revenue > 300000000')\n",
    "index_todel_def = test_remove_outliers.query('(ab_immobilized_assets > 50000000) and default_12m == 1').index.tolist()\n",
    "index_todel_nondef = test_remove_outliers.query('(ab_immobilized_assets > 250000000) and default_12m == 0').index.tolist()\n",
    "print(index_todel_def+index_todel_nondef)\n",
    "test_remove_outliers = test_remove_outliers.drop(index_todel_def + index_todel_nondef,axis =0)\n",
    "del index_todel_def\n",
    "del index_todel_nondef"
   ]
  },
  {
   "cell_type": "code",
   "execution_count": 38,
   "metadata": {},
   "outputs": [
    {
     "name": "stdout",
     "output_type": "stream",
     "text": [
      "Кол-во дефолтов 718\n",
      "Кол-во не дефолтов 15313\n"
     ]
    },
    {
     "data": {
      "image/png": "[encoded data removed]",
      "text/plain": [
       "<Figure size 720x360 with 1 Axes>"
      ]
     },
     "metadata": {
      "needs_background": "light"
     },
     "output_type": "display_data"
    },
    {
     "data": {
      "image/png": "[encoded data removed]",
      "text/plain": [
       "<Figure size 720x360 with 1 Axes>"
      ]
     },
     "metadata": {
      "needs_background": "light"
     },
     "output_type": "display_data"
    },
    {
     "name": "stdout",
     "output_type": "stream",
     "text": [
      "[1784, 17420, 24857, 26859, 637, 741, 1271, 1343, 3270, 5198, 5706, 6542, 7113, 7775, 7823, 8074, 8637, 8853, 9053, 10051, 11082, 11967, 12123, 13816, 15113, 16071, 18530, 19217, 20099, 23426, 26993, 28817, 28856, 31936, 32311, 32357]\n"
     ]
    }
   ],
   "source": [
    "vision_outliers(test_remove_outliers,'ab_mobile_current_assets',test_remove_outliers)#.query('ar_revenue > 300000000')\n",
    "index_todel_def = test_remove_outliers.query('(ab_mobile_current_assets > 100000000) and default_12m == 1').index.tolist()\n",
    "index_todel_nondef = test_remove_outliers.query('(ab_mobile_current_assets > 350000000) and default_12m == 0').index.tolist()\n",
    "print(index_todel_def+index_todel_nondef)\n",
    "test_remove_outliers = test_remove_outliers.drop(index_todel_def + index_todel_nondef,axis =0)\n",
    "del index_todel_def\n",
    "del index_todel_nondef"
   ]
  },
  {
   "cell_type": "code",
   "execution_count": 39,
   "metadata": {},
   "outputs": [
    {
     "name": "stdout",
     "output_type": "stream",
     "text": [
      "Кол-во дефолтов 714\n",
      "Кол-во не дефолтов 15281\n"
     ]
    },
    {
     "data": {
      "image/png": "[encoded data removed]",
      "text/plain": [
       "<Figure size 720x360 with 1 Axes>"
      ]
     },
     "metadata": {
      "needs_background": "light"
     },
     "output_type": "display_data"
    },
    {
     "data": {
      "image/png": "[encoded data removed]",
      "text/plain": [
       "<Figure size 720x360 with 1 Axes>"
      ]
     },
     "metadata": {
      "needs_background": "light"
     },
     "output_type": "display_data"
    },
    {
     "name": "stdout",
     "output_type": "stream",
     "text": [
      "[9867, 22099, 23059, 23240, 28351, 32083, 657, 1191, 1279, 3383, 3438, 5463, 10425, 14586, 15298, 17015, 20371, 22901, 23450, 23549, 24860, 28387, 29543]\n"
     ]
    }
   ],
   "source": [
    "vision_outliers(test_remove_outliers,'ab_immobilized_assets',test_remove_outliers)#.query('ar_revenue > 300000000')\n",
    "index_todel_def = test_remove_outliers.query('(ab_immobilized_assets > 30000000) and default_12m == 1').index.tolist()\n",
    "index_todel_nondef = test_remove_outliers.query('(ab_immobilized_assets > 200000000) and default_12m == 0').index.tolist()\n",
    "print(index_todel_def+index_todel_nondef)\n",
    "test_remove_outliers = test_remove_outliers.drop(index_todel_def + index_todel_nondef,axis =0)\n",
    "del index_todel_def\n",
    "del index_todel_nondef"
   ]
  },
  {
   "cell_type": "code",
   "execution_count": 40,
   "metadata": {},
   "outputs": [
    {
     "name": "stdout",
     "output_type": "stream",
     "text": [
      "Кол-во дефолтов 708\n",
      "Кол-во не дефолтов 15264\n"
     ]
    },
    {
     "data": {
      "image/png": "[encoded data removed]",
      "text/plain": [
       "<Figure size 720x360 with 1 Axes>"
      ]
     },
     "metadata": {
      "needs_background": "light"
     },
     "output_type": "display_data"
    },
    {
     "data": {
      "image/png": "[encoded data removed]",
      "text/plain": [
       "<Figure size 720x360 with 1 Axes>"
      ]
     },
     "metadata": {
      "needs_background": "light"
     },
     "output_type": "display_data"
    },
    {
     "name": "stdout",
     "output_type": "stream",
     "text": [
      "[19642, 19677, 20839, 22478, 25865, 26598, 27355]\n"
     ]
    }
   ],
   "source": [
    "vision_outliers(test_remove_outliers,'ab_mobile_current_assets',test_remove_outliers)#.query('ar_revenue > 300000000')\n",
    "index_todel_def = test_remove_outliers.query('(ab_mobile_current_assets > 120000000) and default_12m == 1').index.tolist()\n",
    "index_todel_nondef = test_remove_outliers.query('(ab_mobile_current_assets > 310000000) and default_12m == 0').index.tolist()\n",
    "print(index_todel_def+index_todel_nondef)\n",
    "test_remove_outliers = test_remove_outliers.drop(index_todel_def + index_todel_nondef,axis =0)\n",
    "del index_todel_def\n",
    "del index_todel_nondef"
   ]
  },
  {
   "cell_type": "code",
   "execution_count": 41,
   "metadata": {},
   "outputs": [
    {
     "name": "stdout",
     "output_type": "stream",
     "text": [
      "Кол-во дефолтов 708\n",
      "Кол-во не дефолтов 15257\n"
     ]
    },
    {
     "data": {
      "image/png": "[encoded data removed]",
      "text/plain": [
       "<Figure size 720x360 with 1 Axes>"
      ]
     },
     "metadata": {
      "needs_background": "light"
     },
     "output_type": "display_data"
    },
    {
     "data": {
      "image/png": "[encoded data removed]",
      "text/plain": [
       "<Figure size 720x360 with 1 Axes>"
      ]
     },
     "metadata": {
      "needs_background": "light"
     },
     "output_type": "display_data"
    },
    {
     "name": "stdout",
     "output_type": "stream",
     "text": [
      "[10479, 13002, 22008, 27512, 29482, 31354, 2976, 8301, 9052, 12489, 14234, 16220, 20474, 26319, 30045, 30680]\n"
     ]
    }
   ],
   "source": [
    "vision_outliers(test_remove_outliers,'ab_cash_and_securities',test_remove_outliers)#.query('ar_revenue > 300000000')\n",
    "index_todel_def = test_remove_outliers.query('(ab_cash_and_securities > 7000000) and default_12m == 1').index.tolist()\n",
    "index_todel_nondef = test_remove_outliers.query('(ab_cash_and_securities > 46000000) and default_12m == 0').index.tolist()\n",
    "print(index_todel_def+index_todel_nondef)\n",
    "test_remove_outliers = test_remove_outliers.drop(index_todel_def + index_todel_nondef,axis =0)\n",
    "del index_todel_def\n",
    "del index_todel_nondef"
   ]
  },
  {
   "cell_type": "code",
   "execution_count": 42,
   "metadata": {},
   "outputs": [
    {
     "name": "stdout",
     "output_type": "stream",
     "text": [
      "Кол-во дефолтов 702\n",
      "Кол-во не дефолтов 15247\n"
     ]
    },
    {
     "data": {
      "image/png": "[encoded data removed]",
      "text/plain": [
       "<Figure size 720x360 with 1 Axes>"
      ]
     },
     "metadata": {
      "needs_background": "light"
     },
     "output_type": "display_data"
    },
    {
     "data": {
      "image/png": "[encoded data removed]",
      "text/plain": [
       "<Figure size 720x360 with 1 Axes>"
      ]
     },
     "metadata": {
      "needs_background": "light"
     },
     "output_type": "display_data"
    },
    {
     "name": "stdout",
     "output_type": "stream",
     "text": [
      "[2087, 5245, 6000, 6403, 10508, 12279, 17395, 24705, 30631, 1334, 3266, 4849, 5614, 6716, 7261, 7972, 13259, 15204, 17077, 19048, 20361, 20613, 22178, 25121, 25584, 26243, 27866, 30715]\n"
     ]
    }
   ],
   "source": [
    "vision_outliers(test_remove_outliers,'ab_losses',test_remove_outliers)#.query('ar_revenue > 300000000')\n",
    "index_todel_def =  test_remove_outliers.query('(ab_losses > 8000000) and default_12m == 1').index.tolist()\n",
    "index_todel_nondef = test_remove_outliers.query('(ab_losses > 50000000) and default_12m == 0').index.tolist()\n",
    "print(index_todel_def+index_todel_nondef)\n",
    "test_remove_outliers = test_remove_outliers.drop(index_todel_def + index_todel_nondef,axis =0)\n",
    "del index_todel_def\n",
    "del index_todel_nondef"
   ]
  },
  {
   "cell_type": "code",
   "execution_count": 43,
   "metadata": {},
   "outputs": [
    {
     "name": "stdout",
     "output_type": "stream",
     "text": [
      "Кол-во дефолтов 693\n",
      "Кол-во не дефолтов 15228\n"
     ]
    },
    {
     "data": {
      "image/png": "[encoded data removed]",
      "text/plain": [
       "<Figure size 720x360 with 1 Axes>"
      ]
     },
     "metadata": {
      "needs_background": "light"
     },
     "output_type": "display_data"
    },
    {
     "data": {
      "image/png": "[encoded data removed]",
      "text/plain": [
       "<Figure size 720x360 with 1 Axes>"
      ]
     },
     "metadata": {
      "needs_background": "light"
     },
     "output_type": "display_data"
    },
    {
     "name": "stdout",
     "output_type": "stream",
     "text": [
      "[31544, 32379, 167, 1187, 1728, 3373, 5197, 5887, 5949, 6575, 7208, 9312, 10838, 11016, 13121, 13701, 14071, 14468, 14519, 15239, 15615, 16112, 16733, 17148, 17623, 18800, 18988, 20215, 20870, 21715, 22045, 23216, 26249, 26923, 27477, 27639, 29102, 29205, 29778, 29946, 30832, 31214, 31537, 32194]\n"
     ]
    }
   ],
   "source": [
    "vision_outliers(test_remove_outliers,'ab_own_capital',test_remove_outliers)#.query('ar_revenue > 300000000')\n",
    "index_todel_def =  test_remove_outliers.query('(ab_own_capital> 47000000) and default_12m == 1').index.tolist()\n",
    "index_todel_nondef = test_remove_outliers.query('(ab_own_capital < -50000000 or ab_own_capital > 210000000) and default_12m == 0').index.tolist()\n",
    "print(index_todel_def+index_todel_nondef)\n",
    "test_remove_outliers = test_remove_outliers.drop(index_todel_def + index_todel_nondef,axis =0)\n",
    "del index_todel_def\n",
    "del index_todel_nondef"
   ]
  },
  {
   "cell_type": "code",
   "execution_count": 44,
   "metadata": {},
   "outputs": [
    {
     "name": "stdout",
     "output_type": "stream",
     "text": [
      "Кол-во дефолтов 691\n",
      "Кол-во не дефолтов 15186\n"
     ]
    },
    {
     "data": {
      "image/png": "[encoded data removed]",
      "text/plain": [
       "<Figure size 720x360 with 1 Axes>"
      ]
     },
     "metadata": {
      "needs_background": "light"
     },
     "output_type": "display_data"
    },
    {
     "data": {
      "image/png": "[encoded data removed]",
      "text/plain": [
       "<Figure size 720x360 with 1 Axes>"
      ]
     },
     "metadata": {
      "needs_background": "light"
     },
     "output_type": "display_data"
    },
    {
     "name": "stdout",
     "output_type": "stream",
     "text": [
      "[15311, 16130, 16899, 19329, 21318, 1429, 1972, 5385, 11270, 11364, 12673, 13653, 16454, 19235, 19371, 20298, 24569, 25046, 25937, 30064, 30171, 30897, 32137]\n"
     ]
    }
   ],
   "source": [
    "vision_outliers(test_remove_outliers,'ab_borrowed_capital',test_remove_outliers)#.query('ar_revenue > 300000000')\n",
    "index_todel_def =  test_remove_outliers.query('(ab_borrowed_capital > 80000000) and default_12m == 1').index.tolist()\n",
    "index_todel_nondef = test_remove_outliers.query('(ab_borrowed_capital > 280000000) and default_12m == 0').index.tolist()\n",
    "print(index_todel_def+index_todel_nondef)\n",
    "test_remove_outliers = test_remove_outliers.drop(index_todel_def + index_todel_nondef,axis =0)\n",
    "del index_todel_def\n",
    "del index_todel_nondef"
   ]
  },
  {
   "cell_type": "code",
   "execution_count": 45,
   "metadata": {},
   "outputs": [
    {
     "name": "stdout",
     "output_type": "stream",
     "text": [
      "Кол-во дефолтов 686\n",
      "Кол-во не дефолтов 15168\n"
     ]
    },
    {
     "data": {
      "image/png": "[encoded data removed]",
      "text/plain": [
       "<Figure size 720x360 with 1 Axes>"
      ]
     },
     "metadata": {
      "needs_background": "light"
     },
     "output_type": "display_data"
    },
    {
     "data": {
      "image/png": "[encoded data removed]",
      "text/plain": [
       "<Figure size 720x360 with 1 Axes>"
      ]
     },
     "metadata": {
      "needs_background": "light"
     },
     "output_type": "display_data"
    },
    {
     "name": "stdout",
     "output_type": "stream",
     "text": [
      "[694, 3520, 3789, 10513, 11175, 17713, 23545, 26053, 28083, 29452, 29758, 163, 462, 1414, 1488, 3481, 4221, 7661, 11104, 11181, 12216, 14459, 17960, 18169, 18884, 19623, 19684, 19882, 20132, 21588, 22033, 22473, 27169, 30742, 31089, 31443]\n"
     ]
    }
   ],
   "source": [
    "vision_outliers(test_remove_outliers,'ab_long_term_liabilities',test_remove_outliers)#.query('ar_revenue > 300000000')\n",
    "index_todel_def =  test_remove_outliers.query('(ab_long_term_liabilities > 12000000) and default_12m == 1').index.tolist()\n",
    "index_todel_nondef = test_remove_outliers.query('(ab_long_term_liabilities > 80000000) and default_12m == 0').index.tolist()\n",
    "print(index_todel_def+index_todel_nondef)\n",
    "test_remove_outliers = test_remove_outliers.drop(index_todel_def + index_todel_nondef,axis =0)\n",
    "del index_todel_def\n",
    "del index_todel_nondef"
   ]
  },
  {
   "cell_type": "code",
   "execution_count": 46,
   "metadata": {},
   "outputs": [
    {
     "name": "stdout",
     "output_type": "stream",
     "text": [
      "Кол-во дефолтов 675\n",
      "Кол-во не дефолтов 15143\n"
     ]
    },
    {
     "data": {
      "image/png": "[encoded data removed]",
      "text/plain": [
       "<Figure size 720x360 with 1 Axes>"
      ]
     },
     "metadata": {
      "needs_background": "light"
     },
     "output_type": "display_data"
    },
    {
     "data": {
      "image/png": "[encoded data removed]",
      "text/plain": [
       "<Figure size 720x360 with 1 Axes>"
      ]
     },
     "metadata": {
      "needs_background": "light"
     },
     "output_type": "display_data"
    },
    {
     "name": "stdout",
     "output_type": "stream",
     "text": [
      "[4626, 12470, 14274, 15698, 16877, 24829, 28501, 2406, 2538, 4697, 4907, 5360, 6713, 8832, 10793, 11712, 13109, 13954, 18626, 19092, 20619, 21191, 23617, 28059, 30469, 30537, 31647, 32172]\n"
     ]
    }
   ],
   "source": [
    "vision_outliers(test_remove_outliers,'ab_short_term_borrowing',test_remove_outliers)#.query('ar_revenue > 300000000')\n",
    "index_todel_def =  test_remove_outliers.query('(ab_short_term_borrowing > 30000000) and default_12m == 1').index.tolist()\n",
    "index_todel_nondef = test_remove_outliers.query('(ab_short_term_borrowing > 100000000) and default_12m == 0').index.tolist()\n",
    "print(index_todel_def+index_todel_nondef)\n",
    "test_remove_outliers = test_remove_outliers.drop(index_todel_def + index_todel_nondef,axis =0)\n",
    "del index_todel_def\n",
    "del index_todel_nondef"
   ]
  },
  {
   "cell_type": "code",
   "execution_count": 47,
   "metadata": {},
   "outputs": [
    {
     "name": "stdout",
     "output_type": "stream",
     "text": [
      "Кол-во дефолтов 668\n",
      "Кол-во не дефолтов 15122\n"
     ]
    },
    {
     "data": {
      "image/png": "[encoded data removed]",
      "text/plain": [
       "<Figure size 720x360 with 1 Axes>"
      ]
     },
     "metadata": {
      "needs_background": "light"
     },
     "output_type": "display_data"
    },
    {
     "data": {
      "image/png": "[encoded data removed]",
      "text/plain": [
       "<Figure size 720x360 with 1 Axes>"
      ]
     },
     "metadata": {
      "needs_background": "light"
     },
     "output_type": "display_data"
    },
    {
     "name": "stdout",
     "output_type": "stream",
     "text": [
      "[12936, 21253, 44, 1548, 1607, 4748, 4977, 5407, 6601, 9652, 10331, 10382, 12385, 12481, 14846, 16789, 16798, 17626, 18332, 19559, 19597, 24159, 25640, 28675, 29338, 30935, 32386]\n"
     ]
    }
   ],
   "source": [
    "vision_outliers(test_remove_outliers,'ab_accounts_payable',test_remove_outliers)#.query('ar_revenue > 300000000')\n",
    "index_todel_def =  test_remove_outliers.query('(ab_accounts_payable > 60000000) and default_12m == 1').index.tolist()\n",
    "index_todel_nondef = test_remove_outliers.query('(ab_accounts_payable > 200000000) and default_12m == 0').index.tolist()\n",
    "print(index_todel_def+index_todel_nondef)\n",
    "test_remove_outliers = test_remove_outliers.drop(index_todel_def + index_todel_nondef,axis =0)\n",
    "del index_todel_def\n",
    "del index_todel_nondef"
   ]
  },
  {
   "cell_type": "code",
   "execution_count": 48,
   "metadata": {},
   "outputs": [
    {
     "name": "stdout",
     "output_type": "stream",
     "text": [
      "Кол-во дефолтов 666\n",
      "Кол-во не дефолтов 15097\n"
     ]
    },
    {
     "data": {
      "image/png": "[encoded data removed]",
      "text/plain": [
       "<Figure size 720x360 with 1 Axes>"
      ]
     },
     "metadata": {
      "needs_background": "light"
     },
     "output_type": "display_data"
    },
    {
     "data": {
      "image/png": "[encoded data removed]",
      "text/plain": [
       "<Figure size 720x360 with 1 Axes>"
      ]
     },
     "metadata": {
      "needs_background": "light"
     },
     "output_type": "display_data"
    },
    {
     "name": "stdout",
     "output_type": "stream",
     "text": [
      "[1610, 6109, 16565, 16595, 17688, 22799, 942, 1099, 1230, 1270, 1447, 1864, 1893, 2107, 2208, 2412, 3713, 3759, 3888, 3903, 4081, 4344, 4423, 4598, 5611, 5794, 6573, 6792, 7200, 7523, 10512, 10899, 11071, 11396, 11405, 12260, 12291, 12569, 12849, 12890, 13173, 13211, 13610, 13622, 13650, 13852, 13948, 14178, 14526, 14565, 15738, 16448, 16456, 16593, 17013, 17048, 18371, 19007, 19044, 19122, 19297, 19577, 19858, 20631, 22510, 22584, 22954, 22959, 23077, 23166, 23793, 24119, 24196, 24319, 24711, 25320, 26105, 26142, 26215, 26231, 26634, 26686, 27049, 27244, 27436, 28267, 28302, 28801, 29228, 29291, 29859, 29913, 29997, 30163, 30199, 31156, 32146, 32269]\n"
     ]
    }
   ],
   "source": [
    "vision_outliers(test_remove_outliers,'ab_other_borrowings',test_remove_outliers)#.query('ar_revenue > 300000000')\n",
    "index_todel_def =  test_remove_outliers.query('(ab_other_borrowings > 2000000) and default_12m == 1').index.tolist()\n",
    "index_todel_nondef = test_remove_outliers.query('(ab_other_borrowings > 14000000) and default_12m == 0').index.tolist()\n",
    "print(index_todel_def+index_todel_nondef)\n",
    "test_remove_outliers = test_remove_outliers.drop(index_todel_def + index_todel_nondef,axis =0)\n",
    "del index_todel_def\n",
    "del index_todel_nondef"
   ]
  },
  {
   "cell_type": "code",
   "execution_count": 49,
   "metadata": {},
   "outputs": [
    {
     "name": "stdout",
     "output_type": "stream",
     "text": [
      "Кол-во дефолтов 660\n",
      "Кол-во не дефолтов 15005\n"
     ]
    },
    {
     "data": {
      "image/png": "[encoded data removed]",
      "text/plain": [
       "<Figure size 720x360 with 1 Axes>"
      ]
     },
     "metadata": {
      "needs_background": "light"
     },
     "output_type": "display_data"
    },
    {
     "data": {
      "image/png": "[encoded data removed]",
      "text/plain": [
       "<Figure size 720x360 with 1 Axes>"
      ]
     },
     "metadata": {
      "needs_background": "light"
     },
     "output_type": "display_data"
    },
    {
     "name": "stdout",
     "output_type": "stream",
     "text": [
      "[632, 1369, 13021, 20314, 27218, 32358, 323, 591, 2305, 4095, 4105, 4179, 4286, 5539, 5748, 7923, 7989, 8410, 9569, 12320, 13949, 15668, 16500, 17974, 22577, 24415, 25159, 25201, 28119, 28816]\n"
     ]
    }
   ],
   "source": [
    "vision_outliers(test_remove_outliers,'ab_inventory',test_remove_outliers)#.query('ar_revenue > 300000000')\n",
    "index_todel_def =  test_remove_outliers.query('(ab_inventory > 40000000) and default_12m == 1').index.tolist()\n",
    "index_todel_nondef = test_remove_outliers.query('(ab_inventory > 150000000) and default_12m == 0').index.tolist()\n",
    "print(index_todel_def+index_todel_nondef)\n",
    "test_remove_outliers = test_remove_outliers.drop(index_todel_def + index_todel_nondef,axis =0)\n",
    "del index_todel_def\n",
    "del index_todel_nondef"
   ]
  },
  {
   "cell_type": "code",
   "execution_count": 50,
   "metadata": {},
   "outputs": [],
   "source": [
    "df_fin_train = test_remove_outliers.copy()"
   ]
  },
  {
   "cell_type": "markdown",
   "metadata": {},
   "source": [
    "#### Выбросы выборки без фин данных"
   ]
  },
  {
   "cell_type": "code",
   "execution_count": 51,
   "metadata": {},
   "outputs": [
    {
     "data": {
      "text/plain": [
       "(10215, 11)"
      ]
     },
     "execution_count": 51,
     "metadata": {},
     "output_type": "execute_result"
    }
   ],
   "source": [
    "df_no_fin_train.shape"
   ]
  },
  {
   "cell_type": "code",
   "execution_count": 52,
   "metadata": {},
   "outputs": [],
   "source": [
    "# Q1 = df_no_fin_train.quantile(0.25)\n",
    "# Q3 = df_no_fin_train.quantile(0.75)\n",
    "\n",
    "# IQR = Q3 - Q1\n",
    "# train_df_outliers = df_no_fin_train[(~((df_no_fin_train < (Q1 - 3 * IQR)) |(df_no_fin_train > (Q3 + 3 * IQR))).any(axis=1))]"
   ]
  },
  {
   "cell_type": "code",
   "execution_count": 53,
   "metadata": {},
   "outputs": [],
   "source": [
    "# train_df_outliers.shape[0]"
   ]
  },
  {
   "cell_type": "code",
   "execution_count": 54,
   "metadata": {},
   "outputs": [],
   "source": [
    "# df_no_fin_train = train_df_outliers.copy()"
   ]
  },
  {
   "cell_type": "markdown",
   "metadata": {
    "id": "upR6a4WAa8vN"
   },
   "source": [
    "## Feature Engineering"
   ]
  },
  {
   "cell_type": "markdown",
   "metadata": {
    "id": "-h1MZDRalGKI"
   },
   "source": [
    "[ТУТ ВСТАВИТЬ ОПИСАНИЕ ВСЕХ ПРИЗНАКОВ]\n"
   ]
  },
  {
   "cell_type": "code",
   "execution_count": 55,
   "metadata": {
    "id": "8DWLf-qlFmKB"
   },
   "outputs": [],
   "source": [
    "def make_features(df):\n",
    "    frame = df.copy()\n",
    "    # Доля дохода, которая учитывает пост-оплату\n",
    "    frame['frac_post_pay'] = frame['ab_accounts_receivable']/frame['ar_revenue']\n",
    "    frame['OPEX'] = frame['ar_total_expenses'] - frame['ar_selling_expenses'] - frame[\"ar_management_expenses\"]\n",
    "    # ДОля операционных расходов\n",
    "    frame['OER'] = frame['OPEX']/frame['ar_revenue']\n",
    "    frame['frac_comer_exp'] = frame['ar_selling_expenses' ]/ frame['ar_total_expenses']\n",
    "    frame['Net_margin'] = frame['ar_net_profit']/frame['ar_revenue']\n",
    "    frame['gross_profit_margin'] = (frame['ar_revenue'] - frame['ar_sale_cost'])/frame['ar_revenue']\n",
    "    frame['OP_Margin'] = frame['OPEX']/frame['ar_revenue']\n",
    "    frame['ROE'] = frame['ar_net_profit']/frame['ab_own_capital']\n",
    "    frame['ROA'] = frame['ar_net_profit']/(frame['ab_own_capital'] + frame['ab_borrowed_capital'])\n",
    "    frame['Debt/EBIT'] = (frame['ab_long_term_liabilities'] + frame['ab_other_borrowings'] + frame['ab_short_term_borrowing'])/frame['ar_profit_before_tax']\n",
    "    frame['Debt_ratio'] = (frame['ab_long_term_liabilities'] + frame['ab_other_borrowings'] + frame['ab_short_term_borrowing'])/(frame['ab_own_capital'] + frame['ab_borrowed_capital'])\n",
    "    frame['tax_ratio'] = frame['ar_taxes']/frame['ar_profit_before_tax']\n",
    "    frame['time_gap'] = frame['ab_accounts_payable']/(frame['ab_cash_and_securities']+frame['ab_accounts_receivable'])\n",
    "    frame['borrowing_balance'] = frame['ab_accounts_receivable']/frame['ab_accounts_payable']\n",
    "    frame['Debt/Equity'] = (frame['ab_long_term_liabilities'] + frame['ab_other_borrowings'] + frame['ab_short_term_borrowing'])/frame['ab_own_capital']\n",
    "    frame['current_ratio'] = (frame['ab_mobile_current_assets']+frame['ab_other_current_assets'])/(frame['ab_short_term_borrowing']+frame['ab_other_borrowings'])\n",
    "    frame['cash_ratio'] = frame['ab_cash_and_securities']/frame['ab_short_term_borrowing']\n",
    "    frame['fast_pay'] = (frame['ab_cash_and_securities']+frame['ab_accounts_receivable'])/(frame['ab_own_capital'] + frame['ab_borrowed_capital'])\n",
    "    frame['tumover_ratio'] = frame['ar_revenue']/(frame['ab_own_capital'] + frame['ab_borrowed_capital'])\n",
    "    return frame"
   ]
  },
  {
   "cell_type": "markdown",
   "metadata": {
    "id": "3oOSWZphFmKB"
   },
   "source": [
    "Создаем признаки только для выборок с финансовой отчетностью:"
   ]
  },
  {
   "cell_type": "code",
   "execution_count": 56,
   "metadata": {
    "id": "gYHh63KhFmKC"
   },
   "outputs": [],
   "source": [
    "df_fin_train_feature = make_features(df_fin_train)\n",
    "df_fin_test_feature = make_features(df_fin_test)"
   ]
  },
  {
   "cell_type": "markdown",
   "metadata": {
    "id": "4qtqWWOlFmKD"
   },
   "source": [
    "Теперь же очистим наши выборки от ненужных столбцов. Для _part_2 это все абсолютные значения финансовых показателей. А для _part_1 это все переменные отвечающие за финансовую отчетность + ul_strategic_flg\n",
    "\n",
    "Уберем старые признаки:\n",
    "\n",
    "\n",
    "*   Для выборок с фин. отчетностью - это абсолютные значения финансовых показателей\n",
    "*   Для выборок без фин. отчетность - это все столбцы с NaN значениями\n"
   ]
  },
  {
   "cell_type": "code",
   "execution_count": 57,
   "metadata": {
    "id": "jTc2Mo50ozlN"
   },
   "outputs": [],
   "source": [
    "fin_abs_features = ['ar_revenue',\n",
    "                   'ar_other_profit_and_losses',\n",
    "                   'ar_profit_before_tax', \n",
    "                   'ar_taxes', \n",
    "                   'ar_total_expenses', \n",
    "                   'ar_sale_cost', \n",
    "                   'ar_selling_expenses', \n",
    "                   'ar_management_expenses',\n",
    "                   'ar_sale_profit', \n",
    "                   'ar_balance_of_rvns_and_expns']"
   ]
  },
  {
   "cell_type": "code",
   "execution_count": 58,
   "metadata": {
    "id": "1Ps0-GahFmKD"
   },
   "outputs": [],
   "source": [
    "# Выборки с фин отчетностью\n",
    "df_fin_train_feature_complex = df_fin_train_feature.drop(fin_abs_features, axis = 1)\n",
    "df_fin_test_feature_complex = df_fin_test_feature.drop(fin_abs_features, axis = 1)\n",
    "\n",
    "# Выборки без фин отчетности\n",
    "df_no_fin_train_dropna = df_no_fin_train.dropna(axis=1,how='all')\n",
    "df_no_fin_test_dropna = df_no_fin_test.dropna(axis=1,how='all')"
   ]
  },
  {
   "cell_type": "code",
   "execution_count": 59,
   "metadata": {},
   "outputs": [],
   "source": [
    "def find_correlated_features(df_, threshold):\n",
    "    corr_matrix = df_.corr().abs()\n",
    "    corr_matrix = corr_matrix.where(np.triu(np.ones(corr_matrix.shape), k = 1).astype(np.bool))\n",
    "    df_ = corr_matrix.stack().reset_index()\n",
    "    df_.columns = ['feature1', 'feature2', 'corr_coef']\n",
    "    df_ = df_[df_.corr_coef >= threshold].sort_values('corr_coef', ascending=False)\n",
    "    return df_"
   ]
  },
  {
   "cell_type": "code",
   "execution_count": 60,
   "metadata": {
    "scrolled": true
   },
   "outputs": [],
   "source": [
    "# feature_1 = find_correlated_features(df_fin_train_feature_complex.drop(['adr_actual_age','OP_Margin','gross_profit_margin','OP_Margin',\n",
    "#                                                                         'head_actual_age','ar_net_profit','ab_borrowed_capital','ab_mobile_current_assets',\n",
    "#                                                                         'bus_age','frac_post_pay','ab_accounts_payable','tax_ratio','ab_own_capital','tumover_ratio','ab_accounts_receivable'],axis = 1), 0.6)['feature1'].value_counts().to_frame().reset_index()\n",
    "# feature_2 = find_correlated_features(df_fin_train_feature_complex.drop(['adr_actual_age','OP_Margin','gross_profit_margin','OP_Margin',\n",
    "#                                                                         'head_actual_age','ar_net_profit','ab_borrowed_capital','ab_mobile_current_assets',\n",
    "#                                                                         'bus_age','frac_post_pay','ab_accounts_payable','tax_ratio','ab_own_capital','tumover_ratio','ab_accounts_receivable'],axis = 1), 0.6)['feature2'].value_counts().to_frame().reset_index()\n",
    "# feature_3 = feature_1.merge(feature_2, on = 'index',how = 'outer').fillna(0)\n",
    "# feature_3['sum'] = feature_3['feature1'] + feature_3['feature2']\n",
    "# feature_3"
   ]
  },
  {
   "cell_type": "code",
   "execution_count": 61,
   "metadata": {},
   "outputs": [],
   "source": [
    "# find_correlated_features(df_fin_train_feature_complex.drop(['adr_actual_age','OP_Margin','gross_profit_margin','OP_Margin',\n",
    "#                                                             'head_actual_age','ar_net_profit','ab_borrowed_capital','ab_mobile_current_assets',\n",
    "#                                                             'bus_age','frac_post_pay','ab_accounts_payable','tax_ratio','ab_own_capital','tumover_ratio','ab_accounts_receivable','ab_immobilized_assets'],axis = 1), 0.6)"
   ]
  },
  {
   "cell_type": "code",
   "execution_count": 62,
   "metadata": {},
   "outputs": [],
   "source": [
    "corr_columns_to_del_fin = ['adr_actual_age','OP_Margin','gross_profit_margin','OP_Margin',\n",
    "                                                            'head_actual_age','ar_net_profit','ab_borrowed_capital','ab_mobile_current_assets',\n",
    "                                                            'bus_age','frac_post_pay','ab_accounts_payable','tax_ratio','ab_own_capital','tumover_ratio','ab_accounts_receivable','ab_immobilized_assets']"
   ]
  },
  {
   "cell_type": "code",
   "execution_count": null,
   "metadata": {},
   "outputs": [],
   "source": []
  },
  {
   "cell_type": "code",
   "execution_count": null,
   "metadata": {},
   "outputs": [],
   "source": []
  },
  {
   "cell_type": "markdown",
   "metadata": {
    "id": "4PdldAEjFmKD"
   },
   "source": [
    "Посмотрим на новые признаки у выборок с финансовой отчетностью:"
   ]
  },
  {
   "cell_type": "code",
   "execution_count": 63,
   "metadata": {
    "colab": {
     "base_uri": "https://localhost:8080/",
     "height": 379
    },
    "id": "T75uTmoAFmKD",
    "outputId": "ad73b733-f7fa-41ff-b6aa-676ed229c53d",
    "scrolled": false
   },
   "outputs": [
    {
     "data": {
      "text/html": [
       "<div>\n",
       "<style scoped>\n",
       "    .dataframe tbody tr th:only-of-type {\n",
       "        vertical-align: middle;\n",
       "    }\n",
       "\n",
       "    .dataframe tbody tr th {\n",
       "        vertical-align: top;\n",
       "    }\n",
       "\n",
       "    .dataframe thead th {\n",
       "        text-align: right;\n",
       "    }\n",
       "</style>\n",
       "<table border=\"1\" class=\"dataframe\">\n",
       "  <thead>\n",
       "    <tr style=\"text-align: right;\">\n",
       "      <th></th>\n",
       "      <th>ar_net_profit</th>\n",
       "      <th>ab_immobilized_assets</th>\n",
       "      <th>ab_mobile_current_assets</th>\n",
       "      <th>ab_inventory</th>\n",
       "      <th>ab_accounts_receivable</th>\n",
       "      <th>ab_other_current_assets</th>\n",
       "      <th>ab_cash_and_securities</th>\n",
       "      <th>ab_losses</th>\n",
       "      <th>ab_own_capital</th>\n",
       "      <th>ab_borrowed_capital</th>\n",
       "      <th>ab_long_term_liabilities</th>\n",
       "      <th>ab_short_term_borrowing</th>\n",
       "      <th>ab_accounts_payable</th>\n",
       "      <th>ab_other_borrowings</th>\n",
       "      <th>bus_age</th>\n",
       "      <th>ogrn_age</th>\n",
       "      <th>adr_actual_age</th>\n",
       "      <th>head_actual_age</th>\n",
       "      <th>cap_actual_age</th>\n",
       "      <th>ul_staff_range</th>\n",
       "      <th>ul_capital_sum</th>\n",
       "      <th>ul_founders_cnt</th>\n",
       "      <th>ul_branch_cnt</th>\n",
       "      <th>ul_strategic_flg</th>\n",
       "      <th>default_12m</th>\n",
       "      <th>frac_post_pay</th>\n",
       "      <th>OPEX</th>\n",
       "      <th>OER</th>\n",
       "      <th>frac_comer_exp</th>\n",
       "      <th>Net_margin</th>\n",
       "      <th>gross_profit_margin</th>\n",
       "      <th>OP_Margin</th>\n",
       "      <th>ROE</th>\n",
       "      <th>ROA</th>\n",
       "      <th>Debt/EBIT</th>\n",
       "      <th>Debt_ratio</th>\n",
       "      <th>tax_ratio</th>\n",
       "      <th>time_gap</th>\n",
       "      <th>borrowing_balance</th>\n",
       "      <th>Debt/Equity</th>\n",
       "      <th>current_ratio</th>\n",
       "      <th>cash_ratio</th>\n",
       "      <th>fast_pay</th>\n",
       "      <th>tumover_ratio</th>\n",
       "    </tr>\n",
       "  </thead>\n",
       "  <tbody>\n",
       "    <tr>\n",
       "      <th>0</th>\n",
       "      <td>1198000.0</td>\n",
       "      <td>0.0</td>\n",
       "      <td>7240000.0</td>\n",
       "      <td>4988000.0</td>\n",
       "      <td>2252000.0</td>\n",
       "      <td>0.0</td>\n",
       "      <td>255000.0</td>\n",
       "      <td>1198000.0</td>\n",
       "      <td>663000.0</td>\n",
       "      <td>15872000.0</td>\n",
       "      <td>0.0</td>\n",
       "      <td>11349000.0</td>\n",
       "      <td>4523000.0</td>\n",
       "      <td>0.0</td>\n",
       "      <td>198</td>\n",
       "      <td>136</td>\n",
       "      <td>3</td>\n",
       "      <td>3</td>\n",
       "      <td>3</td>\n",
       "      <td>2</td>\n",
       "      <td>50000.0</td>\n",
       "      <td>2</td>\n",
       "      <td>0</td>\n",
       "      <td>0</td>\n",
       "      <td>0</td>\n",
       "      <td>0.042494</td>\n",
       "      <td>48344000.0</td>\n",
       "      <td>0.912220</td>\n",
       "      <td>0.000000</td>\n",
       "      <td>0.022605</td>\n",
       "      <td>0.087780</td>\n",
       "      <td>0.912220</td>\n",
       "      <td>1.806938</td>\n",
       "      <td>0.072452</td>\n",
       "      <td>5.552348</td>\n",
       "      <td>0.686362</td>\n",
       "      <td>0.413894</td>\n",
       "      <td>1.804148</td>\n",
       "      <td>0.497900</td>\n",
       "      <td>17.117647</td>\n",
       "      <td>0.637942</td>\n",
       "      <td>0.022469</td>\n",
       "      <td>0.151618</td>\n",
       "      <td>3.205080</td>\n",
       "    </tr>\n",
       "    <tr>\n",
       "      <th>3</th>\n",
       "      <td>1919000.0</td>\n",
       "      <td>0.0</td>\n",
       "      <td>4245000.0</td>\n",
       "      <td>4082000.0</td>\n",
       "      <td>163000.0</td>\n",
       "      <td>0.0</td>\n",
       "      <td>25000.0</td>\n",
       "      <td>1919000.0</td>\n",
       "      <td>2219000.0</td>\n",
       "      <td>3652000.0</td>\n",
       "      <td>0.0</td>\n",
       "      <td>3652000.0</td>\n",
       "      <td>0.0</td>\n",
       "      <td>0.0</td>\n",
       "      <td>185</td>\n",
       "      <td>139</td>\n",
       "      <td>8</td>\n",
       "      <td>8</td>\n",
       "      <td>8</td>\n",
       "      <td>2</td>\n",
       "      <td>300000.0</td>\n",
       "      <td>1</td>\n",
       "      <td>0</td>\n",
       "      <td>0</td>\n",
       "      <td>0</td>\n",
       "      <td>0.005086</td>\n",
       "      <td>29568000.0</td>\n",
       "      <td>0.922587</td>\n",
       "      <td>0.000000</td>\n",
       "      <td>0.059877</td>\n",
       "      <td>0.077413</td>\n",
       "      <td>0.922587</td>\n",
       "      <td>0.864804</td>\n",
       "      <td>0.326861</td>\n",
       "      <td>1.644304</td>\n",
       "      <td>0.622041</td>\n",
       "      <td>0.135975</td>\n",
       "      <td>0.000000</td>\n",
       "      <td>inf</td>\n",
       "      <td>1.645786</td>\n",
       "      <td>1.162377</td>\n",
       "      <td>0.006846</td>\n",
       "      <td>0.032022</td>\n",
       "      <td>5.458866</td>\n",
       "    </tr>\n",
       "    <tr>\n",
       "      <th>4</th>\n",
       "      <td>711000.0</td>\n",
       "      <td>0.0</td>\n",
       "      <td>8950000.0</td>\n",
       "      <td>8606000.0</td>\n",
       "      <td>344000.0</td>\n",
       "      <td>0.0</td>\n",
       "      <td>492000.0</td>\n",
       "      <td>711000.0</td>\n",
       "      <td>12439000.0</td>\n",
       "      <td>1279000.0</td>\n",
       "      <td>0.0</td>\n",
       "      <td>0.0</td>\n",
       "      <td>1279000.0</td>\n",
       "      <td>0.0</td>\n",
       "      <td>220</td>\n",
       "      <td>138</td>\n",
       "      <td>27</td>\n",
       "      <td>27</td>\n",
       "      <td>27</td>\n",
       "      <td>2</td>\n",
       "      <td>10000.0</td>\n",
       "      <td>2</td>\n",
       "      <td>0</td>\n",
       "      <td>0</td>\n",
       "      <td>0</td>\n",
       "      <td>0.020902</td>\n",
       "      <td>14935000.0</td>\n",
       "      <td>0.907461</td>\n",
       "      <td>0.000000</td>\n",
       "      <td>0.043201</td>\n",
       "      <td>0.092539</td>\n",
       "      <td>0.907461</td>\n",
       "      <td>0.057159</td>\n",
       "      <td>0.051830</td>\n",
       "      <td>0.000000</td>\n",
       "      <td>0.000000</td>\n",
       "      <td>0.430745</td>\n",
       "      <td>1.529904</td>\n",
       "      <td>0.268960</td>\n",
       "      <td>0.000000</td>\n",
       "      <td>inf</td>\n",
       "      <td>inf</td>\n",
       "      <td>0.060942</td>\n",
       "      <td>1.199738</td>\n",
       "    </tr>\n",
       "    <tr>\n",
       "      <th>9</th>\n",
       "      <td>2135000.0</td>\n",
       "      <td>0.0</td>\n",
       "      <td>24680000.0</td>\n",
       "      <td>8263000.0</td>\n",
       "      <td>16417000.0</td>\n",
       "      <td>0.0</td>\n",
       "      <td>106000.0</td>\n",
       "      <td>2135000.0</td>\n",
       "      <td>11267000.0</td>\n",
       "      <td>11912000.0</td>\n",
       "      <td>0.0</td>\n",
       "      <td>13000.0</td>\n",
       "      <td>11899000.0</td>\n",
       "      <td>0.0</td>\n",
       "      <td>170</td>\n",
       "      <td>132</td>\n",
       "      <td>15</td>\n",
       "      <td>15</td>\n",
       "      <td>15</td>\n",
       "      <td>0</td>\n",
       "      <td>10000.0</td>\n",
       "      <td>2</td>\n",
       "      <td>0</td>\n",
       "      <td>0</td>\n",
       "      <td>0</td>\n",
       "      <td>0.130884</td>\n",
       "      <td>122655000.0</td>\n",
       "      <td>0.977861</td>\n",
       "      <td>0.000000</td>\n",
       "      <td>0.017021</td>\n",
       "      <td>0.022139</td>\n",
       "      <td>0.977861</td>\n",
       "      <td>0.189491</td>\n",
       "      <td>0.092109</td>\n",
       "      <td>0.004790</td>\n",
       "      <td>0.000561</td>\n",
       "      <td>0.213338</td>\n",
       "      <td>0.720148</td>\n",
       "      <td>1.379696</td>\n",
       "      <td>0.001154</td>\n",
       "      <td>1898.461538</td>\n",
       "      <td>8.153846</td>\n",
       "      <td>0.712844</td>\n",
       "      <td>5.411450</td>\n",
       "    </tr>\n",
       "    <tr>\n",
       "      <th>10</th>\n",
       "      <td>104000.0</td>\n",
       "      <td>0.0</td>\n",
       "      <td>38004000.0</td>\n",
       "      <td>23189000.0</td>\n",
       "      <td>14815000.0</td>\n",
       "      <td>0.0</td>\n",
       "      <td>449000.0</td>\n",
       "      <td>104000.0</td>\n",
       "      <td>10000.0</td>\n",
       "      <td>38443000.0</td>\n",
       "      <td>0.0</td>\n",
       "      <td>4986000.0</td>\n",
       "      <td>33457000.0</td>\n",
       "      <td>0.0</td>\n",
       "      <td>29</td>\n",
       "      <td>29</td>\n",
       "      <td>4</td>\n",
       "      <td>4</td>\n",
       "      <td>4</td>\n",
       "      <td>2</td>\n",
       "      <td>10000.0</td>\n",
       "      <td>2</td>\n",
       "      <td>0</td>\n",
       "      <td>0</td>\n",
       "      <td>0</td>\n",
       "      <td>0.248699</td>\n",
       "      <td>59331000.0</td>\n",
       "      <td>0.995988</td>\n",
       "      <td>0.000000</td>\n",
       "      <td>0.001746</td>\n",
       "      <td>0.004012</td>\n",
       "      <td>0.995988</td>\n",
       "      <td>10.400000</td>\n",
       "      <td>0.002705</td>\n",
       "      <td>35.112676</td>\n",
       "      <td>0.129665</td>\n",
       "      <td>0.267606</td>\n",
       "      <td>2.191889</td>\n",
       "      <td>0.442807</td>\n",
       "      <td>498.600000</td>\n",
       "      <td>7.622142</td>\n",
       "      <td>0.090052</td>\n",
       "      <td>0.396952</td>\n",
       "      <td>1.549164</td>\n",
       "    </tr>\n",
       "    <tr>\n",
       "      <th>11</th>\n",
       "      <td>21608000.0</td>\n",
       "      <td>2094000.0</td>\n",
       "      <td>106180000.0</td>\n",
       "      <td>1180000.0</td>\n",
       "      <td>105000000.0</td>\n",
       "      <td>0.0</td>\n",
       "      <td>557000.0</td>\n",
       "      <td>21608000.0</td>\n",
       "      <td>90313000.0</td>\n",
       "      <td>18518000.0</td>\n",
       "      <td>0.0</td>\n",
       "      <td>7500000.0</td>\n",
       "      <td>11018000.0</td>\n",
       "      <td>0.0</td>\n",
       "      <td>102</td>\n",
       "      <td>102</td>\n",
       "      <td>4</td>\n",
       "      <td>4</td>\n",
       "      <td>4</td>\n",
       "      <td>1</td>\n",
       "      <td>300000.0</td>\n",
       "      <td>2</td>\n",
       "      <td>0</td>\n",
       "      <td>0</td>\n",
       "      <td>0</td>\n",
       "      <td>0.582929</td>\n",
       "      <td>142075000.0</td>\n",
       "      <td>0.788758</td>\n",
       "      <td>0.103724</td>\n",
       "      <td>0.119961</td>\n",
       "      <td>0.211242</td>\n",
       "      <td>0.788758</td>\n",
       "      <td>0.239257</td>\n",
       "      <td>0.198546</td>\n",
       "      <td>0.347094</td>\n",
       "      <td>0.068914</td>\n",
       "      <td>0.000000</td>\n",
       "      <td>0.104380</td>\n",
       "      <td>9.529860</td>\n",
       "      <td>0.083045</td>\n",
       "      <td>14.157333</td>\n",
       "      <td>0.074267</td>\n",
       "      <td>0.969917</td>\n",
       "      <td>1.655089</td>\n",
       "    </tr>\n",
       "    <tr>\n",
       "      <th>12</th>\n",
       "      <td>71000.0</td>\n",
       "      <td>1269000.0</td>\n",
       "      <td>35349000.0</td>\n",
       "      <td>28034000.0</td>\n",
       "      <td>7237000.0</td>\n",
       "      <td>78000.0</td>\n",
       "      <td>2008000.0</td>\n",
       "      <td>71000.0</td>\n",
       "      <td>94000.0</td>\n",
       "      <td>38532000.0</td>\n",
       "      <td>2866000.0</td>\n",
       "      <td>0.0</td>\n",
       "      <td>35666000.0</td>\n",
       "      <td>0.0</td>\n",
       "      <td>24</td>\n",
       "      <td>24</td>\n",
       "      <td>7</td>\n",
       "      <td>7</td>\n",
       "      <td>7</td>\n",
       "      <td>2</td>\n",
       "      <td>21000.0</td>\n",
       "      <td>1</td>\n",
       "      <td>0</td>\n",
       "      <td>0</td>\n",
       "      <td>0</td>\n",
       "      <td>0.204580</td>\n",
       "      <td>4710000.0</td>\n",
       "      <td>0.133145</td>\n",
       "      <td>0.830635</td>\n",
       "      <td>0.002007</td>\n",
       "      <td>0.866855</td>\n",
       "      <td>0.133145</td>\n",
       "      <td>0.755319</td>\n",
       "      <td>0.001838</td>\n",
       "      <td>32.202247</td>\n",
       "      <td>0.074199</td>\n",
       "      <td>0.202247</td>\n",
       "      <td>3.857869</td>\n",
       "      <td>0.202910</td>\n",
       "      <td>30.489362</td>\n",
       "      <td>inf</td>\n",
       "      <td>inf</td>\n",
       "      <td>0.239347</td>\n",
       "      <td>0.915834</td>\n",
       "    </tr>\n",
       "    <tr>\n",
       "      <th>14</th>\n",
       "      <td>855000.0</td>\n",
       "      <td>0.0</td>\n",
       "      <td>11564000.0</td>\n",
       "      <td>8770000.0</td>\n",
       "      <td>2794000.0</td>\n",
       "      <td>0.0</td>\n",
       "      <td>606000.0</td>\n",
       "      <td>855000.0</td>\n",
       "      <td>865000.0</td>\n",
       "      <td>0.0</td>\n",
       "      <td>0.0</td>\n",
       "      <td>0.0</td>\n",
       "      <td>0.0</td>\n",
       "      <td>0.0</td>\n",
       "      <td>20</td>\n",
       "      <td>20</td>\n",
       "      <td>16</td>\n",
       "      <td>16</td>\n",
       "      <td>16</td>\n",
       "      <td>2</td>\n",
       "      <td>10000.0</td>\n",
       "      <td>1</td>\n",
       "      <td>0</td>\n",
       "      <td>0</td>\n",
       "      <td>0</td>\n",
       "      <td>0.120733</td>\n",
       "      <td>22064000.0</td>\n",
       "      <td>0.953418</td>\n",
       "      <td>0.000000</td>\n",
       "      <td>0.036946</td>\n",
       "      <td>0.046582</td>\n",
       "      <td>0.953418</td>\n",
       "      <td>0.988439</td>\n",
       "      <td>0.988439</td>\n",
       "      <td>0.000000</td>\n",
       "      <td>0.000000</td>\n",
       "      <td>0.200187</td>\n",
       "      <td>0.000000</td>\n",
       "      <td>inf</td>\n",
       "      <td>0.000000</td>\n",
       "      <td>inf</td>\n",
       "      <td>inf</td>\n",
       "      <td>3.930636</td>\n",
       "      <td>26.753757</td>\n",
       "    </tr>\n",
       "    <tr>\n",
       "      <th>15</th>\n",
       "      <td>157000.0</td>\n",
       "      <td>0.0</td>\n",
       "      <td>3879000.0</td>\n",
       "      <td>1643000.0</td>\n",
       "      <td>2236000.0</td>\n",
       "      <td>0.0</td>\n",
       "      <td>213000.0</td>\n",
       "      <td>157000.0</td>\n",
       "      <td>219000.0</td>\n",
       "      <td>3873000.0</td>\n",
       "      <td>0.0</td>\n",
       "      <td>2387000.0</td>\n",
       "      <td>1486000.0</td>\n",
       "      <td>0.0</td>\n",
       "      <td>48</td>\n",
       "      <td>48</td>\n",
       "      <td>16</td>\n",
       "      <td>16</td>\n",
       "      <td>16</td>\n",
       "      <td>2</td>\n",
       "      <td>10000.0</td>\n",
       "      <td>1</td>\n",
       "      <td>0</td>\n",
       "      <td>0</td>\n",
       "      <td>0</td>\n",
       "      <td>0.138469</td>\n",
       "      <td>15893000.0</td>\n",
       "      <td>0.984209</td>\n",
       "      <td>0.000000</td>\n",
       "      <td>0.009723</td>\n",
       "      <td>0.015791</td>\n",
       "      <td>0.984209</td>\n",
       "      <td>0.716895</td>\n",
       "      <td>0.038368</td>\n",
       "      <td>12.116751</td>\n",
       "      <td>0.583333</td>\n",
       "      <td>0.203046</td>\n",
       "      <td>0.606778</td>\n",
       "      <td>1.504711</td>\n",
       "      <td>10.899543</td>\n",
       "      <td>1.625052</td>\n",
       "      <td>0.089233</td>\n",
       "      <td>0.598485</td>\n",
       "      <td>3.946237</td>\n",
       "    </tr>\n",
       "    <tr>\n",
       "      <th>16</th>\n",
       "      <td>0.0</td>\n",
       "      <td>10000.0</td>\n",
       "      <td>0.0</td>\n",
       "      <td>0.0</td>\n",
       "      <td>0.0</td>\n",
       "      <td>0.0</td>\n",
       "      <td>150000.0</td>\n",
       "      <td>0.0</td>\n",
       "      <td>10000.0</td>\n",
       "      <td>150000.0</td>\n",
       "      <td>0.0</td>\n",
       "      <td>150000.0</td>\n",
       "      <td>0.0</td>\n",
       "      <td>0.0</td>\n",
       "      <td>20</td>\n",
       "      <td>20</td>\n",
       "      <td>4</td>\n",
       "      <td>4</td>\n",
       "      <td>4</td>\n",
       "      <td>2</td>\n",
       "      <td>10000.0</td>\n",
       "      <td>1</td>\n",
       "      <td>0</td>\n",
       "      <td>0</td>\n",
       "      <td>0</td>\n",
       "      <td>0.000000</td>\n",
       "      <td>146000.0</td>\n",
       "      <td>0.169767</td>\n",
       "      <td>0.182482</td>\n",
       "      <td>0.000000</td>\n",
       "      <td>0.830233</td>\n",
       "      <td>0.169767</td>\n",
       "      <td>0.000000</td>\n",
       "      <td>0.000000</td>\n",
       "      <td>inf</td>\n",
       "      <td>0.937500</td>\n",
       "      <td>NaN</td>\n",
       "      <td>0.000000</td>\n",
       "      <td>NaN</td>\n",
       "      <td>15.000000</td>\n",
       "      <td>0.000000</td>\n",
       "      <td>1.000000</td>\n",
       "      <td>0.937500</td>\n",
       "      <td>5.375000</td>\n",
       "    </tr>\n",
       "  </tbody>\n",
       "</table>\n",
       "</div>"
      ],
      "text/plain": [
       "    ar_net_profit  ab_immobilized_assets  ab_mobile_current_assets  \\\n",
       "0       1198000.0                    0.0                 7240000.0   \n",
       "3       1919000.0                    0.0                 4245000.0   \n",
       "4        711000.0                    0.0                 8950000.0   \n",
       "9       2135000.0                    0.0                24680000.0   \n",
       "10       104000.0                    0.0                38004000.0   \n",
       "11     21608000.0              2094000.0               106180000.0   \n",
       "12        71000.0              1269000.0                35349000.0   \n",
       "14       855000.0                    0.0                11564000.0   \n",
       "15       157000.0                    0.0                 3879000.0   \n",
       "16            0.0                10000.0                       0.0   \n",
       "\n",
       "    ab_inventory  ab_accounts_receivable  ab_other_current_assets  \\\n",
       "0      4988000.0               2252000.0                      0.0   \n",
       "3      4082000.0                163000.0                      0.0   \n",
       "4      8606000.0                344000.0                      0.0   \n",
       "9      8263000.0              16417000.0                      0.0   \n",
       "10    23189000.0              14815000.0                      0.0   \n",
       "11     1180000.0             105000000.0                      0.0   \n",
       "12    28034000.0               7237000.0                  78000.0   \n",
       "14     8770000.0               2794000.0                      0.0   \n",
       "15     1643000.0               2236000.0                      0.0   \n",
       "16           0.0                     0.0                      0.0   \n",
       "\n",
       "    ab_cash_and_securities   ab_losses  ab_own_capital  ab_borrowed_capital  \\\n",
       "0                 255000.0   1198000.0        663000.0           15872000.0   \n",
       "3                  25000.0   1919000.0       2219000.0            3652000.0   \n",
       "4                 492000.0    711000.0      12439000.0            1279000.0   \n",
       "9                 106000.0   2135000.0      11267000.0           11912000.0   \n",
       "10                449000.0    104000.0         10000.0           38443000.0   \n",
       "11                557000.0  21608000.0      90313000.0           18518000.0   \n",
       "12               2008000.0     71000.0         94000.0           38532000.0   \n",
       "14                606000.0    855000.0        865000.0                  0.0   \n",
       "15                213000.0    157000.0        219000.0            3873000.0   \n",
       "16                150000.0         0.0         10000.0             150000.0   \n",
       "\n",
       "    ab_long_term_liabilities  ab_short_term_borrowing  ab_accounts_payable  \\\n",
       "0                        0.0               11349000.0            4523000.0   \n",
       "3                        0.0                3652000.0                  0.0   \n",
       "4                        0.0                      0.0            1279000.0   \n",
       "9                        0.0                  13000.0           11899000.0   \n",
       "10                       0.0                4986000.0           33457000.0   \n",
       "11                       0.0                7500000.0           11018000.0   \n",
       "12                 2866000.0                      0.0           35666000.0   \n",
       "14                       0.0                      0.0                  0.0   \n",
       "15                       0.0                2387000.0            1486000.0   \n",
       "16                       0.0                 150000.0                  0.0   \n",
       "\n",
       "    ab_other_borrowings  bus_age  ogrn_age  adr_actual_age  head_actual_age  \\\n",
       "0                   0.0      198       136               3                3   \n",
       "3                   0.0      185       139               8                8   \n",
       "4                   0.0      220       138              27               27   \n",
       "9                   0.0      170       132              15               15   \n",
       "10                  0.0       29        29               4                4   \n",
       "11                  0.0      102       102               4                4   \n",
       "12                  0.0       24        24               7                7   \n",
       "14                  0.0       20        20              16               16   \n",
       "15                  0.0       48        48              16               16   \n",
       "16                  0.0       20        20               4                4   \n",
       "\n",
       "    cap_actual_age  ul_staff_range  ul_capital_sum  ul_founders_cnt  \\\n",
       "0                3               2         50000.0                2   \n",
       "3                8               2        300000.0                1   \n",
       "4               27               2         10000.0                2   \n",
       "9               15               0         10000.0                2   \n",
       "10               4               2         10000.0                2   \n",
       "11               4               1        300000.0                2   \n",
       "12               7               2         21000.0                1   \n",
       "14              16               2         10000.0                1   \n",
       "15              16               2         10000.0                1   \n",
       "16               4               2         10000.0                1   \n",
       "\n",
       "    ul_branch_cnt  ul_strategic_flg  default_12m  frac_post_pay         OPEX  \\\n",
       "0               0                 0            0       0.042494   48344000.0   \n",
       "3               0                 0            0       0.005086   29568000.0   \n",
       "4               0                 0            0       0.020902   14935000.0   \n",
       "9               0                 0            0       0.130884  122655000.0   \n",
       "10              0                 0            0       0.248699   59331000.0   \n",
       "11              0                 0            0       0.582929  142075000.0   \n",
       "12              0                 0            0       0.204580    4710000.0   \n",
       "14              0                 0            0       0.120733   22064000.0   \n",
       "15              0                 0            0       0.138469   15893000.0   \n",
       "16              0                 0            0       0.000000     146000.0   \n",
       "\n",
       "         OER  frac_comer_exp  Net_margin  gross_profit_margin  OP_Margin  \\\n",
       "0   0.912220        0.000000    0.022605             0.087780   0.912220   \n",
       "3   0.922587        0.000000    0.059877             0.077413   0.922587   \n",
       "4   0.907461        0.000000    0.043201             0.092539   0.907461   \n",
       "9   0.977861        0.000000    0.017021             0.022139   0.977861   \n",
       "10  0.995988        0.000000    0.001746             0.004012   0.995988   \n",
       "11  0.788758        0.103724    0.119961             0.211242   0.788758   \n",
       "12  0.133145        0.830635    0.002007             0.866855   0.133145   \n",
       "14  0.953418        0.000000    0.036946             0.046582   0.953418   \n",
       "15  0.984209        0.000000    0.009723             0.015791   0.984209   \n",
       "16  0.169767        0.182482    0.000000             0.830233   0.169767   \n",
       "\n",
       "          ROE       ROA  Debt/EBIT  Debt_ratio  tax_ratio  time_gap  \\\n",
       "0    1.806938  0.072452   5.552348    0.686362   0.413894  1.804148   \n",
       "3    0.864804  0.326861   1.644304    0.622041   0.135975  0.000000   \n",
       "4    0.057159  0.051830   0.000000    0.000000   0.430745  1.529904   \n",
       "9    0.189491  0.092109   0.004790    0.000561   0.213338  0.720148   \n",
       "10  10.400000  0.002705  35.112676    0.129665   0.267606  2.191889   \n",
       "11   0.239257  0.198546   0.347094    0.068914   0.000000  0.104380   \n",
       "12   0.755319  0.001838  32.202247    0.074199   0.202247  3.857869   \n",
       "14   0.988439  0.988439   0.000000    0.000000   0.200187  0.000000   \n",
       "15   0.716895  0.038368  12.116751    0.583333   0.203046  0.606778   \n",
       "16   0.000000  0.000000        inf    0.937500        NaN  0.000000   \n",
       "\n",
       "    borrowing_balance  Debt/Equity  current_ratio  cash_ratio  fast_pay  \\\n",
       "0            0.497900    17.117647       0.637942    0.022469  0.151618   \n",
       "3                 inf     1.645786       1.162377    0.006846  0.032022   \n",
       "4            0.268960     0.000000            inf         inf  0.060942   \n",
       "9            1.379696     0.001154    1898.461538    8.153846  0.712844   \n",
       "10           0.442807   498.600000       7.622142    0.090052  0.396952   \n",
       "11           9.529860     0.083045      14.157333    0.074267  0.969917   \n",
       "12           0.202910    30.489362            inf         inf  0.239347   \n",
       "14                inf     0.000000            inf         inf  3.930636   \n",
       "15           1.504711    10.899543       1.625052    0.089233  0.598485   \n",
       "16                NaN    15.000000       0.000000    1.000000  0.937500   \n",
       "\n",
       "    tumover_ratio  \n",
       "0        3.205080  \n",
       "3        5.458866  \n",
       "4        1.199738  \n",
       "9        5.411450  \n",
       "10       1.549164  \n",
       "11       1.655089  \n",
       "12       0.915834  \n",
       "14      26.753757  \n",
       "15       3.946237  \n",
       "16       5.375000  "
      ]
     },
     "execution_count": 63,
     "metadata": {},
     "output_type": "execute_result"
    }
   ],
   "source": [
    "df_fin_train_feature_complex.head(10)"
   ]
  },
  {
   "cell_type": "markdown",
   "metadata": {
    "id": "b5uiKmxjFmKD"
   },
   "source": [
    "Заметим, что в некоторых новых признаках присутствуют значения inf и nan (из-за деления на 0). Заменим их на 0: **(точно?)**"
   ]
  },
  {
   "cell_type": "code",
   "execution_count": 64,
   "metadata": {
    "id": "vB4EUMlGFmKD"
   },
   "outputs": [],
   "source": [
    "df_fin_train_feature_complex_fillna = df_fin_train_feature_complex.fillna(0)\n",
    "df_fin_test_feature_complex_fillna = df_fin_test_feature_complex.fillna(0)\n",
    "\n",
    "df_fin_train_feature_complex_fillna = df_fin_train_feature_complex_fillna.replace(np.inf,0)\n",
    "df_fin_test_feature_complex_fillna = df_fin_test_feature_complex_fillna.replace(np.inf,0)\n",
    "df_fin_train_feature_complex_fillna = df_fin_train_feature_complex_fillna.replace(-np.inf,0)\n",
    "df_fin_test_feature_complex_fillna = df_fin_test_feature_complex_fillna.replace(-np.inf,0)"
   ]
  },
  {
   "cell_type": "code",
   "execution_count": 65,
   "metadata": {},
   "outputs": [],
   "source": [
    "df_fin_train_feature_complex_fillna = df_fin_train_feature_complex_fillna.drop(corr_columns_to_del_fin,axis =1)\n",
    "df_fin_test_feature_complex_fillna = df_fin_test_feature_complex_fillna.drop(corr_columns_to_del_fin,axis =1)"
   ]
  },
  {
   "cell_type": "code",
   "execution_count": 66,
   "metadata": {},
   "outputs": [],
   "source": [
    "corr_columns_to_del_no_fin = [\"adr_actual_age\",'head_actual_age','bus_age']"
   ]
  },
  {
   "cell_type": "code",
   "execution_count": 67,
   "metadata": {},
   "outputs": [],
   "source": [
    "df_no_fin_train_dropna = df_no_fin_train_dropna.drop(corr_columns_to_del_no_fin,axis = 1)\n",
    "df_no_fin_test_dropna = df_no_fin_test_dropna.drop(corr_columns_to_del_no_fin,axis = 1)"
   ]
  },
  {
   "cell_type": "code",
   "execution_count": 68,
   "metadata": {},
   "outputs": [
    {
     "data": {
      "text/html": [
       "<div>\n",
       "<style scoped>\n",
       "    .dataframe tbody tr th:only-of-type {\n",
       "        vertical-align: middle;\n",
       "    }\n",
       "\n",
       "    .dataframe tbody tr th {\n",
       "        vertical-align: top;\n",
       "    }\n",
       "\n",
       "    .dataframe thead th {\n",
       "        text-align: right;\n",
       "    }\n",
       "</style>\n",
       "<table border=\"1\" class=\"dataframe\">\n",
       "  <thead>\n",
       "    <tr style=\"text-align: right;\">\n",
       "      <th></th>\n",
       "      <th>record_id</th>\n",
       "      <th>bus_age</th>\n",
       "      <th>ogrn_age</th>\n",
       "      <th>adr_actual_age</th>\n",
       "      <th>head_actual_age</th>\n",
       "      <th>cap_actual_age</th>\n",
       "      <th>ul_staff_range</th>\n",
       "      <th>ul_capital_sum</th>\n",
       "      <th>ul_founders_cnt</th>\n",
       "      <th>ul_branch_cnt</th>\n",
       "      <th>ul_strategic_flg</th>\n",
       "    </tr>\n",
       "  </thead>\n",
       "  <tbody>\n",
       "    <tr>\n",
       "      <th>1</th>\n",
       "      <td>1196</td>\n",
       "      <td>216</td>\n",
       "      <td>138</td>\n",
       "      <td>5</td>\n",
       "      <td>5</td>\n",
       "      <td>5</td>\n",
       "      <td>2</td>\n",
       "      <td>100000.0</td>\n",
       "      <td>1</td>\n",
       "      <td>0</td>\n",
       "      <td>0</td>\n",
       "    </tr>\n",
       "    <tr>\n",
       "      <th>6</th>\n",
       "      <td>9178</td>\n",
       "      <td>98</td>\n",
       "      <td>98</td>\n",
       "      <td>28</td>\n",
       "      <td>28</td>\n",
       "      <td>28</td>\n",
       "      <td>0</td>\n",
       "      <td>10000.0</td>\n",
       "      <td>1</td>\n",
       "      <td>0</td>\n",
       "      <td>0</td>\n",
       "    </tr>\n",
       "    <tr>\n",
       "      <th>7</th>\n",
       "      <td>13143</td>\n",
       "      <td>43</td>\n",
       "      <td>43</td>\n",
       "      <td>28</td>\n",
       "      <td>28</td>\n",
       "      <td>28</td>\n",
       "      <td>2</td>\n",
       "      <td>10000.0</td>\n",
       "      <td>1</td>\n",
       "      <td>0</td>\n",
       "      <td>0</td>\n",
       "    </tr>\n",
       "    <tr>\n",
       "      <th>8</th>\n",
       "      <td>13547</td>\n",
       "      <td>16</td>\n",
       "      <td>16</td>\n",
       "      <td>11</td>\n",
       "      <td>11</td>\n",
       "      <td>11</td>\n",
       "      <td>2</td>\n",
       "      <td>10000.0</td>\n",
       "      <td>1</td>\n",
       "      <td>0</td>\n",
       "      <td>0</td>\n",
       "    </tr>\n",
       "    <tr>\n",
       "      <th>9</th>\n",
       "      <td>18483</td>\n",
       "      <td>33</td>\n",
       "      <td>33</td>\n",
       "      <td>2</td>\n",
       "      <td>2</td>\n",
       "      <td>2</td>\n",
       "      <td>2</td>\n",
       "      <td>10000.0</td>\n",
       "      <td>1</td>\n",
       "      <td>0</td>\n",
       "      <td>0</td>\n",
       "    </tr>\n",
       "    <tr>\n",
       "      <th>11</th>\n",
       "      <td>22367</td>\n",
       "      <td>196</td>\n",
       "      <td>139</td>\n",
       "      <td>2</td>\n",
       "      <td>2</td>\n",
       "      <td>2</td>\n",
       "      <td>2</td>\n",
       "      <td>1488644.0</td>\n",
       "      <td>2</td>\n",
       "      <td>0</td>\n",
       "      <td>0</td>\n",
       "    </tr>\n",
       "    <tr>\n",
       "      <th>14</th>\n",
       "      <td>26923</td>\n",
       "      <td>8</td>\n",
       "      <td>8</td>\n",
       "      <td>9</td>\n",
       "      <td>9</td>\n",
       "      <td>9</td>\n",
       "      <td>2</td>\n",
       "      <td>10000.0</td>\n",
       "      <td>1</td>\n",
       "      <td>0</td>\n",
       "      <td>0</td>\n",
       "    </tr>\n",
       "    <tr>\n",
       "      <th>15</th>\n",
       "      <td>27565</td>\n",
       "      <td>75</td>\n",
       "      <td>75</td>\n",
       "      <td>23</td>\n",
       "      <td>23</td>\n",
       "      <td>23</td>\n",
       "      <td>2</td>\n",
       "      <td>200000.0</td>\n",
       "      <td>3</td>\n",
       "      <td>0</td>\n",
       "      <td>0</td>\n",
       "    </tr>\n",
       "    <tr>\n",
       "      <th>16</th>\n",
       "      <td>28085</td>\n",
       "      <td>79</td>\n",
       "      <td>79</td>\n",
       "      <td>12</td>\n",
       "      <td>12</td>\n",
       "      <td>12</td>\n",
       "      <td>2</td>\n",
       "      <td>10000.0</td>\n",
       "      <td>2</td>\n",
       "      <td>0</td>\n",
       "      <td>0</td>\n",
       "    </tr>\n",
       "    <tr>\n",
       "      <th>19</th>\n",
       "      <td>30403</td>\n",
       "      <td>102</td>\n",
       "      <td>102</td>\n",
       "      <td>26</td>\n",
       "      <td>26</td>\n",
       "      <td>26</td>\n",
       "      <td>2</td>\n",
       "      <td>10000.0</td>\n",
       "      <td>1</td>\n",
       "      <td>0</td>\n",
       "      <td>0</td>\n",
       "    </tr>\n",
       "    <tr>\n",
       "      <th>22</th>\n",
       "      <td>30919</td>\n",
       "      <td>25</td>\n",
       "      <td>25</td>\n",
       "      <td>17</td>\n",
       "      <td>17</td>\n",
       "      <td>17</td>\n",
       "      <td>2</td>\n",
       "      <td>11000.0</td>\n",
       "      <td>1</td>\n",
       "      <td>0</td>\n",
       "      <td>0</td>\n",
       "    </tr>\n",
       "    <tr>\n",
       "      <th>23</th>\n",
       "      <td>31002</td>\n",
       "      <td>105</td>\n",
       "      <td>105</td>\n",
       "      <td>24</td>\n",
       "      <td>24</td>\n",
       "      <td>24</td>\n",
       "      <td>2</td>\n",
       "      <td>50000.0</td>\n",
       "      <td>2</td>\n",
       "      <td>0</td>\n",
       "      <td>0</td>\n",
       "    </tr>\n",
       "    <tr>\n",
       "      <th>24</th>\n",
       "      <td>31266</td>\n",
       "      <td>43</td>\n",
       "      <td>43</td>\n",
       "      <td>33</td>\n",
       "      <td>33</td>\n",
       "      <td>33</td>\n",
       "      <td>2</td>\n",
       "      <td>10000.0</td>\n",
       "      <td>1</td>\n",
       "      <td>0</td>\n",
       "      <td>0</td>\n",
       "    </tr>\n",
       "    <tr>\n",
       "      <th>25</th>\n",
       "      <td>31313</td>\n",
       "      <td>27</td>\n",
       "      <td>27</td>\n",
       "      <td>25</td>\n",
       "      <td>25</td>\n",
       "      <td>25</td>\n",
       "      <td>2</td>\n",
       "      <td>10000.0</td>\n",
       "      <td>2</td>\n",
       "      <td>0</td>\n",
       "      <td>0</td>\n",
       "    </tr>\n",
       "    <tr>\n",
       "      <th>27</th>\n",
       "      <td>31766</td>\n",
       "      <td>8</td>\n",
       "      <td>8</td>\n",
       "      <td>3</td>\n",
       "      <td>3</td>\n",
       "      <td>3</td>\n",
       "      <td>2</td>\n",
       "      <td>10000.0</td>\n",
       "      <td>2</td>\n",
       "      <td>0</td>\n",
       "      <td>0</td>\n",
       "    </tr>\n",
       "    <tr>\n",
       "      <th>29</th>\n",
       "      <td>34295</td>\n",
       "      <td>78</td>\n",
       "      <td>78</td>\n",
       "      <td>15</td>\n",
       "      <td>15</td>\n",
       "      <td>15</td>\n",
       "      <td>2</td>\n",
       "      <td>10000.0</td>\n",
       "      <td>1</td>\n",
       "      <td>0</td>\n",
       "      <td>0</td>\n",
       "    </tr>\n",
       "    <tr>\n",
       "      <th>34</th>\n",
       "      <td>40535</td>\n",
       "      <td>66</td>\n",
       "      <td>66</td>\n",
       "      <td>4</td>\n",
       "      <td>4</td>\n",
       "      <td>4</td>\n",
       "      <td>2</td>\n",
       "      <td>500000.0</td>\n",
       "      <td>1</td>\n",
       "      <td>0</td>\n",
       "      <td>0</td>\n",
       "    </tr>\n",
       "    <tr>\n",
       "      <th>35</th>\n",
       "      <td>42198</td>\n",
       "      <td>71</td>\n",
       "      <td>71</td>\n",
       "      <td>28</td>\n",
       "      <td>28</td>\n",
       "      <td>28</td>\n",
       "      <td>2</td>\n",
       "      <td>40000.0</td>\n",
       "      <td>2</td>\n",
       "      <td>0</td>\n",
       "      <td>0</td>\n",
       "    </tr>\n",
       "    <tr>\n",
       "      <th>36</th>\n",
       "      <td>43460</td>\n",
       "      <td>62</td>\n",
       "      <td>62</td>\n",
       "      <td>25</td>\n",
       "      <td>25</td>\n",
       "      <td>25</td>\n",
       "      <td>2</td>\n",
       "      <td>10000.0</td>\n",
       "      <td>1</td>\n",
       "      <td>0</td>\n",
       "      <td>0</td>\n",
       "    </tr>\n",
       "    <tr>\n",
       "      <th>38</th>\n",
       "      <td>47190</td>\n",
       "      <td>56</td>\n",
       "      <td>56</td>\n",
       "      <td>26</td>\n",
       "      <td>26</td>\n",
       "      <td>26</td>\n",
       "      <td>2</td>\n",
       "      <td>10000.0</td>\n",
       "      <td>1</td>\n",
       "      <td>0</td>\n",
       "      <td>0</td>\n",
       "    </tr>\n",
       "    <tr>\n",
       "      <th>40</th>\n",
       "      <td>49278</td>\n",
       "      <td>50</td>\n",
       "      <td>50</td>\n",
       "      <td>25</td>\n",
       "      <td>25</td>\n",
       "      <td>25</td>\n",
       "      <td>2</td>\n",
       "      <td>10000.0</td>\n",
       "      <td>1</td>\n",
       "      <td>0</td>\n",
       "      <td>0</td>\n",
       "    </tr>\n",
       "    <tr>\n",
       "      <th>42</th>\n",
       "      <td>52800</td>\n",
       "      <td>170</td>\n",
       "      <td>135</td>\n",
       "      <td>22</td>\n",
       "      <td>22</td>\n",
       "      <td>22</td>\n",
       "      <td>2</td>\n",
       "      <td>10000.0</td>\n",
       "      <td>1</td>\n",
       "      <td>0</td>\n",
       "      <td>0</td>\n",
       "    </tr>\n",
       "    <tr>\n",
       "      <th>44</th>\n",
       "      <td>54481</td>\n",
       "      <td>140</td>\n",
       "      <td>134</td>\n",
       "      <td>18</td>\n",
       "      <td>18</td>\n",
       "      <td>18</td>\n",
       "      <td>2</td>\n",
       "      <td>0.0</td>\n",
       "      <td>1</td>\n",
       "      <td>0</td>\n",
       "      <td>0</td>\n",
       "    </tr>\n",
       "    <tr>\n",
       "      <th>45</th>\n",
       "      <td>54913</td>\n",
       "      <td>221</td>\n",
       "      <td>138</td>\n",
       "      <td>23</td>\n",
       "      <td>23</td>\n",
       "      <td>23</td>\n",
       "      <td>2</td>\n",
       "      <td>30000.0</td>\n",
       "      <td>1</td>\n",
       "      <td>0</td>\n",
       "      <td>0</td>\n",
       "    </tr>\n",
       "    <tr>\n",
       "      <th>46</th>\n",
       "      <td>55905</td>\n",
       "      <td>125</td>\n",
       "      <td>125</td>\n",
       "      <td>7</td>\n",
       "      <td>7</td>\n",
       "      <td>7</td>\n",
       "      <td>2</td>\n",
       "      <td>20000.0</td>\n",
       "      <td>2</td>\n",
       "      <td>0</td>\n",
       "      <td>0</td>\n",
       "    </tr>\n",
       "    <tr>\n",
       "      <th>48</th>\n",
       "      <td>62713</td>\n",
       "      <td>56</td>\n",
       "      <td>56</td>\n",
       "      <td>1</td>\n",
       "      <td>1</td>\n",
       "      <td>1</td>\n",
       "      <td>2</td>\n",
       "      <td>55000.0</td>\n",
       "      <td>1</td>\n",
       "      <td>0</td>\n",
       "      <td>0</td>\n",
       "    </tr>\n",
       "    <tr>\n",
       "      <th>50</th>\n",
       "      <td>69506</td>\n",
       "      <td>25</td>\n",
       "      <td>25</td>\n",
       "      <td>25</td>\n",
       "      <td>25</td>\n",
       "      <td>25</td>\n",
       "      <td>2</td>\n",
       "      <td>10000.0</td>\n",
       "      <td>1</td>\n",
       "      <td>0</td>\n",
       "      <td>0</td>\n",
       "    </tr>\n",
       "    <tr>\n",
       "      <th>51</th>\n",
       "      <td>69617</td>\n",
       "      <td>20</td>\n",
       "      <td>20</td>\n",
       "      <td>5</td>\n",
       "      <td>5</td>\n",
       "      <td>5</td>\n",
       "      <td>2</td>\n",
       "      <td>10000.0</td>\n",
       "      <td>1</td>\n",
       "      <td>0</td>\n",
       "      <td>0</td>\n",
       "    </tr>\n",
       "    <tr>\n",
       "      <th>52</th>\n",
       "      <td>70012</td>\n",
       "      <td>14</td>\n",
       "      <td>14</td>\n",
       "      <td>15</td>\n",
       "      <td>15</td>\n",
       "      <td>15</td>\n",
       "      <td>2</td>\n",
       "      <td>10000.0</td>\n",
       "      <td>1</td>\n",
       "      <td>0</td>\n",
       "      <td>0</td>\n",
       "    </tr>\n",
       "    <tr>\n",
       "      <th>53</th>\n",
       "      <td>70255</td>\n",
       "      <td>87</td>\n",
       "      <td>87</td>\n",
       "      <td>3</td>\n",
       "      <td>3</td>\n",
       "      <td>3</td>\n",
       "      <td>2</td>\n",
       "      <td>10000.0</td>\n",
       "      <td>1</td>\n",
       "      <td>0</td>\n",
       "      <td>0</td>\n",
       "    </tr>\n",
       "    <tr>\n",
       "      <th>54</th>\n",
       "      <td>70259</td>\n",
       "      <td>11</td>\n",
       "      <td>11</td>\n",
       "      <td>3</td>\n",
       "      <td>3</td>\n",
       "      <td>3</td>\n",
       "      <td>2</td>\n",
       "      <td>12000.0</td>\n",
       "      <td>1</td>\n",
       "      <td>0</td>\n",
       "      <td>0</td>\n",
       "    </tr>\n",
       "    <tr>\n",
       "      <th>55</th>\n",
       "      <td>76061</td>\n",
       "      <td>29</td>\n",
       "      <td>29</td>\n",
       "      <td>11</td>\n",
       "      <td>11</td>\n",
       "      <td>11</td>\n",
       "      <td>2</td>\n",
       "      <td>10000.0</td>\n",
       "      <td>2</td>\n",
       "      <td>0</td>\n",
       "      <td>0</td>\n",
       "    </tr>\n",
       "    <tr>\n",
       "      <th>56</th>\n",
       "      <td>76873</td>\n",
       "      <td>47</td>\n",
       "      <td>47</td>\n",
       "      <td>3</td>\n",
       "      <td>3</td>\n",
       "      <td>3</td>\n",
       "      <td>2</td>\n",
       "      <td>10000.0</td>\n",
       "      <td>1</td>\n",
       "      <td>0</td>\n",
       "      <td>0</td>\n",
       "    </tr>\n",
       "    <tr>\n",
       "      <th>58</th>\n",
       "      <td>78731</td>\n",
       "      <td>1</td>\n",
       "      <td>1</td>\n",
       "      <td>2</td>\n",
       "      <td>2</td>\n",
       "      <td>2</td>\n",
       "      <td>2</td>\n",
       "      <td>10000.0</td>\n",
       "      <td>2</td>\n",
       "      <td>0</td>\n",
       "      <td>0</td>\n",
       "    </tr>\n",
       "    <tr>\n",
       "      <th>60</th>\n",
       "      <td>80719</td>\n",
       "      <td>45</td>\n",
       "      <td>45</td>\n",
       "      <td>28</td>\n",
       "      <td>28</td>\n",
       "      <td>28</td>\n",
       "      <td>2</td>\n",
       "      <td>10000.0</td>\n",
       "      <td>2</td>\n",
       "      <td>0</td>\n",
       "      <td>0</td>\n",
       "    </tr>\n",
       "    <tr>\n",
       "      <th>62</th>\n",
       "      <td>85779</td>\n",
       "      <td>45</td>\n",
       "      <td>45</td>\n",
       "      <td>7</td>\n",
       "      <td>7</td>\n",
       "      <td>7</td>\n",
       "      <td>2</td>\n",
       "      <td>10000.0</td>\n",
       "      <td>1</td>\n",
       "      <td>0</td>\n",
       "      <td>0</td>\n",
       "    </tr>\n",
       "    <tr>\n",
       "      <th>63</th>\n",
       "      <td>85906</td>\n",
       "      <td>59</td>\n",
       "      <td>59</td>\n",
       "      <td>12</td>\n",
       "      <td>12</td>\n",
       "      <td>12</td>\n",
       "      <td>2</td>\n",
       "      <td>20000.0</td>\n",
       "      <td>1</td>\n",
       "      <td>0</td>\n",
       "      <td>0</td>\n",
       "    </tr>\n",
       "    <tr>\n",
       "      <th>64</th>\n",
       "      <td>89146</td>\n",
       "      <td>267</td>\n",
       "      <td>140</td>\n",
       "      <td>11</td>\n",
       "      <td>11</td>\n",
       "      <td>11</td>\n",
       "      <td>2</td>\n",
       "      <td>0.0</td>\n",
       "      <td>2</td>\n",
       "      <td>0</td>\n",
       "      <td>0</td>\n",
       "    </tr>\n",
       "    <tr>\n",
       "      <th>65</th>\n",
       "      <td>89155</td>\n",
       "      <td>23</td>\n",
       "      <td>23</td>\n",
       "      <td>9</td>\n",
       "      <td>9</td>\n",
       "      <td>9</td>\n",
       "      <td>2</td>\n",
       "      <td>10000.0</td>\n",
       "      <td>2</td>\n",
       "      <td>0</td>\n",
       "      <td>0</td>\n",
       "    </tr>\n",
       "    <tr>\n",
       "      <th>67</th>\n",
       "      <td>92204</td>\n",
       "      <td>58</td>\n",
       "      <td>58</td>\n",
       "      <td>15</td>\n",
       "      <td>15</td>\n",
       "      <td>15</td>\n",
       "      <td>2</td>\n",
       "      <td>10000.0</td>\n",
       "      <td>1</td>\n",
       "      <td>0</td>\n",
       "      <td>0</td>\n",
       "    </tr>\n",
       "    <tr>\n",
       "      <th>68</th>\n",
       "      <td>92535</td>\n",
       "      <td>62</td>\n",
       "      <td>62</td>\n",
       "      <td>28</td>\n",
       "      <td>28</td>\n",
       "      <td>28</td>\n",
       "      <td>2</td>\n",
       "      <td>20000.0</td>\n",
       "      <td>2</td>\n",
       "      <td>0</td>\n",
       "      <td>0</td>\n",
       "    </tr>\n",
       "    <tr>\n",
       "      <th>70</th>\n",
       "      <td>93892</td>\n",
       "      <td>116</td>\n",
       "      <td>116</td>\n",
       "      <td>1</td>\n",
       "      <td>1</td>\n",
       "      <td>1</td>\n",
       "      <td>2</td>\n",
       "      <td>10000.0</td>\n",
       "      <td>1</td>\n",
       "      <td>0</td>\n",
       "      <td>0</td>\n",
       "    </tr>\n",
       "    <tr>\n",
       "      <th>71</th>\n",
       "      <td>95482</td>\n",
       "      <td>34</td>\n",
       "      <td>34</td>\n",
       "      <td>24</td>\n",
       "      <td>24</td>\n",
       "      <td>24</td>\n",
       "      <td>2</td>\n",
       "      <td>12000.0</td>\n",
       "      <td>3</td>\n",
       "      <td>0</td>\n",
       "      <td>0</td>\n",
       "    </tr>\n",
       "    <tr>\n",
       "      <th>72</th>\n",
       "      <td>95776</td>\n",
       "      <td>10</td>\n",
       "      <td>10</td>\n",
       "      <td>10</td>\n",
       "      <td>10</td>\n",
       "      <td>10</td>\n",
       "      <td>2</td>\n",
       "      <td>10000.0</td>\n",
       "      <td>2</td>\n",
       "      <td>0</td>\n",
       "      <td>0</td>\n",
       "    </tr>\n",
       "    <tr>\n",
       "      <th>74</th>\n",
       "      <td>97272</td>\n",
       "      <td>29</td>\n",
       "      <td>29</td>\n",
       "      <td>27</td>\n",
       "      <td>27</td>\n",
       "      <td>27</td>\n",
       "      <td>2</td>\n",
       "      <td>10000.0</td>\n",
       "      <td>1</td>\n",
       "      <td>0</td>\n",
       "      <td>0</td>\n",
       "    </tr>\n",
       "    <tr>\n",
       "      <th>75</th>\n",
       "      <td>98373</td>\n",
       "      <td>101</td>\n",
       "      <td>101</td>\n",
       "      <td>8</td>\n",
       "      <td>8</td>\n",
       "      <td>8</td>\n",
       "      <td>2</td>\n",
       "      <td>10000.0</td>\n",
       "      <td>1</td>\n",
       "      <td>0</td>\n",
       "      <td>0</td>\n",
       "    </tr>\n",
       "    <tr>\n",
       "      <th>76</th>\n",
       "      <td>98833</td>\n",
       "      <td>200</td>\n",
       "      <td>139</td>\n",
       "      <td>22</td>\n",
       "      <td>22</td>\n",
       "      <td>22</td>\n",
       "      <td>2</td>\n",
       "      <td>10000.0</td>\n",
       "      <td>1</td>\n",
       "      <td>0</td>\n",
       "      <td>0</td>\n",
       "    </tr>\n",
       "    <tr>\n",
       "      <th>77</th>\n",
       "      <td>98836</td>\n",
       "      <td>13</td>\n",
       "      <td>13</td>\n",
       "      <td>10</td>\n",
       "      <td>10</td>\n",
       "      <td>10</td>\n",
       "      <td>2</td>\n",
       "      <td>50000.0</td>\n",
       "      <td>1</td>\n",
       "      <td>0</td>\n",
       "      <td>0</td>\n",
       "    </tr>\n",
       "    <tr>\n",
       "      <th>78</th>\n",
       "      <td>100485</td>\n",
       "      <td>11</td>\n",
       "      <td>11</td>\n",
       "      <td>9</td>\n",
       "      <td>9</td>\n",
       "      <td>9</td>\n",
       "      <td>2</td>\n",
       "      <td>10000.0</td>\n",
       "      <td>1</td>\n",
       "      <td>0</td>\n",
       "      <td>0</td>\n",
       "    </tr>\n",
       "    <tr>\n",
       "      <th>79</th>\n",
       "      <td>105072</td>\n",
       "      <td>8</td>\n",
       "      <td>8</td>\n",
       "      <td>9</td>\n",
       "      <td>9</td>\n",
       "      <td>9</td>\n",
       "      <td>2</td>\n",
       "      <td>10000.0</td>\n",
       "      <td>1</td>\n",
       "      <td>0</td>\n",
       "      <td>0</td>\n",
       "    </tr>\n",
       "    <tr>\n",
       "      <th>80</th>\n",
       "      <td>108281</td>\n",
       "      <td>18</td>\n",
       "      <td>18</td>\n",
       "      <td>19</td>\n",
       "      <td>19</td>\n",
       "      <td>19</td>\n",
       "      <td>2</td>\n",
       "      <td>15000.0</td>\n",
       "      <td>1</td>\n",
       "      <td>0</td>\n",
       "      <td>0</td>\n",
       "    </tr>\n",
       "    <tr>\n",
       "      <th>81</th>\n",
       "      <td>109220</td>\n",
       "      <td>13</td>\n",
       "      <td>13</td>\n",
       "      <td>4</td>\n",
       "      <td>4</td>\n",
       "      <td>4</td>\n",
       "      <td>2</td>\n",
       "      <td>22223.0</td>\n",
       "      <td>2</td>\n",
       "      <td>0</td>\n",
       "      <td>0</td>\n",
       "    </tr>\n",
       "    <tr>\n",
       "      <th>82</th>\n",
       "      <td>109365</td>\n",
       "      <td>19</td>\n",
       "      <td>19</td>\n",
       "      <td>6</td>\n",
       "      <td>6</td>\n",
       "      <td>6</td>\n",
       "      <td>2</td>\n",
       "      <td>10000.0</td>\n",
       "      <td>2</td>\n",
       "      <td>0</td>\n",
       "      <td>0</td>\n",
       "    </tr>\n",
       "    <tr>\n",
       "      <th>84</th>\n",
       "      <td>112977</td>\n",
       "      <td>12</td>\n",
       "      <td>12</td>\n",
       "      <td>3</td>\n",
       "      <td>3</td>\n",
       "      <td>3</td>\n",
       "      <td>2</td>\n",
       "      <td>10000.0</td>\n",
       "      <td>2</td>\n",
       "      <td>0</td>\n",
       "      <td>0</td>\n",
       "    </tr>\n",
       "    <tr>\n",
       "      <th>87</th>\n",
       "      <td>114972</td>\n",
       "      <td>161</td>\n",
       "      <td>122</td>\n",
       "      <td>8</td>\n",
       "      <td>8</td>\n",
       "      <td>8</td>\n",
       "      <td>2</td>\n",
       "      <td>0.0</td>\n",
       "      <td>1</td>\n",
       "      <td>0</td>\n",
       "      <td>0</td>\n",
       "    </tr>\n",
       "    <tr>\n",
       "      <th>90</th>\n",
       "      <td>117399</td>\n",
       "      <td>5</td>\n",
       "      <td>5</td>\n",
       "      <td>3</td>\n",
       "      <td>3</td>\n",
       "      <td>3</td>\n",
       "      <td>2</td>\n",
       "      <td>10000.0</td>\n",
       "      <td>1</td>\n",
       "      <td>0</td>\n",
       "      <td>0</td>\n",
       "    </tr>\n",
       "    <tr>\n",
       "      <th>91</th>\n",
       "      <td>117569</td>\n",
       "      <td>54</td>\n",
       "      <td>54</td>\n",
       "      <td>3</td>\n",
       "      <td>3</td>\n",
       "      <td>3</td>\n",
       "      <td>2</td>\n",
       "      <td>1000000.0</td>\n",
       "      <td>1</td>\n",
       "      <td>0</td>\n",
       "      <td>0</td>\n",
       "    </tr>\n",
       "    <tr>\n",
       "      <th>92</th>\n",
       "      <td>117987</td>\n",
       "      <td>22</td>\n",
       "      <td>22</td>\n",
       "      <td>3</td>\n",
       "      <td>3</td>\n",
       "      <td>3</td>\n",
       "      <td>2</td>\n",
       "      <td>11000.0</td>\n",
       "      <td>1</td>\n",
       "      <td>0</td>\n",
       "      <td>0</td>\n",
       "    </tr>\n",
       "    <tr>\n",
       "      <th>95</th>\n",
       "      <td>125297</td>\n",
       "      <td>261</td>\n",
       "      <td>37</td>\n",
       "      <td>24</td>\n",
       "      <td>24</td>\n",
       "      <td>24</td>\n",
       "      <td>2</td>\n",
       "      <td>11400.0</td>\n",
       "      <td>3</td>\n",
       "      <td>0</td>\n",
       "      <td>0</td>\n",
       "    </tr>\n",
       "    <tr>\n",
       "      <th>96</th>\n",
       "      <td>125400</td>\n",
       "      <td>79</td>\n",
       "      <td>79</td>\n",
       "      <td>23</td>\n",
       "      <td>23</td>\n",
       "      <td>23</td>\n",
       "      <td>2</td>\n",
       "      <td>10000.0</td>\n",
       "      <td>1</td>\n",
       "      <td>0</td>\n",
       "      <td>0</td>\n",
       "    </tr>\n",
       "    <tr>\n",
       "      <th>97</th>\n",
       "      <td>126723</td>\n",
       "      <td>26</td>\n",
       "      <td>26</td>\n",
       "      <td>25</td>\n",
       "      <td>25</td>\n",
       "      <td>25</td>\n",
       "      <td>2</td>\n",
       "      <td>10000.0</td>\n",
       "      <td>1</td>\n",
       "      <td>0</td>\n",
       "      <td>0</td>\n",
       "    </tr>\n",
       "    <tr>\n",
       "      <th>98</th>\n",
       "      <td>126724</td>\n",
       "      <td>2</td>\n",
       "      <td>2</td>\n",
       "      <td>2</td>\n",
       "      <td>2</td>\n",
       "      <td>2</td>\n",
       "      <td>2</td>\n",
       "      <td>20000.0</td>\n",
       "      <td>1</td>\n",
       "      <td>0</td>\n",
       "      <td>0</td>\n",
       "    </tr>\n",
       "    <tr>\n",
       "      <th>99</th>\n",
       "      <td>126967</td>\n",
       "      <td>66</td>\n",
       "      <td>66</td>\n",
       "      <td>26</td>\n",
       "      <td>26</td>\n",
       "      <td>26</td>\n",
       "      <td>2</td>\n",
       "      <td>10000.0</td>\n",
       "      <td>1</td>\n",
       "      <td>0</td>\n",
       "      <td>0</td>\n",
       "    </tr>\n",
       "    <tr>\n",
       "      <th>100</th>\n",
       "      <td>128204</td>\n",
       "      <td>98</td>\n",
       "      <td>98</td>\n",
       "      <td>5</td>\n",
       "      <td>5</td>\n",
       "      <td>5</td>\n",
       "      <td>2</td>\n",
       "      <td>10000.0</td>\n",
       "      <td>1</td>\n",
       "      <td>0</td>\n",
       "      <td>0</td>\n",
       "    </tr>\n",
       "    <tr>\n",
       "      <th>103</th>\n",
       "      <td>135321</td>\n",
       "      <td>28</td>\n",
       "      <td>28</td>\n",
       "      <td>8</td>\n",
       "      <td>8</td>\n",
       "      <td>8</td>\n",
       "      <td>2</td>\n",
       "      <td>30000.0</td>\n",
       "      <td>1</td>\n",
       "      <td>0</td>\n",
       "      <td>0</td>\n",
       "    </tr>\n",
       "    <tr>\n",
       "      <th>104</th>\n",
       "      <td>137343</td>\n",
       "      <td>82</td>\n",
       "      <td>82</td>\n",
       "      <td>3</td>\n",
       "      <td>3</td>\n",
       "      <td>3</td>\n",
       "      <td>0</td>\n",
       "      <td>10000.0</td>\n",
       "      <td>2</td>\n",
       "      <td>0</td>\n",
       "      <td>0</td>\n",
       "    </tr>\n",
       "    <tr>\n",
       "      <th>107</th>\n",
       "      <td>139743</td>\n",
       "      <td>2</td>\n",
       "      <td>2</td>\n",
       "      <td>1</td>\n",
       "      <td>1</td>\n",
       "      <td>1</td>\n",
       "      <td>2</td>\n",
       "      <td>10000.0</td>\n",
       "      <td>1</td>\n",
       "      <td>0</td>\n",
       "      <td>0</td>\n",
       "    </tr>\n",
       "    <tr>\n",
       "      <th>110</th>\n",
       "      <td>152214</td>\n",
       "      <td>29</td>\n",
       "      <td>29</td>\n",
       "      <td>1</td>\n",
       "      <td>1</td>\n",
       "      <td>1</td>\n",
       "      <td>2</td>\n",
       "      <td>10000.0</td>\n",
       "      <td>3</td>\n",
       "      <td>0</td>\n",
       "      <td>0</td>\n",
       "    </tr>\n",
       "    <tr>\n",
       "      <th>114</th>\n",
       "      <td>157209</td>\n",
       "      <td>460</td>\n",
       "      <td>136</td>\n",
       "      <td>15</td>\n",
       "      <td>15</td>\n",
       "      <td>15</td>\n",
       "      <td>2</td>\n",
       "      <td>0.0</td>\n",
       "      <td>1</td>\n",
       "      <td>0</td>\n",
       "      <td>0</td>\n",
       "    </tr>\n",
       "    <tr>\n",
       "      <th>115</th>\n",
       "      <td>158854</td>\n",
       "      <td>27</td>\n",
       "      <td>27</td>\n",
       "      <td>17</td>\n",
       "      <td>17</td>\n",
       "      <td>17</td>\n",
       "      <td>2</td>\n",
       "      <td>11000.0</td>\n",
       "      <td>2</td>\n",
       "      <td>0</td>\n",
       "      <td>0</td>\n",
       "    </tr>\n",
       "    <tr>\n",
       "      <th>117</th>\n",
       "      <td>161205</td>\n",
       "      <td>8</td>\n",
       "      <td>8</td>\n",
       "      <td>8</td>\n",
       "      <td>8</td>\n",
       "      <td>8</td>\n",
       "      <td>2</td>\n",
       "      <td>10000.0</td>\n",
       "      <td>2</td>\n",
       "      <td>0</td>\n",
       "      <td>0</td>\n",
       "    </tr>\n",
       "    <tr>\n",
       "      <th>118</th>\n",
       "      <td>162494</td>\n",
       "      <td>2</td>\n",
       "      <td>2</td>\n",
       "      <td>2</td>\n",
       "      <td>2</td>\n",
       "      <td>2</td>\n",
       "      <td>2</td>\n",
       "      <td>27000.0</td>\n",
       "      <td>1</td>\n",
       "      <td>0</td>\n",
       "      <td>0</td>\n",
       "    </tr>\n",
       "    <tr>\n",
       "      <th>119</th>\n",
       "      <td>165048</td>\n",
       "      <td>93</td>\n",
       "      <td>93</td>\n",
       "      <td>24</td>\n",
       "      <td>24</td>\n",
       "      <td>24</td>\n",
       "      <td>2</td>\n",
       "      <td>300000.0</td>\n",
       "      <td>1</td>\n",
       "      <td>0</td>\n",
       "      <td>0</td>\n",
       "    </tr>\n",
       "    <tr>\n",
       "      <th>120</th>\n",
       "      <td>165984</td>\n",
       "      <td>23</td>\n",
       "      <td>23</td>\n",
       "      <td>4</td>\n",
       "      <td>4</td>\n",
       "      <td>4</td>\n",
       "      <td>2</td>\n",
       "      <td>10000.0</td>\n",
       "      <td>1</td>\n",
       "      <td>0</td>\n",
       "      <td>0</td>\n",
       "    </tr>\n",
       "    <tr>\n",
       "      <th>121</th>\n",
       "      <td>169020</td>\n",
       "      <td>19</td>\n",
       "      <td>19</td>\n",
       "      <td>11</td>\n",
       "      <td>11</td>\n",
       "      <td>11</td>\n",
       "      <td>2</td>\n",
       "      <td>10000.0</td>\n",
       "      <td>1</td>\n",
       "      <td>0</td>\n",
       "      <td>0</td>\n",
       "    </tr>\n",
       "    <tr>\n",
       "      <th>123</th>\n",
       "      <td>169817</td>\n",
       "      <td>250</td>\n",
       "      <td>140</td>\n",
       "      <td>2</td>\n",
       "      <td>2</td>\n",
       "      <td>2</td>\n",
       "      <td>0</td>\n",
       "      <td>10000.0</td>\n",
       "      <td>1</td>\n",
       "      <td>0</td>\n",
       "      <td>0</td>\n",
       "    </tr>\n",
       "    <tr>\n",
       "      <th>125</th>\n",
       "      <td>170266</td>\n",
       "      <td>17</td>\n",
       "      <td>17</td>\n",
       "      <td>18</td>\n",
       "      <td>18</td>\n",
       "      <td>18</td>\n",
       "      <td>2</td>\n",
       "      <td>10000.0</td>\n",
       "      <td>1</td>\n",
       "      <td>0</td>\n",
       "      <td>0</td>\n",
       "    </tr>\n",
       "    <tr>\n",
       "      <th>126</th>\n",
       "      <td>170872</td>\n",
       "      <td>59</td>\n",
       "      <td>59</td>\n",
       "      <td>25</td>\n",
       "      <td>25</td>\n",
       "      <td>25</td>\n",
       "      <td>2</td>\n",
       "      <td>10000.0</td>\n",
       "      <td>1</td>\n",
       "      <td>0</td>\n",
       "      <td>0</td>\n",
       "    </tr>\n",
       "    <tr>\n",
       "      <th>129</th>\n",
       "      <td>174577</td>\n",
       "      <td>265</td>\n",
       "      <td>15</td>\n",
       "      <td>16</td>\n",
       "      <td>16</td>\n",
       "      <td>16</td>\n",
       "      <td>2</td>\n",
       "      <td>10000.0</td>\n",
       "      <td>1</td>\n",
       "      <td>0</td>\n",
       "      <td>0</td>\n",
       "    </tr>\n",
       "    <tr>\n",
       "      <th>133</th>\n",
       "      <td>177381</td>\n",
       "      <td>17</td>\n",
       "      <td>17</td>\n",
       "      <td>18</td>\n",
       "      <td>18</td>\n",
       "      <td>18</td>\n",
       "      <td>2</td>\n",
       "      <td>10000.0</td>\n",
       "      <td>2</td>\n",
       "      <td>0</td>\n",
       "      <td>0</td>\n",
       "    </tr>\n",
       "    <tr>\n",
       "      <th>136</th>\n",
       "      <td>183852</td>\n",
       "      <td>129</td>\n",
       "      <td>129</td>\n",
       "      <td>7</td>\n",
       "      <td>7</td>\n",
       "      <td>7</td>\n",
       "      <td>0</td>\n",
       "      <td>10000.0</td>\n",
       "      <td>1</td>\n",
       "      <td>0</td>\n",
       "      <td>0</td>\n",
       "    </tr>\n",
       "    <tr>\n",
       "      <th>137</th>\n",
       "      <td>184827</td>\n",
       "      <td>91</td>\n",
       "      <td>91</td>\n",
       "      <td>25</td>\n",
       "      <td>25</td>\n",
       "      <td>25</td>\n",
       "      <td>2</td>\n",
       "      <td>10000.0</td>\n",
       "      <td>1</td>\n",
       "      <td>0</td>\n",
       "      <td>0</td>\n",
       "    </tr>\n",
       "    <tr>\n",
       "      <th>138</th>\n",
       "      <td>184938</td>\n",
       "      <td>1</td>\n",
       "      <td>1</td>\n",
       "      <td>2</td>\n",
       "      <td>2</td>\n",
       "      <td>2</td>\n",
       "      <td>2</td>\n",
       "      <td>10000.0</td>\n",
       "      <td>1</td>\n",
       "      <td>0</td>\n",
       "      <td>0</td>\n",
       "    </tr>\n",
       "    <tr>\n",
       "      <th>139</th>\n",
       "      <td>185211</td>\n",
       "      <td>28</td>\n",
       "      <td>28</td>\n",
       "      <td>4</td>\n",
       "      <td>4</td>\n",
       "      <td>4</td>\n",
       "      <td>2</td>\n",
       "      <td>10000.0</td>\n",
       "      <td>1</td>\n",
       "      <td>0</td>\n",
       "      <td>0</td>\n",
       "    </tr>\n",
       "    <tr>\n",
       "      <th>141</th>\n",
       "      <td>188270</td>\n",
       "      <td>27</td>\n",
       "      <td>27</td>\n",
       "      <td>28</td>\n",
       "      <td>28</td>\n",
       "      <td>28</td>\n",
       "      <td>2</td>\n",
       "      <td>10000.0</td>\n",
       "      <td>1</td>\n",
       "      <td>0</td>\n",
       "      <td>0</td>\n",
       "    </tr>\n",
       "    <tr>\n",
       "      <th>142</th>\n",
       "      <td>190028</td>\n",
       "      <td>33</td>\n",
       "      <td>33</td>\n",
       "      <td>28</td>\n",
       "      <td>28</td>\n",
       "      <td>28</td>\n",
       "      <td>2</td>\n",
       "      <td>10000.0</td>\n",
       "      <td>1</td>\n",
       "      <td>0</td>\n",
       "      <td>0</td>\n",
       "    </tr>\n",
       "    <tr>\n",
       "      <th>144</th>\n",
       "      <td>193157</td>\n",
       "      <td>127</td>\n",
       "      <td>127</td>\n",
       "      <td>26</td>\n",
       "      <td>26</td>\n",
       "      <td>26</td>\n",
       "      <td>2</td>\n",
       "      <td>10000.0</td>\n",
       "      <td>1</td>\n",
       "      <td>0</td>\n",
       "      <td>0</td>\n",
       "    </tr>\n",
       "    <tr>\n",
       "      <th>145</th>\n",
       "      <td>199885</td>\n",
       "      <td>96</td>\n",
       "      <td>96</td>\n",
       "      <td>26</td>\n",
       "      <td>26</td>\n",
       "      <td>26</td>\n",
       "      <td>2</td>\n",
       "      <td>10000.0</td>\n",
       "      <td>1</td>\n",
       "      <td>0</td>\n",
       "      <td>0</td>\n",
       "    </tr>\n",
       "    <tr>\n",
       "      <th>148</th>\n",
       "      <td>202429</td>\n",
       "      <td>120</td>\n",
       "      <td>120</td>\n",
       "      <td>9</td>\n",
       "      <td>9</td>\n",
       "      <td>9</td>\n",
       "      <td>2</td>\n",
       "      <td>30000.0</td>\n",
       "      <td>5</td>\n",
       "      <td>0</td>\n",
       "      <td>0</td>\n",
       "    </tr>\n",
       "    <tr>\n",
       "      <th>150</th>\n",
       "      <td>203061</td>\n",
       "      <td>8</td>\n",
       "      <td>8</td>\n",
       "      <td>6</td>\n",
       "      <td>6</td>\n",
       "      <td>6</td>\n",
       "      <td>2</td>\n",
       "      <td>10000.0</td>\n",
       "      <td>1</td>\n",
       "      <td>0</td>\n",
       "      <td>0</td>\n",
       "    </tr>\n",
       "    <tr>\n",
       "      <th>152</th>\n",
       "      <td>209914</td>\n",
       "      <td>41</td>\n",
       "      <td>41</td>\n",
       "      <td>25</td>\n",
       "      <td>25</td>\n",
       "      <td>25</td>\n",
       "      <td>2</td>\n",
       "      <td>11000.0</td>\n",
       "      <td>1</td>\n",
       "      <td>0</td>\n",
       "      <td>0</td>\n",
       "    </tr>\n",
       "    <tr>\n",
       "      <th>153</th>\n",
       "      <td>210320</td>\n",
       "      <td>38</td>\n",
       "      <td>38</td>\n",
       "      <td>13</td>\n",
       "      <td>13</td>\n",
       "      <td>13</td>\n",
       "      <td>2</td>\n",
       "      <td>100000.0</td>\n",
       "      <td>1</td>\n",
       "      <td>0</td>\n",
       "      <td>0</td>\n",
       "    </tr>\n",
       "    <tr>\n",
       "      <th>155</th>\n",
       "      <td>212354</td>\n",
       "      <td>81</td>\n",
       "      <td>81</td>\n",
       "      <td>24</td>\n",
       "      <td>24</td>\n",
       "      <td>24</td>\n",
       "      <td>2</td>\n",
       "      <td>10000.0</td>\n",
       "      <td>1</td>\n",
       "      <td>0</td>\n",
       "      <td>0</td>\n",
       "    </tr>\n",
       "    <tr>\n",
       "      <th>158</th>\n",
       "      <td>221272</td>\n",
       "      <td>231</td>\n",
       "      <td>138</td>\n",
       "      <td>12</td>\n",
       "      <td>12</td>\n",
       "      <td>12</td>\n",
       "      <td>2</td>\n",
       "      <td>10000.0</td>\n",
       "      <td>1</td>\n",
       "      <td>0</td>\n",
       "      <td>0</td>\n",
       "    </tr>\n",
       "    <tr>\n",
       "      <th>159</th>\n",
       "      <td>221651</td>\n",
       "      <td>13</td>\n",
       "      <td>13</td>\n",
       "      <td>13</td>\n",
       "      <td>13</td>\n",
       "      <td>13</td>\n",
       "      <td>2</td>\n",
       "      <td>10000.0</td>\n",
       "      <td>1</td>\n",
       "      <td>0</td>\n",
       "      <td>0</td>\n",
       "    </tr>\n",
       "    <tr>\n",
       "      <th>162</th>\n",
       "      <td>222803</td>\n",
       "      <td>64</td>\n",
       "      <td>64</td>\n",
       "      <td>23</td>\n",
       "      <td>23</td>\n",
       "      <td>23</td>\n",
       "      <td>2</td>\n",
       "      <td>902000.0</td>\n",
       "      <td>1</td>\n",
       "      <td>0</td>\n",
       "      <td>0</td>\n",
       "    </tr>\n",
       "    <tr>\n",
       "      <th>163</th>\n",
       "      <td>224226</td>\n",
       "      <td>66</td>\n",
       "      <td>66</td>\n",
       "      <td>3</td>\n",
       "      <td>3</td>\n",
       "      <td>3</td>\n",
       "      <td>2</td>\n",
       "      <td>16800.0</td>\n",
       "      <td>2</td>\n",
       "      <td>0</td>\n",
       "      <td>0</td>\n",
       "    </tr>\n",
       "    <tr>\n",
       "      <th>165</th>\n",
       "      <td>226665</td>\n",
       "      <td>72</td>\n",
       "      <td>72</td>\n",
       "      <td>4</td>\n",
       "      <td>4</td>\n",
       "      <td>4</td>\n",
       "      <td>2</td>\n",
       "      <td>14000.0</td>\n",
       "      <td>1</td>\n",
       "      <td>0</td>\n",
       "      <td>0</td>\n",
       "    </tr>\n",
       "    <tr>\n",
       "      <th>166</th>\n",
       "      <td>227266</td>\n",
       "      <td>26</td>\n",
       "      <td>26</td>\n",
       "      <td>22</td>\n",
       "      <td>22</td>\n",
       "      <td>22</td>\n",
       "      <td>2</td>\n",
       "      <td>10000.0</td>\n",
       "      <td>1</td>\n",
       "      <td>0</td>\n",
       "      <td>0</td>\n",
       "    </tr>\n",
       "    <tr>\n",
       "      <th>167</th>\n",
       "      <td>227799</td>\n",
       "      <td>137</td>\n",
       "      <td>137</td>\n",
       "      <td>27</td>\n",
       "      <td>27</td>\n",
       "      <td>27</td>\n",
       "      <td>2</td>\n",
       "      <td>12400.0</td>\n",
       "      <td>2</td>\n",
       "      <td>0</td>\n",
       "      <td>0</td>\n",
       "    </tr>\n",
       "    <tr>\n",
       "      <th>168</th>\n",
       "      <td>233057</td>\n",
       "      <td>88</td>\n",
       "      <td>88</td>\n",
       "      <td>27</td>\n",
       "      <td>27</td>\n",
       "      <td>27</td>\n",
       "      <td>1</td>\n",
       "      <td>10000.0</td>\n",
       "      <td>1</td>\n",
       "      <td>0</td>\n",
       "      <td>0</td>\n",
       "    </tr>\n",
       "    <tr>\n",
       "      <th>169</th>\n",
       "      <td>234428</td>\n",
       "      <td>109</td>\n",
       "      <td>109</td>\n",
       "      <td>8</td>\n",
       "      <td>8</td>\n",
       "      <td>8</td>\n",
       "      <td>2</td>\n",
       "      <td>10000.0</td>\n",
       "      <td>2</td>\n",
       "      <td>0</td>\n",
       "      <td>0</td>\n",
       "    </tr>\n",
       "    <tr>\n",
       "      <th>171</th>\n",
       "      <td>239686</td>\n",
       "      <td>12</td>\n",
       "      <td>12</td>\n",
       "      <td>9</td>\n",
       "      <td>9</td>\n",
       "      <td>9</td>\n",
       "      <td>2</td>\n",
       "      <td>10000.0</td>\n",
       "      <td>2</td>\n",
       "      <td>0</td>\n",
       "      <td>0</td>\n",
       "    </tr>\n",
       "    <tr>\n",
       "      <th>172</th>\n",
       "      <td>240422</td>\n",
       "      <td>91</td>\n",
       "      <td>91</td>\n",
       "      <td>19</td>\n",
       "      <td>19</td>\n",
       "      <td>19</td>\n",
       "      <td>2</td>\n",
       "      <td>10000.0</td>\n",
       "      <td>1</td>\n",
       "      <td>0</td>\n",
       "      <td>0</td>\n",
       "    </tr>\n",
       "    <tr>\n",
       "      <th>173</th>\n",
       "      <td>240489</td>\n",
       "      <td>207</td>\n",
       "      <td>143</td>\n",
       "      <td>3</td>\n",
       "      <td>3</td>\n",
       "      <td>3</td>\n",
       "      <td>2</td>\n",
       "      <td>8349.0</td>\n",
       "      <td>1</td>\n",
       "      <td>0</td>\n",
       "      <td>0</td>\n",
       "    </tr>\n",
       "    <tr>\n",
       "      <th>176</th>\n",
       "      <td>248391</td>\n",
       "      <td>23</td>\n",
       "      <td>23</td>\n",
       "      <td>23</td>\n",
       "      <td>23</td>\n",
       "      <td>23</td>\n",
       "      <td>2</td>\n",
       "      <td>10000.0</td>\n",
       "      <td>2</td>\n",
       "      <td>0</td>\n",
       "      <td>0</td>\n",
       "    </tr>\n",
       "    <tr>\n",
       "      <th>178</th>\n",
       "      <td>251897</td>\n",
       "      <td>35</td>\n",
       "      <td>35</td>\n",
       "      <td>23</td>\n",
       "      <td>23</td>\n",
       "      <td>23</td>\n",
       "      <td>2</td>\n",
       "      <td>10000.0</td>\n",
       "      <td>1</td>\n",
       "      <td>0</td>\n",
       "      <td>0</td>\n",
       "    </tr>\n",
       "    <tr>\n",
       "      <th>179</th>\n",
       "      <td>252117</td>\n",
       "      <td>266</td>\n",
       "      <td>139</td>\n",
       "      <td>2</td>\n",
       "      <td>2</td>\n",
       "      <td>2</td>\n",
       "      <td>2</td>\n",
       "      <td>0.0</td>\n",
       "      <td>1</td>\n",
       "      <td>0</td>\n",
       "      <td>0</td>\n",
       "    </tr>\n",
       "    <tr>\n",
       "      <th>182</th>\n",
       "      <td>255780</td>\n",
       "      <td>7</td>\n",
       "      <td>7</td>\n",
       "      <td>4</td>\n",
       "      <td>4</td>\n",
       "      <td>4</td>\n",
       "      <td>2</td>\n",
       "      <td>10000.0</td>\n",
       "      <td>1</td>\n",
       "      <td>0</td>\n",
       "      <td>0</td>\n",
       "    </tr>\n",
       "    <tr>\n",
       "      <th>183</th>\n",
       "      <td>255895</td>\n",
       "      <td>44</td>\n",
       "      <td>44</td>\n",
       "      <td>25</td>\n",
       "      <td>25</td>\n",
       "      <td>25</td>\n",
       "      <td>2</td>\n",
       "      <td>10000.0</td>\n",
       "      <td>1</td>\n",
       "      <td>0</td>\n",
       "      <td>0</td>\n",
       "    </tr>\n",
       "    <tr>\n",
       "      <th>184</th>\n",
       "      <td>256100</td>\n",
       "      <td>47</td>\n",
       "      <td>47</td>\n",
       "      <td>25</td>\n",
       "      <td>25</td>\n",
       "      <td>25</td>\n",
       "      <td>2</td>\n",
       "      <td>10000.0</td>\n",
       "      <td>1</td>\n",
       "      <td>0</td>\n",
       "      <td>0</td>\n",
       "    </tr>\n",
       "    <tr>\n",
       "      <th>187</th>\n",
       "      <td>259029</td>\n",
       "      <td>67</td>\n",
       "      <td>67</td>\n",
       "      <td>27</td>\n",
       "      <td>27</td>\n",
       "      <td>27</td>\n",
       "      <td>2</td>\n",
       "      <td>10000.0</td>\n",
       "      <td>2</td>\n",
       "      <td>0</td>\n",
       "      <td>0</td>\n",
       "    </tr>\n",
       "    <tr>\n",
       "      <th>190</th>\n",
       "      <td>260740</td>\n",
       "      <td>24</td>\n",
       "      <td>24</td>\n",
       "      <td>2</td>\n",
       "      <td>2</td>\n",
       "      <td>2</td>\n",
       "      <td>2</td>\n",
       "      <td>11000.0</td>\n",
       "      <td>1</td>\n",
       "      <td>0</td>\n",
       "      <td>0</td>\n",
       "    </tr>\n",
       "    <tr>\n",
       "      <th>191</th>\n",
       "      <td>262317</td>\n",
       "      <td>101</td>\n",
       "      <td>101</td>\n",
       "      <td>7</td>\n",
       "      <td>7</td>\n",
       "      <td>7</td>\n",
       "      <td>2</td>\n",
       "      <td>10000.0</td>\n",
       "      <td>1</td>\n",
       "      <td>0</td>\n",
       "      <td>0</td>\n",
       "    </tr>\n",
       "    <tr>\n",
       "      <th>194</th>\n",
       "      <td>264052</td>\n",
       "      <td>241</td>\n",
       "      <td>135</td>\n",
       "      <td>6</td>\n",
       "      <td>6</td>\n",
       "      <td>6</td>\n",
       "      <td>2</td>\n",
       "      <td>0.0</td>\n",
       "      <td>1</td>\n",
       "      <td>0</td>\n",
       "      <td>0</td>\n",
       "    </tr>\n",
       "    <tr>\n",
       "      <th>196</th>\n",
       "      <td>266648</td>\n",
       "      <td>283</td>\n",
       "      <td>140</td>\n",
       "      <td>6</td>\n",
       "      <td>6</td>\n",
       "      <td>6</td>\n",
       "      <td>2</td>\n",
       "      <td>0.0</td>\n",
       "      <td>1</td>\n",
       "      <td>0</td>\n",
       "      <td>0</td>\n",
       "    </tr>\n",
       "    <tr>\n",
       "      <th>197</th>\n",
       "      <td>266849</td>\n",
       "      <td>22</td>\n",
       "      <td>22</td>\n",
       "      <td>7</td>\n",
       "      <td>7</td>\n",
       "      <td>7</td>\n",
       "      <td>2</td>\n",
       "      <td>20000.0</td>\n",
       "      <td>1</td>\n",
       "      <td>0</td>\n",
       "      <td>0</td>\n",
       "    </tr>\n",
       "    <tr>\n",
       "      <th>199</th>\n",
       "      <td>271584</td>\n",
       "      <td>268</td>\n",
       "      <td>138</td>\n",
       "      <td>11</td>\n",
       "      <td>11</td>\n",
       "      <td>11</td>\n",
       "      <td>2</td>\n",
       "      <td>37000.0</td>\n",
       "      <td>3</td>\n",
       "      <td>0</td>\n",
       "      <td>0</td>\n",
       "    </tr>\n",
       "  </tbody>\n",
       "</table>\n",
       "</div>"
      ],
      "text/plain": [
       "     record_id  bus_age  ogrn_age  adr_actual_age  head_actual_age  \\\n",
       "1         1196      216       138               5                5   \n",
       "6         9178       98        98              28               28   \n",
       "7        13143       43        43              28               28   \n",
       "8        13547       16        16              11               11   \n",
       "9        18483       33        33               2                2   \n",
       "11       22367      196       139               2                2   \n",
       "14       26923        8         8               9                9   \n",
       "15       27565       75        75              23               23   \n",
       "16       28085       79        79              12               12   \n",
       "19       30403      102       102              26               26   \n",
       "22       30919       25        25              17               17   \n",
       "23       31002      105       105              24               24   \n",
       "24       31266       43        43              33               33   \n",
       "25       31313       27        27              25               25   \n",
       "27       31766        8         8               3                3   \n",
       "29       34295       78        78              15               15   \n",
       "34       40535       66        66               4                4   \n",
       "35       42198       71        71              28               28   \n",
       "36       43460       62        62              25               25   \n",
       "38       47190       56        56              26               26   \n",
       "40       49278       50        50              25               25   \n",
       "42       52800      170       135              22               22   \n",
       "44       54481      140       134              18               18   \n",
       "45       54913      221       138              23               23   \n",
       "46       55905      125       125               7                7   \n",
       "48       62713       56        56               1                1   \n",
       "50       69506       25        25              25               25   \n",
       "51       69617       20        20               5                5   \n",
       "52       70012       14        14              15               15   \n",
       "53       70255       87        87               3                3   \n",
       "54       70259       11        11               3                3   \n",
       "55       76061       29        29              11               11   \n",
       "56       76873       47        47               3                3   \n",
       "58       78731        1         1               2                2   \n",
       "60       80719       45        45              28               28   \n",
       "62       85779       45        45               7                7   \n",
       "63       85906       59        59              12               12   \n",
       "64       89146      267       140              11               11   \n",
       "65       89155       23        23               9                9   \n",
       "67       92204       58        58              15               15   \n",
       "68       92535       62        62              28               28   \n",
       "70       93892      116       116               1                1   \n",
       "71       95482       34        34              24               24   \n",
       "72       95776       10        10              10               10   \n",
       "74       97272       29        29              27               27   \n",
       "75       98373      101       101               8                8   \n",
       "76       98833      200       139              22               22   \n",
       "77       98836       13        13              10               10   \n",
       "78      100485       11        11               9                9   \n",
       "79      105072        8         8               9                9   \n",
       "80      108281       18        18              19               19   \n",
       "81      109220       13        13               4                4   \n",
       "82      109365       19        19               6                6   \n",
       "84      112977       12        12               3                3   \n",
       "87      114972      161       122               8                8   \n",
       "90      117399        5         5               3                3   \n",
       "91      117569       54        54               3                3   \n",
       "92      117987       22        22               3                3   \n",
       "95      125297      261        37              24               24   \n",
       "96      125400       79        79              23               23   \n",
       "97      126723       26        26              25               25   \n",
       "98      126724        2         2               2                2   \n",
       "99      126967       66        66              26               26   \n",
       "100     128204       98        98               5                5   \n",
       "103     135321       28        28               8                8   \n",
       "104     137343       82        82               3                3   \n",
       "107     139743        2         2               1                1   \n",
       "110     152214       29        29               1                1   \n",
       "114     157209      460       136              15               15   \n",
       "115     158854       27        27              17               17   \n",
       "117     161205        8         8               8                8   \n",
       "118     162494        2         2               2                2   \n",
       "119     165048       93        93              24               24   \n",
       "120     165984       23        23               4                4   \n",
       "121     169020       19        19              11               11   \n",
       "123     169817      250       140               2                2   \n",
       "125     170266       17        17              18               18   \n",
       "126     170872       59        59              25               25   \n",
       "129     174577      265        15              16               16   \n",
       "133     177381       17        17              18               18   \n",
       "136     183852      129       129               7                7   \n",
       "137     184827       91        91              25               25   \n",
       "138     184938        1         1               2                2   \n",
       "139     185211       28        28               4                4   \n",
       "141     188270       27        27              28               28   \n",
       "142     190028       33        33              28               28   \n",
       "144     193157      127       127              26               26   \n",
       "145     199885       96        96              26               26   \n",
       "148     202429      120       120               9                9   \n",
       "150     203061        8         8               6                6   \n",
       "152     209914       41        41              25               25   \n",
       "153     210320       38        38              13               13   \n",
       "155     212354       81        81              24               24   \n",
       "158     221272      231       138              12               12   \n",
       "159     221651       13        13              13               13   \n",
       "162     222803       64        64              23               23   \n",
       "163     224226       66        66               3                3   \n",
       "165     226665       72        72               4                4   \n",
       "166     227266       26        26              22               22   \n",
       "167     227799      137       137              27               27   \n",
       "168     233057       88        88              27               27   \n",
       "169     234428      109       109               8                8   \n",
       "171     239686       12        12               9                9   \n",
       "172     240422       91        91              19               19   \n",
       "173     240489      207       143               3                3   \n",
       "176     248391       23        23              23               23   \n",
       "178     251897       35        35              23               23   \n",
       "179     252117      266       139               2                2   \n",
       "182     255780        7         7               4                4   \n",
       "183     255895       44        44              25               25   \n",
       "184     256100       47        47              25               25   \n",
       "187     259029       67        67              27               27   \n",
       "190     260740       24        24               2                2   \n",
       "191     262317      101       101               7                7   \n",
       "194     264052      241       135               6                6   \n",
       "196     266648      283       140               6                6   \n",
       "197     266849       22        22               7                7   \n",
       "199     271584      268       138              11               11   \n",
       "\n",
       "     cap_actual_age  ul_staff_range  ul_capital_sum  ul_founders_cnt  \\\n",
       "1                 5               2        100000.0                1   \n",
       "6                28               0         10000.0                1   \n",
       "7                28               2         10000.0                1   \n",
       "8                11               2         10000.0                1   \n",
       "9                 2               2         10000.0                1   \n",
       "11                2               2       1488644.0                2   \n",
       "14                9               2         10000.0                1   \n",
       "15               23               2        200000.0                3   \n",
       "16               12               2         10000.0                2   \n",
       "19               26               2         10000.0                1   \n",
       "22               17               2         11000.0                1   \n",
       "23               24               2         50000.0                2   \n",
       "24               33               2         10000.0                1   \n",
       "25               25               2         10000.0                2   \n",
       "27                3               2         10000.0                2   \n",
       "29               15               2         10000.0                1   \n",
       "34                4               2        500000.0                1   \n",
       "35               28               2         40000.0                2   \n",
       "36               25               2         10000.0                1   \n",
       "38               26               2         10000.0                1   \n",
       "40               25               2         10000.0                1   \n",
       "42               22               2         10000.0                1   \n",
       "44               18               2             0.0                1   \n",
       "45               23               2         30000.0                1   \n",
       "46                7               2         20000.0                2   \n",
       "48                1               2         55000.0                1   \n",
       "50               25               2         10000.0                1   \n",
       "51                5               2         10000.0                1   \n",
       "52               15               2         10000.0                1   \n",
       "53                3               2         10000.0                1   \n",
       "54                3               2         12000.0                1   \n",
       "55               11               2         10000.0                2   \n",
       "56                3               2         10000.0                1   \n",
       "58                2               2         10000.0                2   \n",
       "60               28               2         10000.0                2   \n",
       "62                7               2         10000.0                1   \n",
       "63               12               2         20000.0                1   \n",
       "64               11               2             0.0                2   \n",
       "65                9               2         10000.0                2   \n",
       "67               15               2         10000.0                1   \n",
       "68               28               2         20000.0                2   \n",
       "70                1               2         10000.0                1   \n",
       "71               24               2         12000.0                3   \n",
       "72               10               2         10000.0                2   \n",
       "74               27               2         10000.0                1   \n",
       "75                8               2         10000.0                1   \n",
       "76               22               2         10000.0                1   \n",
       "77               10               2         50000.0                1   \n",
       "78                9               2         10000.0                1   \n",
       "79                9               2         10000.0                1   \n",
       "80               19               2         15000.0                1   \n",
       "81                4               2         22223.0                2   \n",
       "82                6               2         10000.0                2   \n",
       "84                3               2         10000.0                2   \n",
       "87                8               2             0.0                1   \n",
       "90                3               2         10000.0                1   \n",
       "91                3               2       1000000.0                1   \n",
       "92                3               2         11000.0                1   \n",
       "95               24               2         11400.0                3   \n",
       "96               23               2         10000.0                1   \n",
       "97               25               2         10000.0                1   \n",
       "98                2               2         20000.0                1   \n",
       "99               26               2         10000.0                1   \n",
       "100               5               2         10000.0                1   \n",
       "103               8               2         30000.0                1   \n",
       "104               3               0         10000.0                2   \n",
       "107               1               2         10000.0                1   \n",
       "110               1               2         10000.0                3   \n",
       "114              15               2             0.0                1   \n",
       "115              17               2         11000.0                2   \n",
       "117               8               2         10000.0                2   \n",
       "118               2               2         27000.0                1   \n",
       "119              24               2        300000.0                1   \n",
       "120               4               2         10000.0                1   \n",
       "121              11               2         10000.0                1   \n",
       "123               2               0         10000.0                1   \n",
       "125              18               2         10000.0                1   \n",
       "126              25               2         10000.0                1   \n",
       "129              16               2         10000.0                1   \n",
       "133              18               2         10000.0                2   \n",
       "136               7               0         10000.0                1   \n",
       "137              25               2         10000.0                1   \n",
       "138               2               2         10000.0                1   \n",
       "139               4               2         10000.0                1   \n",
       "141              28               2         10000.0                1   \n",
       "142              28               2         10000.0                1   \n",
       "144              26               2         10000.0                1   \n",
       "145              26               2         10000.0                1   \n",
       "148               9               2         30000.0                5   \n",
       "150               6               2         10000.0                1   \n",
       "152              25               2         11000.0                1   \n",
       "153              13               2        100000.0                1   \n",
       "155              24               2         10000.0                1   \n",
       "158              12               2         10000.0                1   \n",
       "159              13               2         10000.0                1   \n",
       "162              23               2        902000.0                1   \n",
       "163               3               2         16800.0                2   \n",
       "165               4               2         14000.0                1   \n",
       "166              22               2         10000.0                1   \n",
       "167              27               2         12400.0                2   \n",
       "168              27               1         10000.0                1   \n",
       "169               8               2         10000.0                2   \n",
       "171               9               2         10000.0                2   \n",
       "172              19               2         10000.0                1   \n",
       "173               3               2          8349.0                1   \n",
       "176              23               2         10000.0                2   \n",
       "178              23               2         10000.0                1   \n",
       "179               2               2             0.0                1   \n",
       "182               4               2         10000.0                1   \n",
       "183              25               2         10000.0                1   \n",
       "184              25               2         10000.0                1   \n",
       "187              27               2         10000.0                2   \n",
       "190               2               2         11000.0                1   \n",
       "191               7               2         10000.0                1   \n",
       "194               6               2             0.0                1   \n",
       "196               6               2             0.0                1   \n",
       "197               7               2         20000.0                1   \n",
       "199              11               2         37000.0                3   \n",
       "\n",
       "     ul_branch_cnt  ul_strategic_flg  \n",
       "1                0                 0  \n",
       "6                0                 0  \n",
       "7                0                 0  \n",
       "8                0                 0  \n",
       "9                0                 0  \n",
       "11               0                 0  \n",
       "14               0                 0  \n",
       "15               0                 0  \n",
       "16               0                 0  \n",
       "19               0                 0  \n",
       "22               0                 0  \n",
       "23               0                 0  \n",
       "24               0                 0  \n",
       "25               0                 0  \n",
       "27               0                 0  \n",
       "29               0                 0  \n",
       "34               0                 0  \n",
       "35               0                 0  \n",
       "36               0                 0  \n",
       "38               0                 0  \n",
       "40               0                 0  \n",
       "42               0                 0  \n",
       "44               0                 0  \n",
       "45               0                 0  \n",
       "46               0                 0  \n",
       "48               0                 0  \n",
       "50               0                 0  \n",
       "51               0                 0  \n",
       "52               0                 0  \n",
       "53               0                 0  \n",
       "54               0                 0  \n",
       "55               0                 0  \n",
       "56               0                 0  \n",
       "58               0                 0  \n",
       "60               0                 0  \n",
       "62               0                 0  \n",
       "63               0                 0  \n",
       "64               0                 0  \n",
       "65               0                 0  \n",
       "67               0                 0  \n",
       "68               0                 0  \n",
       "70               0                 0  \n",
       "71               0                 0  \n",
       "72               0                 0  \n",
       "74               0                 0  \n",
       "75               0                 0  \n",
       "76               0                 0  \n",
       "77               0                 0  \n",
       "78               0                 0  \n",
       "79               0                 0  \n",
       "80               0                 0  \n",
       "81               0                 0  \n",
       "82               0                 0  \n",
       "84               0                 0  \n",
       "87               0                 0  \n",
       "90               0                 0  \n",
       "91               0                 0  \n",
       "92               0                 0  \n",
       "95               0                 0  \n",
       "96               0                 0  \n",
       "97               0                 0  \n",
       "98               0                 0  \n",
       "99               0                 0  \n",
       "100              0                 0  \n",
       "103              0                 0  \n",
       "104              0                 0  \n",
       "107              0                 0  \n",
       "110              0                 0  \n",
       "114              0                 0  \n",
       "115              0                 0  \n",
       "117              0                 0  \n",
       "118              0                 0  \n",
       "119              0                 0  \n",
       "120              0                 0  \n",
       "121              0                 0  \n",
       "123              0                 0  \n",
       "125              0                 0  \n",
       "126              0                 0  \n",
       "129              0                 0  \n",
       "133              0                 0  \n",
       "136              0                 0  \n",
       "137              0                 0  \n",
       "138              0                 0  \n",
       "139              0                 0  \n",
       "141              0                 0  \n",
       "142              0                 0  \n",
       "144              0                 0  \n",
       "145              0                 0  \n",
       "148              0                 0  \n",
       "150              0                 0  \n",
       "152              0                 0  \n",
       "153              0                 0  \n",
       "155              0                 0  \n",
       "158              0                 0  \n",
       "159              0                 0  \n",
       "162              0                 0  \n",
       "163              0                 0  \n",
       "165              0                 0  \n",
       "166              0                 0  \n",
       "167              0                 0  \n",
       "168              0                 0  \n",
       "169              0                 0  \n",
       "171              0                 0  \n",
       "172              0                 0  \n",
       "173              0                 0  \n",
       "176              0                 0  \n",
       "178              0                 0  \n",
       "179              0                 0  \n",
       "182              0                 0  \n",
       "183              0                 0  \n",
       "184              0                 0  \n",
       "187              0                 0  \n",
       "190              0                 0  \n",
       "191              0                 0  \n",
       "194              0                 0  \n",
       "196              0                 0  \n",
       "197              0                 0  \n",
       "199              0                 0  "
      ]
     },
     "execution_count": 68,
     "metadata": {},
     "output_type": "execute_result"
    }
   ],
   "source": [
    "df_no_fin_test"
   ]
  },
  {
   "cell_type": "markdown",
   "metadata": {
    "id": "2BCSF7Ma6i28"
   },
   "source": [
    "## Отбор признаков"
   ]
  },
  {
   "cell_type": "markdown",
   "metadata": {
    "id": "7Ztk7M-t6l_k"
   },
   "source": [
    "### WOE"
   ]
  },
  {
   "cell_type": "code",
   "execution_count": 69,
   "metadata": {},
   "outputs": [],
   "source": [
    "def calc_woe_iv(df, feature, target):\n",
    "    \n",
    "    vals = list(df[feature].unique())\n",
    "    count_all = []\n",
    "    default = []\n",
    "    non_default = []\n",
    "    \n",
    "    for i in vals:\n",
    "        count_all.append(len(df[df[feature] == i]))\n",
    "        default.append(len(df[(df[target] == 1) & (df[feature] == i)]))\n",
    "        non_default.append(len(df[(df[target] == 0) & (df[feature] == i)]))\n",
    "    \n",
    "    data = {'value': vals, 'count_all': count_all, 'default': default, 'non_default': non_default}\n",
    "    df_woe_iv = pd.DataFrame(data)\n",
    "        \n",
    "    df_woe_iv['Distr_non_default'] = df_woe_iv['non_default'] / df_woe_iv['non_default'].sum()\n",
    "    df_woe_iv['Distr_default'] = df_woe_iv['default'] / df_woe_iv['default'].sum()\n",
    "    name_woe = 'WoE_' + feature\n",
    "    df_woe_iv[name_woe] = np.log(df_woe_iv['Distr_non_default'] / df_woe_iv['Distr_default'])\n",
    "    df_woe_iv = df_woe_iv.replace({name_woe: {np.inf: 0, -np.inf: 0}})\n",
    "    df_woe_iv['IV'] = (df_woe_iv['Distr_non_default'] - df_woe_iv['Distr_default']) * df_woe_iv[name_woe]\n",
    "    iv = df_woe_iv['IV'].sum()\n",
    "    \n",
    "    return df_woe_iv, iv"
   ]
  },
  {
   "cell_type": "code",
   "execution_count": 70,
   "metadata": {},
   "outputs": [],
   "source": [
    "# пример использования\n",
    "res_example_woe = calc_woe_iv(df_fin_train_feature_complex_fillna, 'ul_branch_cnt', 'default_12m')[0]\n",
    "res_example_iv = calc_woe_iv(df_fin_train_feature_complex_fillna, 'ul_branch_cnt', 'default_12m')[1]"
   ]
  },
  {
   "cell_type": "code",
   "execution_count": 71,
   "metadata": {},
   "outputs": [
    {
     "data": {
      "text/html": [
       "<div>\n",
       "<style scoped>\n",
       "    .dataframe tbody tr th:only-of-type {\n",
       "        vertical-align: middle;\n",
       "    }\n",
       "\n",
       "    .dataframe tbody tr th {\n",
       "        vertical-align: top;\n",
       "    }\n",
       "\n",
       "    .dataframe thead th {\n",
       "        text-align: right;\n",
       "    }\n",
       "</style>\n",
       "<table border=\"1\" class=\"dataframe\">\n",
       "  <thead>\n",
       "    <tr style=\"text-align: right;\">\n",
       "      <th></th>\n",
       "      <th>value</th>\n",
       "      <th>count_all</th>\n",
       "      <th>default</th>\n",
       "      <th>non_default</th>\n",
       "      <th>Distr_non_default</th>\n",
       "      <th>Distr_default</th>\n",
       "      <th>WoE_ul_branch_cnt</th>\n",
       "      <th>IV</th>\n",
       "    </tr>\n",
       "  </thead>\n",
       "  <tbody>\n",
       "    <tr>\n",
       "      <th>0</th>\n",
       "      <td>0</td>\n",
       "      <td>15424</td>\n",
       "      <td>651</td>\n",
       "      <td>14773</td>\n",
       "      <td>0.986116</td>\n",
       "      <td>0.995413</td>\n",
       "      <td>-0.009384</td>\n",
       "      <td>0.000087</td>\n",
       "    </tr>\n",
       "    <tr>\n",
       "      <th>1</th>\n",
       "      <td>2</td>\n",
       "      <td>33</td>\n",
       "      <td>0</td>\n",
       "      <td>33</td>\n",
       "      <td>0.002203</td>\n",
       "      <td>0.000000</td>\n",
       "      <td>0.000000</td>\n",
       "      <td>0.000000</td>\n",
       "    </tr>\n",
       "    <tr>\n",
       "      <th>2</th>\n",
       "      <td>1</td>\n",
       "      <td>135</td>\n",
       "      <td>3</td>\n",
       "      <td>132</td>\n",
       "      <td>0.008811</td>\n",
       "      <td>0.004587</td>\n",
       "      <td>0.652759</td>\n",
       "      <td>0.002757</td>\n",
       "    </tr>\n",
       "    <tr>\n",
       "      <th>3</th>\n",
       "      <td>5</td>\n",
       "      <td>8</td>\n",
       "      <td>0</td>\n",
       "      <td>8</td>\n",
       "      <td>0.000534</td>\n",
       "      <td>0.000000</td>\n",
       "      <td>0.000000</td>\n",
       "      <td>0.000000</td>\n",
       "    </tr>\n",
       "    <tr>\n",
       "      <th>4</th>\n",
       "      <td>4</td>\n",
       "      <td>10</td>\n",
       "      <td>0</td>\n",
       "      <td>10</td>\n",
       "      <td>0.000668</td>\n",
       "      <td>0.000000</td>\n",
       "      <td>0.000000</td>\n",
       "      <td>0.000000</td>\n",
       "    </tr>\n",
       "    <tr>\n",
       "      <th>5</th>\n",
       "      <td>10</td>\n",
       "      <td>2</td>\n",
       "      <td>0</td>\n",
       "      <td>2</td>\n",
       "      <td>0.000134</td>\n",
       "      <td>0.000000</td>\n",
       "      <td>0.000000</td>\n",
       "      <td>0.000000</td>\n",
       "    </tr>\n",
       "    <tr>\n",
       "      <th>6</th>\n",
       "      <td>3</td>\n",
       "      <td>12</td>\n",
       "      <td>0</td>\n",
       "      <td>12</td>\n",
       "      <td>0.000801</td>\n",
       "      <td>0.000000</td>\n",
       "      <td>0.000000</td>\n",
       "      <td>0.000000</td>\n",
       "    </tr>\n",
       "    <tr>\n",
       "      <th>7</th>\n",
       "      <td>8</td>\n",
       "      <td>4</td>\n",
       "      <td>0</td>\n",
       "      <td>4</td>\n",
       "      <td>0.000267</td>\n",
       "      <td>0.000000</td>\n",
       "      <td>0.000000</td>\n",
       "      <td>0.000000</td>\n",
       "    </tr>\n",
       "    <tr>\n",
       "      <th>8</th>\n",
       "      <td>6</td>\n",
       "      <td>6</td>\n",
       "      <td>0</td>\n",
       "      <td>6</td>\n",
       "      <td>0.000401</td>\n",
       "      <td>0.000000</td>\n",
       "      <td>0.000000</td>\n",
       "      <td>0.000000</td>\n",
       "    </tr>\n",
       "    <tr>\n",
       "      <th>9</th>\n",
       "      <td>17</td>\n",
       "      <td>1</td>\n",
       "      <td>0</td>\n",
       "      <td>1</td>\n",
       "      <td>0.000067</td>\n",
       "      <td>0.000000</td>\n",
       "      <td>0.000000</td>\n",
       "      <td>0.000000</td>\n",
       "    </tr>\n",
       "  </tbody>\n",
       "</table>\n",
       "</div>"
      ],
      "text/plain": [
       "   value  count_all  default  non_default  Distr_non_default  Distr_default  \\\n",
       "0      0      15424      651        14773           0.986116       0.995413   \n",
       "1      2         33        0           33           0.002203       0.000000   \n",
       "2      1        135        3          132           0.008811       0.004587   \n",
       "3      5          8        0            8           0.000534       0.000000   \n",
       "4      4         10        0           10           0.000668       0.000000   \n",
       "5     10          2        0            2           0.000134       0.000000   \n",
       "6      3         12        0           12           0.000801       0.000000   \n",
       "7      8          4        0            4           0.000267       0.000000   \n",
       "8      6          6        0            6           0.000401       0.000000   \n",
       "9     17          1        0            1           0.000067       0.000000   \n",
       "\n",
       "   WoE_ul_branch_cnt        IV  \n",
       "0          -0.009384  0.000087  \n",
       "1           0.000000  0.000000  \n",
       "2           0.652759  0.002757  \n",
       "3           0.000000  0.000000  \n",
       "4           0.000000  0.000000  \n",
       "5           0.000000  0.000000  \n",
       "6           0.000000  0.000000  \n",
       "7           0.000000  0.000000  \n",
       "8           0.000000  0.000000  \n",
       "9           0.000000  0.000000  "
      ]
     },
     "execution_count": 71,
     "metadata": {},
     "output_type": "execute_result"
    }
   ],
   "source": [
    "res_example_woe"
   ]
  },
  {
   "cell_type": "code",
   "execution_count": 72,
   "metadata": {},
   "outputs": [
    {
     "name": "stdout",
     "output_type": "stream",
     "text": [
      "IV for the feature ul_branch_cnt: 0.0028444994692293207\n"
     ]
    }
   ],
   "source": [
    "print('IV for the feature ul_branch_cnt: {}'.format(res_example_iv))"
   ]
  },
  {
   "cell_type": "code",
   "execution_count": 73,
   "metadata": {},
   "outputs": [],
   "source": [
    "number_bins = range(1, 20)\n",
    "ivvv = []\n",
    "\n",
    "for feature in df_fin_train_feature_complex_fillna.columns:\n",
    "    \n",
    "    if feature == 'default_12m':\n",
    "        continue\n",
    "        \n",
    "    name = 'cut_' + str(feature)\n",
    "    for i in number_bins:\n",
    "        df_fin_train_feature_complex_fillna[name] = pd.cut(df_fin_train_feature_complex_fillna[feature], i)\n",
    "        ivvv.append(calc_woe_iv(df_fin_train_feature_complex_fillna, name, 'default_12m')[1])\n",
    "\n",
    "    bin_iv = {}\n",
    "    for A, B in zip(number_bins, ivvv):\n",
    "        bin_iv[A] = B\n",
    "    cut_bin = max(bin_iv, key=bin_iv.get)\n",
    "    \n",
    "\n",
    "    df_fin_train_feature_complex_fillna[name] = pd.cut(df_fin_train_feature_complex_fillna[feature], cut_bin)\n",
    "    del df_fin_train_feature_complex_fillna[feature]"
   ]
  },
  {
   "cell_type": "code",
   "execution_count": 74,
   "metadata": {},
   "outputs": [],
   "source": [
    "def calc_iv_features(df, target):\n",
    "    ivs = []\n",
    "    feature_names = df.columns\n",
    "    for i in feature_names:\n",
    "        df_woe_iv = calc_woe_iv(df, i, target)[0]\n",
    "        ivs.append(df_woe_iv['IV'].sum())\n",
    "    \n",
    "    data = {'feature_name': feature_names, 'iv': ivs}\n",
    "    df_iv = pd.DataFrame(data)\n",
    "    return df_iv"
   ]
  },
  {
   "cell_type": "code",
   "execution_count": 75,
   "metadata": {},
   "outputs": [],
   "source": [
    "res_feature_iv = calc_iv_features(df_fin_train_feature_complex_fillna, 'default_12m')"
   ]
  },
  {
   "cell_type": "code",
   "execution_count": 76,
   "metadata": {},
   "outputs": [
    {
     "data": {
      "text/html": [
       "<div>\n",
       "<style scoped>\n",
       "    .dataframe tbody tr th:only-of-type {\n",
       "        vertical-align: middle;\n",
       "    }\n",
       "\n",
       "    .dataframe tbody tr th {\n",
       "        vertical-align: top;\n",
       "    }\n",
       "\n",
       "    .dataframe thead th {\n",
       "        text-align: right;\n",
       "    }\n",
       "</style>\n",
       "<table border=\"1\" class=\"dataframe\">\n",
       "  <thead>\n",
       "    <tr style=\"text-align: right;\">\n",
       "      <th></th>\n",
       "      <th>feature_name</th>\n",
       "      <th>iv</th>\n",
       "    </tr>\n",
       "  </thead>\n",
       "  <tbody>\n",
       "    <tr>\n",
       "      <th>1</th>\n",
       "      <td>cut_ab_inventory</td>\n",
       "      <td>0.238411</td>\n",
       "    </tr>\n",
       "    <tr>\n",
       "      <th>4</th>\n",
       "      <td>cut_ab_losses</td>\n",
       "      <td>0.246801</td>\n",
       "    </tr>\n",
       "    <tr>\n",
       "      <th>8</th>\n",
       "      <td>cut_ogrn_age</td>\n",
       "      <td>0.287258</td>\n",
       "    </tr>\n",
       "    <tr>\n",
       "      <th>10</th>\n",
       "      <td>cut_ul_staff_range</td>\n",
       "      <td>0.166842</td>\n",
       "    </tr>\n",
       "    <tr>\n",
       "      <th>15</th>\n",
       "      <td>cut_OPEX</td>\n",
       "      <td>0.131775</td>\n",
       "    </tr>\n",
       "  </tbody>\n",
       "</table>\n",
       "</div>"
      ],
      "text/plain": [
       "          feature_name        iv\n",
       "1     cut_ab_inventory  0.238411\n",
       "4        cut_ab_losses  0.246801\n",
       "8         cut_ogrn_age  0.287258\n",
       "10  cut_ul_staff_range  0.166842\n",
       "15            cut_OPEX  0.131775"
      ]
     },
     "execution_count": 76,
     "metadata": {},
     "output_type": "execute_result"
    }
   ],
   "source": [
    "res_feature_iv[res_feature_iv['iv'] > 0.1]"
   ]
  },
  {
   "cell_type": "code",
   "execution_count": 77,
   "metadata": {},
   "outputs": [],
   "source": [
    "feat_iv = list(res_feature_iv[res_feature_iv['iv'] >= 0.1]['feature_name']) + ['default_12m']"
   ]
  },
  {
   "cell_type": "code",
   "execution_count": 78,
   "metadata": {},
   "outputs": [],
   "source": [
    "df_fin_train_feature_complex_fillna_iv = df_fin_train_feature_complex_fillna[feat_iv]"
   ]
  },
  {
   "cell_type": "code",
   "execution_count": 79,
   "metadata": {},
   "outputs": [],
   "source": [
    "train_feat_iv = ['WoE_'+label for label in feat_iv[:-1]]+['default_12m']"
   ]
  },
  {
   "cell_type": "code",
   "execution_count": 80,
   "metadata": {},
   "outputs": [],
   "source": [
    "for feature in df_fin_train_feature_complex_fillna_iv:\n",
    "    if feature == 'default_12m':\n",
    "        continue\n",
    "    temp = calc_woe_iv(df_fin_train_feature_complex_fillna_iv, feature, 'default_12m')[0]\n",
    "    res = df_fin_train_feature_complex_fillna_iv.merge(temp, how='left', left_on=feature, right_on = 'value')\n",
    "    del res['value']\n",
    "    df_fin_train_feature_complex_fillna_iv = res.copy()\n",
    "\n",
    "df_fin_train_feature_complex_fillna_iv_fin = df_fin_train_feature_complex_fillna_iv[train_feat_iv]"
   ]
  },
  {
   "cell_type": "code",
   "execution_count": 81,
   "metadata": {},
   "outputs": [],
   "source": [
    "# for feature in df_fin_train_feature_complex_fillna_iv:\n",
    "#     if feature == 'default_12m':\n",
    "#         continue\n",
    "#     temp = calc_woe_iv(df_fin_train_feature_complex_fillna_iv, feature, 'default_12m')[0]\n",
    "#     res = df_fin_train_feature_complex_fillna_iv.merge(temp, how='left', left_on=feature, right_on = 'value')\n",
    "#     del res['value']\n",
    "#     df_fin_train_feature_complex_fillna_iv = res.copy()\n",
    "\n",
    "# df_fin_train_feature_complex_fillna_iv_fin = df_fin_train_feature_complex_fillna_iv[['WoE_cut_ar_net_profit', 'WoE_cut_ab_losses', \n",
    "#                                                                       'WoE_cut_ogrn_age', 'WoE_cut_ul_staff_range', 'default_12m']]"
   ]
  },
  {
   "cell_type": "code",
   "execution_count": 82,
   "metadata": {},
   "outputs": [
    {
     "data": {
      "text/html": [
       "<div>\n",
       "<style scoped>\n",
       "    .dataframe tbody tr th:only-of-type {\n",
       "        vertical-align: middle;\n",
       "    }\n",
       "\n",
       "    .dataframe tbody tr th {\n",
       "        vertical-align: top;\n",
       "    }\n",
       "\n",
       "    .dataframe thead th {\n",
       "        text-align: right;\n",
       "    }\n",
       "</style>\n",
       "<table border=\"1\" class=\"dataframe\">\n",
       "  <thead>\n",
       "    <tr style=\"text-align: right;\">\n",
       "      <th></th>\n",
       "      <th>WoE_cut_ab_inventory</th>\n",
       "      <th>WoE_cut_ab_losses</th>\n",
       "      <th>WoE_cut_ogrn_age</th>\n",
       "      <th>WoE_cut_ul_staff_range</th>\n",
       "      <th>WoE_cut_OPEX</th>\n",
       "      <th>default_12m</th>\n",
       "    </tr>\n",
       "  </thead>\n",
       "  <tbody>\n",
       "    <tr>\n",
       "      <th>0</th>\n",
       "      <td>-0.266806</td>\n",
       "      <td>-0.20429</td>\n",
       "      <td>0.601743</td>\n",
       "      <td>-0.119351</td>\n",
       "      <td>-0.225421</td>\n",
       "      <td>0</td>\n",
       "    </tr>\n",
       "    <tr>\n",
       "      <th>1</th>\n",
       "      <td>-0.266806</td>\n",
       "      <td>-0.20429</td>\n",
       "      <td>0.811838</td>\n",
       "      <td>-0.119351</td>\n",
       "      <td>-0.225421</td>\n",
       "      <td>0</td>\n",
       "    </tr>\n",
       "    <tr>\n",
       "      <th>2</th>\n",
       "      <td>-0.266806</td>\n",
       "      <td>-0.20429</td>\n",
       "      <td>0.601743</td>\n",
       "      <td>-0.119351</td>\n",
       "      <td>-0.225421</td>\n",
       "      <td>0</td>\n",
       "    </tr>\n",
       "    <tr>\n",
       "      <th>3</th>\n",
       "      <td>-0.266806</td>\n",
       "      <td>-0.20429</td>\n",
       "      <td>0.601743</td>\n",
       "      <td>1.447396</td>\n",
       "      <td>0.773197</td>\n",
       "      <td>0</td>\n",
       "    </tr>\n",
       "    <tr>\n",
       "      <th>4</th>\n",
       "      <td>0.631790</td>\n",
       "      <td>-0.20429</td>\n",
       "      <td>-0.625471</td>\n",
       "      <td>-0.119351</td>\n",
       "      <td>0.391604</td>\n",
       "      <td>0</td>\n",
       "    </tr>\n",
       "    <tr>\n",
       "      <th>...</th>\n",
       "      <td>...</td>\n",
       "      <td>...</td>\n",
       "      <td>...</td>\n",
       "      <td>...</td>\n",
       "      <td>...</td>\n",
       "      <td>...</td>\n",
       "    </tr>\n",
       "    <tr>\n",
       "      <th>15630</th>\n",
       "      <td>-0.266806</td>\n",
       "      <td>-0.20429</td>\n",
       "      <td>0.024317</td>\n",
       "      <td>-0.119351</td>\n",
       "      <td>-0.225421</td>\n",
       "      <td>0</td>\n",
       "    </tr>\n",
       "    <tr>\n",
       "      <th>15631</th>\n",
       "      <td>-0.266806</td>\n",
       "      <td>-0.20429</td>\n",
       "      <td>-0.033726</td>\n",
       "      <td>-0.119351</td>\n",
       "      <td>-0.225421</td>\n",
       "      <td>0</td>\n",
       "    </tr>\n",
       "    <tr>\n",
       "      <th>15632</th>\n",
       "      <td>-0.266806</td>\n",
       "      <td>-0.20429</td>\n",
       "      <td>0.811838</td>\n",
       "      <td>-0.119351</td>\n",
       "      <td>-0.225421</td>\n",
       "      <td>0</td>\n",
       "    </tr>\n",
       "    <tr>\n",
       "      <th>15633</th>\n",
       "      <td>-0.266806</td>\n",
       "      <td>-0.20429</td>\n",
       "      <td>-0.033726</td>\n",
       "      <td>1.447396</td>\n",
       "      <td>0.773197</td>\n",
       "      <td>1</td>\n",
       "    </tr>\n",
       "    <tr>\n",
       "      <th>15634</th>\n",
       "      <td>-0.266806</td>\n",
       "      <td>-0.20429</td>\n",
       "      <td>0.601743</td>\n",
       "      <td>-0.119351</td>\n",
       "      <td>-0.225421</td>\n",
       "      <td>0</td>\n",
       "    </tr>\n",
       "  </tbody>\n",
       "</table>\n",
       "<p>15635 rows × 6 columns</p>\n",
       "</div>"
      ],
      "text/plain": [
       "       WoE_cut_ab_inventory  WoE_cut_ab_losses  WoE_cut_ogrn_age  \\\n",
       "0                 -0.266806           -0.20429          0.601743   \n",
       "1                 -0.266806           -0.20429          0.811838   \n",
       "2                 -0.266806           -0.20429          0.601743   \n",
       "3                 -0.266806           -0.20429          0.601743   \n",
       "4                  0.631790           -0.20429         -0.625471   \n",
       "...                     ...                ...               ...   \n",
       "15630             -0.266806           -0.20429          0.024317   \n",
       "15631             -0.266806           -0.20429         -0.033726   \n",
       "15632             -0.266806           -0.20429          0.811838   \n",
       "15633             -0.266806           -0.20429         -0.033726   \n",
       "15634             -0.266806           -0.20429          0.601743   \n",
       "\n",
       "       WoE_cut_ul_staff_range  WoE_cut_OPEX  default_12m  \n",
       "0                   -0.119351     -0.225421            0  \n",
       "1                   -0.119351     -0.225421            0  \n",
       "2                   -0.119351     -0.225421            0  \n",
       "3                    1.447396      0.773197            0  \n",
       "4                   -0.119351      0.391604            0  \n",
       "...                       ...           ...          ...  \n",
       "15630               -0.119351     -0.225421            0  \n",
       "15631               -0.119351     -0.225421            0  \n",
       "15632               -0.119351     -0.225421            0  \n",
       "15633                1.447396      0.773197            1  \n",
       "15634               -0.119351     -0.225421            0  \n",
       "\n",
       "[15635 rows x 6 columns]"
      ]
     },
     "execution_count": 82,
     "metadata": {},
     "output_type": "execute_result"
    }
   ],
   "source": [
    "df_fin_train_feature_complex_fillna_iv_fin"
   ]
  },
  {
   "cell_type": "code",
   "execution_count": 83,
   "metadata": {},
   "outputs": [],
   "source": [
    "test_feat_iv = [column_name[4:] for column_name in feat_iv[:-1]]"
   ]
  },
  {
   "cell_type": "code",
   "execution_count": 84,
   "metadata": {},
   "outputs": [],
   "source": [
    "# woe для тестовой выборки \n",
    "\n",
    "df_fin_test_feature_complex_fillna = df_fin_test_feature_complex_fillna[test_feat_iv]\n",
    "\n"
   ]
  },
  {
   "cell_type": "code",
   "execution_count": 85,
   "metadata": {},
   "outputs": [],
   "source": [
    "# # woe для тестовой выборки \n",
    "# df_fin_test_feature_complex_fillna = df_fin_test_feature_complex_fillna[['ab_losses', 'ar_net_profit', \n",
    "#                                                                         'ul_staff_range', 'ogrn_age']]\n"
   ]
  },
  {
   "cell_type": "code",
   "execution_count": 86,
   "metadata": {},
   "outputs": [],
   "source": [
    "final_test = pd.DataFrame()\n",
    "for cut_label,label in zip(feat_iv,test_feat_iv):\n",
    "    ab_losses_woe = calc_woe_iv(df_fin_train_feature_complex_fillna_iv, cut_label, 'default_12m')[0]\n",
    "    ab_losses_arr = list(ab_losses_woe['value'])\n",
    "    test_bins = pd.DataFrame(pd.cut(df_fin_test_feature_complex_fillna[label], bins = pd.IntervalIndex(ab_losses_arr)))\n",
    "    test_ab_losses_woe = test_bins.merge(ab_losses_woe, how='left', left_on=label, right_on = 'value')['WoE_'+cut_label]\n",
    "    test_ab_losses_woe = test_bins.merge(ab_losses_woe, how='left', left_on=label, right_on = 'value')['WoE_'+cut_label]\n",
    "    final_test = pd.concat([final_test,pd.DataFrame(test_ab_losses_woe)],axis =1)"
   ]
  },
  {
   "cell_type": "code",
   "execution_count": 87,
   "metadata": {},
   "outputs": [],
   "source": [
    "# # ab_losses\n",
    "# ab_losses_woe = calc_woe_iv(df_fin_train_feature_complex_fillna_iv, 'cut_ab_losses', 'default_12m')[0]\n",
    "# ab_losses_arr = list(ab_losses_woe['value'])\n",
    "# test_bins = pd.DataFrame(pd.cut(df_fin_test_feature_complex_fillna['ab_losses'], bins = pd.IntervalIndex(ab_losses_arr)))\n",
    "# test_ab_losses_woe = test_bins.merge(ab_losses_woe, how='left', left_on='ab_losses', right_on = 'value')['WoE_cut_ab_losses']\n",
    "# test_ab_losses_woe = test_bins.merge(ab_losses_woe, how='left', left_on='ab_losses', right_on = 'value')['WoE_cut_ab_losses']"
   ]
  },
  {
   "cell_type": "code",
   "execution_count": 88,
   "metadata": {},
   "outputs": [],
   "source": [
    "# # ar_net_profit\n",
    "# ar_net_profit_woe = calc_woe_iv(df_fin_train_feature_complex_fillna_iv, 'cut_ar_net_profit', 'default_12m')[0]\n",
    "# ar_net_profit_arr = list(ar_net_profit_woe['value'])\n",
    "# test_bins = pd.DataFrame(pd.cut(df_fin_test_feature_complex_fillna['ar_net_profit'], bins = pd.IntervalIndex(ar_net_profit_arr)))\n",
    "# test_ar_net_profit_woe = test_bins.merge(ar_net_profit_woe, how='left', left_on='ar_net_profit', right_on = 'value')['WoE_cut_ar_net_profit']\n",
    "# test_ar_net_profit_woe = test_bins.merge(ar_net_profit_woe, how='left', left_on='ar_net_profit', right_on = 'value')['WoE_cut_ar_net_profit']"
   ]
  },
  {
   "cell_type": "code",
   "execution_count": 89,
   "metadata": {},
   "outputs": [],
   "source": [
    "# # ul_staff_range\n",
    "# ul_staff_range_woe = calc_woe_iv(df_fin_train_feature_complex_fillna_iv, 'cut_ul_staff_range', 'default_12m')[0]\n",
    "# ul_staff_range_arr = list(ul_staff_range_woe['value'])\n",
    "# test_bins = pd.DataFrame(pd.cut(df_fin_test_feature_complex_fillna['ul_staff_range'], bins = pd.IntervalIndex(ul_staff_range_arr)))\n",
    "# test_ul_staff_range_woe = test_bins.merge(ul_staff_range_woe, how='left', left_on='ul_staff_range', right_on = 'value')['WoE_cut_ul_staff_range']\n",
    "# test_ul_staff_range_woe = test_bins.merge(ul_staff_range_woe, how='left', left_on='ul_staff_range', right_on = 'value')['WoE_cut_ul_staff_range']"
   ]
  },
  {
   "cell_type": "code",
   "execution_count": 90,
   "metadata": {},
   "outputs": [],
   "source": [
    "# # ogrn_age\n",
    "# ogrn_age_woe = calc_woe_iv(df_fin_train_feature_complex_fillna_iv, 'cut_ogrn_age', 'default_12m')[0]\n",
    "# ogrn_age_arr = list(ogrn_age_woe['value'])\n",
    "# test_bins = pd.DataFrame(pd.cut(df_fin_test_feature_complex_fillna['ogrn_age'], bins = pd.IntervalIndex(ogrn_age_arr)))\n",
    "# test_ogrn_age_woe = test_bins.merge(ogrn_age_woe, how='left', left_on='ogrn_age', right_on = 'value')['WoE_cut_ogrn_age']\n",
    "# test_ogrn_age_woe = test_bins.merge(ogrn_age_woe, how='left', left_on='ogrn_age', right_on = 'value')['WoE_cut_ogrn_age']"
   ]
  },
  {
   "cell_type": "code",
   "execution_count": 91,
   "metadata": {},
   "outputs": [],
   "source": [
    "# final_test = pd.concat([pd.DataFrame(test_ogrn_age_woe), pd.DataFrame(test_ul_staff_range_woe),\n",
    "#          pd.DataFrame(test_ar_net_profit_woe), pd.DataFrame(test_ab_losses_woe)],axis = 1)"
   ]
  },
  {
   "cell_type": "code",
   "execution_count": 92,
   "metadata": {
    "scrolled": false
   },
   "outputs": [],
   "source": [
    "#df_no_fin_test #= df_no_fin_test.drop('record_id',axis = 1)\n"
   ]
  },
  {
   "cell_type": "code",
   "execution_count": 93,
   "metadata": {},
   "outputs": [],
   "source": [
    "# нужно произвести заново деление по woe признакам\n",
    "\n",
    "X_train_fin = df_fin_train_feature_complex_fillna_iv_fin.drop('default_12m', axis = 1) \n",
    "y_train_fin = df_fin_train_feature_complex_fillna_iv_fin['default_12m']\n",
    "\n",
    "X_train_no_fin = df_no_fin_train_dropna.drop('default_12m',axis = 1) \n",
    "y_train_no_fin = df_no_fin_train_dropna['default_12m']\n"
   ]
  },
  {
   "cell_type": "markdown",
   "metadata": {
    "id": "VnYsAYmnzTHs"
   },
   "source": [
    "## Модель"
   ]
  },
  {
   "cell_type": "markdown",
   "metadata": {
    "id": "kI7Vc9DBzcq6"
   },
   "source": [
    "[ДОБАВИТЬ БУКОВ]"
   ]
  },
  {
   "cell_type": "code",
   "execution_count": 94,
   "metadata": {
    "id": "OE9jRpbJFmKF"
   },
   "outputs": [
    {
     "data": {
      "text/plain": [
       "GridSearchCV(estimator=Pipeline(steps=[('smote', SMOTE(random_state=42)),\n",
       "                                       ('stand', StandardScaler()),\n",
       "                                       ('model',\n",
       "                                        LogisticRegression(max_iter=1000))]),\n",
       "             param_grid={'model__C': array([3.16227766e+00, 7.74263683e-01, 1.89573565e-01, 4.64158883e-02,\n",
       "       1.13646367e-02, 2.78255940e-03, 6.81292069e-04, 1.66810054e-04,\n",
       "       4.08423865e-05, 1.00000000e-05]),\n",
       "                         'smote__k_neighbors': range(2, 12)},\n",
       "             scoring='accuracy')"
      ]
     },
     "execution_count": 94,
     "metadata": {},
     "output_type": "execute_result"
    }
   ],
   "source": [
    "steps = [\n",
    "         ('smote',SMOTE(random_state=42)),\n",
    "         ('stand',StandardScaler()), \n",
    "         ('model', LogisticRegression(max_iter=1000))\n",
    "         ]\n",
    "\n",
    "LGREG = Pipeline(steps=steps)\n",
    "\n",
    "# Зададим диапазон перебора параметра\n",
    "parametrs_logreg = {'model__C': np.logspace(0.5, -5, 10),\n",
    "                    'smote__k_neighbors': range(2, 12)}\n",
    "\n",
    "# parametrs_Logreg = {'model__C':[0.0006951927961775605],'smote__k_neighbors':[9]}\n",
    "\n",
    "\n",
    "# Инициализируем кросс-валидационный перебор параметра\n",
    "grid_logreg_no_fin = GridSearchCV(LGREG,\n",
    "                                  parametrs_logreg,\n",
    "                                  scoring='accuracy'\n",
    "                                  )\n",
    "\n",
    "# Обучим модель\n",
    "grid_logreg_no_fin.fit(X_train_no_fin,\n",
    "                       y_train_no_fin)"
   ]
  },
  {
   "cell_type": "code",
   "execution_count": 95,
   "metadata": {
    "id": "WZUmP31FFmKF"
   },
   "outputs": [
    {
     "data": {
      "text/plain": [
       "0.62496328928047"
      ]
     },
     "execution_count": 95,
     "metadata": {},
     "output_type": "execute_result"
    }
   ],
   "source": [
    "grid_logreg_no_fin.best_score_"
   ]
  },
  {
   "cell_type": "code",
   "execution_count": 96,
   "metadata": {
    "id": "zvh3bDPZFmKG"
   },
   "outputs": [
    {
     "data": {
      "text/plain": [
       "{'model__C': 3.1622776601683795, 'smote__k_neighbors': 4}"
      ]
     },
     "execution_count": 96,
     "metadata": {},
     "output_type": "execute_result"
    }
   ],
   "source": [
    "grid_logreg_no_fin.best_params_"
   ]
  },
  {
   "cell_type": "code",
   "execution_count": 97,
   "metadata": {
    "id": "dpo9OO3dFmKG"
   },
   "outputs": [
    {
     "data": {
      "text/plain": [
       "0    0.897699\n",
       "1    0.102301\n",
       "Name: default_12m, dtype: float64"
      ]
     },
     "execution_count": 97,
     "metadata": {},
     "output_type": "execute_result"
    }
   ],
   "source": [
    "y_train_no_fin.value_counts(normalize=True)"
   ]
  },
  {
   "cell_type": "code",
   "execution_count": 98,
   "metadata": {
    "id": "sv1oWoCtFmKG"
   },
   "outputs": [
    {
     "data": {
      "text/plain": [
       "GridSearchCV(estimator=Pipeline(steps=[('smote', SMOTE(random_state=42)),\n",
       "                                       ('stand', StandardScaler()),\n",
       "                                       ('model',\n",
       "                                        LogisticRegression(max_iter=1000))]),\n",
       "             param_grid={'model__C': array([1.00000000e+00, 2.78255940e-01, 7.74263683e-02, 2.15443469e-02,\n",
       "       5.99484250e-03, 1.66810054e-03, 4.64158883e-04, 1.29154967e-04,\n",
       "       3.59381366e-05, 1.00000000e-05]),\n",
       "                         'smote__k_neighbors': range(2, 12)},\n",
       "             scoring='accuracy')"
      ]
     },
     "execution_count": 98,
     "metadata": {},
     "output_type": "execute_result"
    }
   ],
   "source": [
    "steps = [\n",
    "         ('smote', SMOTE(random_state=42)),\n",
    "         ('stand', StandardScaler()), \n",
    "         ('model', LogisticRegression(max_iter=1000))\n",
    "         ]\n",
    "\n",
    "LGREG = Pipeline(steps=steps)\n",
    "\n",
    "# Зададим диапазон перебора параметра\n",
    "parametrs_logreg = {'model__C':np.logspace(0,-5,10),\n",
    "                    'smote__k_neighbors':range(2,12)}\n",
    "\n",
    "# Инициализируем кросс-валидационный перебор параметра\n",
    "grid_logreg_fin= GridSearchCV(LGREG, \n",
    "                              parametrs_logreg, \n",
    "                              scoring='accuracy')\n",
    "\n",
    "# Обучим модель\n",
    "grid_logreg_fin.fit(X_train_fin,\n",
    "                       y_train_fin)"
   ]
  },
  {
   "cell_type": "code",
   "execution_count": 99,
   "metadata": {
    "id": "Jksx2fjjFmKG"
   },
   "outputs": [
    {
     "data": {
      "text/plain": [
       "0.5885513271506235"
      ]
     },
     "execution_count": 99,
     "metadata": {},
     "output_type": "execute_result"
    }
   ],
   "source": [
    "grid_logreg_fin.best_score_"
   ]
  },
  {
   "cell_type": "code",
   "execution_count": 100,
   "metadata": {
    "id": "gZ9zz18yFmKG"
   },
   "outputs": [
    {
     "data": {
      "text/plain": [
       "{'model__C': 1.0, 'smote__k_neighbors': 7}"
      ]
     },
     "execution_count": 100,
     "metadata": {},
     "output_type": "execute_result"
    }
   ],
   "source": [
    "grid_logreg_fin.best_params_"
   ]
  },
  {
   "cell_type": "code",
   "execution_count": 101,
   "metadata": {},
   "outputs": [],
   "source": [
    "final_test = final_test.fillna(final_test.mode().iloc[0])"
   ]
  },
  {
   "cell_type": "markdown",
   "metadata": {
    "id": "LkG4KeYsz6eh"
   },
   "source": [
    "### Выгрузка результата\n"
   ]
  },
  {
   "cell_type": "code",
   "execution_count": 102,
   "metadata": {},
   "outputs": [],
   "source": [
    "df_no_fin_test_dropna = df_no_fin_test_dropna.drop('record_id',axis = 1)"
   ]
  },
  {
   "cell_type": "code",
   "execution_count": 103,
   "metadata": {
    "id": "CDxrTJWPFmKH"
   },
   "outputs": [],
   "source": [
    "preds_no_fin = grid_logreg_no_fin.predict(df_no_fin_test_dropna)\n",
    "\n",
    "preds_fin = grid_logreg_fin.predict(final_test)"
   ]
  },
  {
   "cell_type": "code",
   "execution_count": 104,
   "metadata": {
    "id": "bCZ4dcnMFmKH"
   },
   "outputs": [],
   "source": [
    "# ДОДЕЛАТЬ (просто вытянуть по индексу id)\n",
    "\n",
    "answ_fin = pd.DataFrame()\n",
    "answ_fin['id'] = record_id_test_fin\n",
    "answ_fin['predict'] = preds_fin\n",
    "\n",
    "answ_no_fin = pd.DataFrame()\n",
    "answ_no_fin['id'] = record_id_test_no_fin\n",
    "answ_no_fin['predict'] = preds_no_fin\n",
    "\n",
    "answ_df = pd.concat([answ_no_fin,answ_fin],sort=False)"
   ]
  },
  {
   "cell_type": "code",
   "execution_count": 105,
   "metadata": {
    "id": "roSV3RcIFmKH"
   },
   "outputs": [],
   "source": [
    "answ_df = answ_df.reset_index(drop = True)"
   ]
  },
  {
   "cell_type": "code",
   "execution_count": 106,
   "metadata": {},
   "outputs": [
    {
     "data": {
      "text/plain": [
       "(200, 2)"
      ]
     },
     "execution_count": 106,
     "metadata": {},
     "output_type": "execute_result"
    }
   ],
   "source": [
    "answ_df.shape"
   ]
  },
  {
   "cell_type": "code",
   "execution_count": 107,
   "metadata": {
    "id": "zRO7irEfFmKH"
   },
   "outputs": [],
   "source": [
    "answ_df.to_csv('PD-submit_woe_accuracy_low_thr.csv',index=False, sep=';')"
   ]
  },
  {
   "cell_type": "markdown",
   "metadata": {
    "id": "9jXu6XhSH5lD"
   },
   "source": [
    "## Рекомендации"
   ]
  },
  {
   "cell_type": "code",
   "execution_count": null,
   "metadata": {
    "id": "HqHxD9PxI29f"
   },
   "outputs": [],
   "source": []
  }
 ],
 "metadata": {
  "colab": {
   "collapsed_sections": [],
   "name": "file_for_model_experiments.ipynb",
   "provenance": []
  },
  "kernelspec": {
   "display_name": "Python 3",
   "language": "python",
   "name": "python3"
  },
  "language_info": {
   "codemirror_mode": {
    "name": "ipython",
    "version": 3
   },
   "file_extension": ".py",
   "mimetype": "text/x-python",
   "name": "python",
   "nbconvert_exporter": "python",
   "pygments_lexer": "ipython3",
   "version": "3.8.3"
  },
  "toc": {
   "base_numbering": 1,
   "nav_menu": {},
   "number_sections": true,
   "sideBar": true,
   "skip_h1_title": false,
   "title_cell": "Содержание",
   "title_sidebar": "Contents",
   "toc_cell": true,
   "toc_position": {},
   "toc_section_display": true,
   "toc_window_display": true
  }
 },
 "nbformat": 4,
 "nbformat_minor": 1
}
